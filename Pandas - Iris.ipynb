{
 "cells": [
  {
   "cell_type": "code",
   "execution_count": 1,
   "id": "93a4a2e5",
   "metadata": {},
   "outputs": [],
   "source": [
    "import numpy as np"
   ]
  },
  {
   "cell_type": "code",
   "execution_count": 2,
   "id": "df157ceb",
   "metadata": {},
   "outputs": [
    {
     "data": {
      "text/plain": [
       "array([0, 1, 2, 3, 4, 5, 6, 7, 8, 9])"
      ]
     },
     "execution_count": 2,
     "metadata": {},
     "output_type": "execute_result"
    }
   ],
   "source": [
    "np.arange(0,10)"
   ]
  },
  {
   "cell_type": "code",
   "execution_count": 3,
   "id": "bb392a33",
   "metadata": {},
   "outputs": [
    {
     "data": {
      "text/plain": [
       "array([5, 7, 9])"
      ]
     },
     "execution_count": 3,
     "metadata": {},
     "output_type": "execute_result"
    }
   ],
   "source": [
    "a = np.array([1, 2, 3])\n",
    "b = np.array([4, 5, 6])\n",
    "\n",
    "suma = a + b\n",
    "suma"
   ]
  },
  {
   "cell_type": "code",
   "execution_count": 4,
   "id": "d13971d8",
   "metadata": {},
   "outputs": [
    {
     "data": {
      "text/plain": [
       "array([14, 19, 13, 14, 16, 14, 12, 17, 19, 17])"
      ]
     },
     "execution_count": 4,
     "metadata": {},
     "output_type": "execute_result"
    }
   ],
   "source": [
    "np.random.uniform(10, 20, 10).astype(int)"
   ]
  },
  {
   "cell_type": "code",
   "execution_count": 5,
   "id": "2a8452c4",
   "metadata": {},
   "outputs": [],
   "source": [
    "import pandas as pd"
   ]
  },
  {
   "cell_type": "code",
   "execution_count": 7,
   "id": "bfd5495a",
   "metadata": {},
   "outputs": [
    {
     "ename": "PermissionError",
     "evalue": "[Errno 13] Permission denied: './'",
     "output_type": "error",
     "traceback": [
      "\u001b[1;31m---------------------------------------------------------------------------\u001b[0m",
      "\u001b[1;31mPermissionError\u001b[0m                           Traceback (most recent call last)",
      "Cell \u001b[1;32mIn[7], line 1\u001b[0m\n\u001b[1;32m----> 1\u001b[0m df \u001b[38;5;241m=\u001b[39m pd\u001b[38;5;241m.\u001b[39mread_csv(\u001b[38;5;124m'\u001b[39m\u001b[38;5;124m./\u001b[39m\u001b[38;5;124m'\u001b[39m, header \u001b[38;5;241m=\u001b[39m \u001b[38;5;28;01mNone\u001b[39;00m)\n",
      "File \u001b[1;32m~\\anaconda3\\Lib\\site-packages\\pandas\\io\\parsers\\readers.py:912\u001b[0m, in \u001b[0;36mread_csv\u001b[1;34m(filepath_or_buffer, sep, delimiter, header, names, index_col, usecols, dtype, engine, converters, true_values, false_values, skipinitialspace, skiprows, skipfooter, nrows, na_values, keep_default_na, na_filter, verbose, skip_blank_lines, parse_dates, infer_datetime_format, keep_date_col, date_parser, date_format, dayfirst, cache_dates, iterator, chunksize, compression, thousands, decimal, lineterminator, quotechar, quoting, doublequote, escapechar, comment, encoding, encoding_errors, dialect, on_bad_lines, delim_whitespace, low_memory, memory_map, float_precision, storage_options, dtype_backend)\u001b[0m\n\u001b[0;32m    899\u001b[0m kwds_defaults \u001b[38;5;241m=\u001b[39m _refine_defaults_read(\n\u001b[0;32m    900\u001b[0m     dialect,\n\u001b[0;32m    901\u001b[0m     delimiter,\n\u001b[1;32m   (...)\u001b[0m\n\u001b[0;32m    908\u001b[0m     dtype_backend\u001b[38;5;241m=\u001b[39mdtype_backend,\n\u001b[0;32m    909\u001b[0m )\n\u001b[0;32m    910\u001b[0m kwds\u001b[38;5;241m.\u001b[39mupdate(kwds_defaults)\n\u001b[1;32m--> 912\u001b[0m \u001b[38;5;28;01mreturn\u001b[39;00m _read(filepath_or_buffer, kwds)\n",
      "File \u001b[1;32m~\\anaconda3\\Lib\\site-packages\\pandas\\io\\parsers\\readers.py:577\u001b[0m, in \u001b[0;36m_read\u001b[1;34m(filepath_or_buffer, kwds)\u001b[0m\n\u001b[0;32m    574\u001b[0m _validate_names(kwds\u001b[38;5;241m.\u001b[39mget(\u001b[38;5;124m\"\u001b[39m\u001b[38;5;124mnames\u001b[39m\u001b[38;5;124m\"\u001b[39m, \u001b[38;5;28;01mNone\u001b[39;00m))\n\u001b[0;32m    576\u001b[0m \u001b[38;5;66;03m# Create the parser.\u001b[39;00m\n\u001b[1;32m--> 577\u001b[0m parser \u001b[38;5;241m=\u001b[39m TextFileReader(filepath_or_buffer, \u001b[38;5;241m*\u001b[39m\u001b[38;5;241m*\u001b[39mkwds)\n\u001b[0;32m    579\u001b[0m \u001b[38;5;28;01mif\u001b[39;00m chunksize \u001b[38;5;129;01mor\u001b[39;00m iterator:\n\u001b[0;32m    580\u001b[0m     \u001b[38;5;28;01mreturn\u001b[39;00m parser\n",
      "File \u001b[1;32m~\\anaconda3\\Lib\\site-packages\\pandas\\io\\parsers\\readers.py:1407\u001b[0m, in \u001b[0;36mTextFileReader.__init__\u001b[1;34m(self, f, engine, **kwds)\u001b[0m\n\u001b[0;32m   1404\u001b[0m     \u001b[38;5;28mself\u001b[39m\u001b[38;5;241m.\u001b[39moptions[\u001b[38;5;124m\"\u001b[39m\u001b[38;5;124mhas_index_names\u001b[39m\u001b[38;5;124m\"\u001b[39m] \u001b[38;5;241m=\u001b[39m kwds[\u001b[38;5;124m\"\u001b[39m\u001b[38;5;124mhas_index_names\u001b[39m\u001b[38;5;124m\"\u001b[39m]\n\u001b[0;32m   1406\u001b[0m \u001b[38;5;28mself\u001b[39m\u001b[38;5;241m.\u001b[39mhandles: IOHandles \u001b[38;5;241m|\u001b[39m \u001b[38;5;28;01mNone\u001b[39;00m \u001b[38;5;241m=\u001b[39m \u001b[38;5;28;01mNone\u001b[39;00m\n\u001b[1;32m-> 1407\u001b[0m \u001b[38;5;28mself\u001b[39m\u001b[38;5;241m.\u001b[39m_engine \u001b[38;5;241m=\u001b[39m \u001b[38;5;28mself\u001b[39m\u001b[38;5;241m.\u001b[39m_make_engine(f, \u001b[38;5;28mself\u001b[39m\u001b[38;5;241m.\u001b[39mengine)\n",
      "File \u001b[1;32m~\\anaconda3\\Lib\\site-packages\\pandas\\io\\parsers\\readers.py:1661\u001b[0m, in \u001b[0;36mTextFileReader._make_engine\u001b[1;34m(self, f, engine)\u001b[0m\n\u001b[0;32m   1659\u001b[0m     \u001b[38;5;28;01mif\u001b[39;00m \u001b[38;5;124m\"\u001b[39m\u001b[38;5;124mb\u001b[39m\u001b[38;5;124m\"\u001b[39m \u001b[38;5;129;01mnot\u001b[39;00m \u001b[38;5;129;01min\u001b[39;00m mode:\n\u001b[0;32m   1660\u001b[0m         mode \u001b[38;5;241m+\u001b[39m\u001b[38;5;241m=\u001b[39m \u001b[38;5;124m\"\u001b[39m\u001b[38;5;124mb\u001b[39m\u001b[38;5;124m\"\u001b[39m\n\u001b[1;32m-> 1661\u001b[0m \u001b[38;5;28mself\u001b[39m\u001b[38;5;241m.\u001b[39mhandles \u001b[38;5;241m=\u001b[39m get_handle(\n\u001b[0;32m   1662\u001b[0m     f,\n\u001b[0;32m   1663\u001b[0m     mode,\n\u001b[0;32m   1664\u001b[0m     encoding\u001b[38;5;241m=\u001b[39m\u001b[38;5;28mself\u001b[39m\u001b[38;5;241m.\u001b[39moptions\u001b[38;5;241m.\u001b[39mget(\u001b[38;5;124m\"\u001b[39m\u001b[38;5;124mencoding\u001b[39m\u001b[38;5;124m\"\u001b[39m, \u001b[38;5;28;01mNone\u001b[39;00m),\n\u001b[0;32m   1665\u001b[0m     compression\u001b[38;5;241m=\u001b[39m\u001b[38;5;28mself\u001b[39m\u001b[38;5;241m.\u001b[39moptions\u001b[38;5;241m.\u001b[39mget(\u001b[38;5;124m\"\u001b[39m\u001b[38;5;124mcompression\u001b[39m\u001b[38;5;124m\"\u001b[39m, \u001b[38;5;28;01mNone\u001b[39;00m),\n\u001b[0;32m   1666\u001b[0m     memory_map\u001b[38;5;241m=\u001b[39m\u001b[38;5;28mself\u001b[39m\u001b[38;5;241m.\u001b[39moptions\u001b[38;5;241m.\u001b[39mget(\u001b[38;5;124m\"\u001b[39m\u001b[38;5;124mmemory_map\u001b[39m\u001b[38;5;124m\"\u001b[39m, \u001b[38;5;28;01mFalse\u001b[39;00m),\n\u001b[0;32m   1667\u001b[0m     is_text\u001b[38;5;241m=\u001b[39mis_text,\n\u001b[0;32m   1668\u001b[0m     errors\u001b[38;5;241m=\u001b[39m\u001b[38;5;28mself\u001b[39m\u001b[38;5;241m.\u001b[39moptions\u001b[38;5;241m.\u001b[39mget(\u001b[38;5;124m\"\u001b[39m\u001b[38;5;124mencoding_errors\u001b[39m\u001b[38;5;124m\"\u001b[39m, \u001b[38;5;124m\"\u001b[39m\u001b[38;5;124mstrict\u001b[39m\u001b[38;5;124m\"\u001b[39m),\n\u001b[0;32m   1669\u001b[0m     storage_options\u001b[38;5;241m=\u001b[39m\u001b[38;5;28mself\u001b[39m\u001b[38;5;241m.\u001b[39moptions\u001b[38;5;241m.\u001b[39mget(\u001b[38;5;124m\"\u001b[39m\u001b[38;5;124mstorage_options\u001b[39m\u001b[38;5;124m\"\u001b[39m, \u001b[38;5;28;01mNone\u001b[39;00m),\n\u001b[0;32m   1670\u001b[0m )\n\u001b[0;32m   1671\u001b[0m \u001b[38;5;28;01massert\u001b[39;00m \u001b[38;5;28mself\u001b[39m\u001b[38;5;241m.\u001b[39mhandles \u001b[38;5;129;01mis\u001b[39;00m \u001b[38;5;129;01mnot\u001b[39;00m \u001b[38;5;28;01mNone\u001b[39;00m\n\u001b[0;32m   1672\u001b[0m f \u001b[38;5;241m=\u001b[39m \u001b[38;5;28mself\u001b[39m\u001b[38;5;241m.\u001b[39mhandles\u001b[38;5;241m.\u001b[39mhandle\n",
      "File \u001b[1;32m~\\anaconda3\\Lib\\site-packages\\pandas\\io\\common.py:859\u001b[0m, in \u001b[0;36mget_handle\u001b[1;34m(path_or_buf, mode, encoding, compression, memory_map, is_text, errors, storage_options)\u001b[0m\n\u001b[0;32m    854\u001b[0m \u001b[38;5;28;01melif\u001b[39;00m \u001b[38;5;28misinstance\u001b[39m(handle, \u001b[38;5;28mstr\u001b[39m):\n\u001b[0;32m    855\u001b[0m     \u001b[38;5;66;03m# Check whether the filename is to be opened in binary mode.\u001b[39;00m\n\u001b[0;32m    856\u001b[0m     \u001b[38;5;66;03m# Binary mode does not support 'encoding' and 'newline'.\u001b[39;00m\n\u001b[0;32m    857\u001b[0m     \u001b[38;5;28;01mif\u001b[39;00m ioargs\u001b[38;5;241m.\u001b[39mencoding \u001b[38;5;129;01mand\u001b[39;00m \u001b[38;5;124m\"\u001b[39m\u001b[38;5;124mb\u001b[39m\u001b[38;5;124m\"\u001b[39m \u001b[38;5;129;01mnot\u001b[39;00m \u001b[38;5;129;01min\u001b[39;00m ioargs\u001b[38;5;241m.\u001b[39mmode:\n\u001b[0;32m    858\u001b[0m         \u001b[38;5;66;03m# Encoding\u001b[39;00m\n\u001b[1;32m--> 859\u001b[0m         handle \u001b[38;5;241m=\u001b[39m \u001b[38;5;28mopen\u001b[39m(\n\u001b[0;32m    860\u001b[0m             handle,\n\u001b[0;32m    861\u001b[0m             ioargs\u001b[38;5;241m.\u001b[39mmode,\n\u001b[0;32m    862\u001b[0m             encoding\u001b[38;5;241m=\u001b[39mioargs\u001b[38;5;241m.\u001b[39mencoding,\n\u001b[0;32m    863\u001b[0m             errors\u001b[38;5;241m=\u001b[39merrors,\n\u001b[0;32m    864\u001b[0m             newline\u001b[38;5;241m=\u001b[39m\u001b[38;5;124m\"\u001b[39m\u001b[38;5;124m\"\u001b[39m,\n\u001b[0;32m    865\u001b[0m         )\n\u001b[0;32m    866\u001b[0m     \u001b[38;5;28;01melse\u001b[39;00m:\n\u001b[0;32m    867\u001b[0m         \u001b[38;5;66;03m# Binary mode\u001b[39;00m\n\u001b[0;32m    868\u001b[0m         handle \u001b[38;5;241m=\u001b[39m \u001b[38;5;28mopen\u001b[39m(handle, ioargs\u001b[38;5;241m.\u001b[39mmode)\n",
      "\u001b[1;31mPermissionError\u001b[0m: [Errno 13] Permission denied: './'"
     ]
    }
   ],
   "source": [
    "df = pd.read_csv('iris', header = None)"
   ]
  },
  {
   "cell_type": "code",
   "execution_count": null,
   "id": "8388825a",
   "metadata": {},
   "outputs": [],
   "source": [
    "df"
   ]
  },
  {
   "cell_type": "code",
   "execution_count": null,
   "id": "0b490e99",
   "metadata": {},
   "outputs": [],
   "source": [
    "df.head()"
   ]
  },
  {
   "cell_type": "code",
   "execution_count": null,
   "id": "9c9109a1",
   "metadata": {},
   "outputs": [],
   "source": [
    "df.tail(10)"
   ]
  },
  {
   "cell_type": "code",
   "execution_count": null,
   "id": "cfb35639",
   "metadata": {},
   "outputs": [],
   "source": [
    "nombres = ['longitud sepalo', 'ancho sepalo', 'longitud petalo', 'ancho petalo', 'clase']\n",
    "nombres"
   ]
  },
  {
   "cell_type": "code",
   "execution_count": null,
   "id": "376cfd9c",
   "metadata": {},
   "outputs": [],
   "source": [
    "df.columns = nombres"
   ]
  },
  {
   "cell_type": "code",
   "execution_count": null,
   "id": "8763a5bb",
   "metadata": {},
   "outputs": [],
   "source": [
    "df.head()"
   ]
  },
  {
   "cell_type": "code",
   "execution_count": null,
   "id": "ccf3f19b",
   "metadata": {},
   "outputs": [],
   "source": [
    "df.index"
   ]
  },
  {
   "cell_type": "code",
   "execution_count": null,
   "id": "e1153d30",
   "metadata": {},
   "outputs": [],
   "source": [
    "df.shape"
   ]
  },
  {
   "cell_type": "code",
   "execution_count": null,
   "id": "753057b8",
   "metadata": {},
   "outputs": [],
   "source": [
    "df.describe()"
   ]
  },
  {
   "cell_type": "code",
   "execution_count": null,
   "id": "4892b754",
   "metadata": {},
   "outputs": [],
   "source": [
    "df['clase'].value_counts()"
   ]
  },
  {
   "cell_type": "code",
   "execution_count": null,
   "id": "6630a05d",
   "metadata": {},
   "outputs": [],
   "source": [
    "df.T"
   ]
  },
  {
   "cell_type": "code",
   "execution_count": null,
   "id": "c854a855",
   "metadata": {},
   "outputs": [],
   "source": [
    "df.sort_values('ancho sepalo', ascending = True)"
   ]
  },
  {
   "cell_type": "code",
   "execution_count": null,
   "id": "23d35a3a",
   "metadata": {},
   "outputs": [],
   "source": [
    "df['longitud petalo'][:3]"
   ]
  },
  {
   "cell_type": "code",
   "execution_count": null,
   "id": "a6be95c1",
   "metadata": {},
   "outputs": [],
   "source": [
    "df[ ['longitud sepalo', 'longitud petalo'] ]"
   ]
  },
  {
   "cell_type": "code",
   "execution_count": null,
   "id": "4d916cc8",
   "metadata": {},
   "outputs": [],
   "source": [
    "df [df['longitud sepalo']>5]"
   ]
  },
  {
   "cell_type": "code",
   "execution_count": null,
   "id": "6e684114",
   "metadata": {},
   "outputs": [],
   "source": [
    "df [(df['longitud sepalo']>5) & (df['longitud petalo']>3)]"
   ]
  },
  {
   "cell_type": "code",
   "execution_count": null,
   "id": "1a808190",
   "metadata": {},
   "outputs": [],
   "source": [
    "df['longitud sepalo'].max()"
   ]
  },
  {
   "cell_type": "code",
   "execution_count": null,
   "id": "b63e84f4",
   "metadata": {},
   "outputs": [],
   "source": [
    "df['longitud sepalo'].idxmax()"
   ]
  },
  {
   "cell_type": "code",
   "execution_count": null,
   "id": "664dadf3",
   "metadata": {},
   "outputs": [],
   "source": [
    "df.loc[131]"
   ]
  },
  {
   "cell_type": "code",
   "execution_count": null,
   "id": "b81f0f43",
   "metadata": {},
   "outputs": [],
   "source": [
    "df.isna()"
   ]
  },
  {
   "cell_type": "code",
   "execution_count": null,
   "id": "c4764c3b",
   "metadata": {},
   "outputs": [],
   "source": [
    "df.isna().sum()"
   ]
  },
  {
   "cell_type": "code",
   "execution_count": null,
   "id": "c0e4946b",
   "metadata": {},
   "outputs": [],
   "source": [
    "import numpy as np"
   ]
  },
  {
   "cell_type": "code",
   "execution_count": null,
   "id": "c01c074b",
   "metadata": {},
   "outputs": [],
   "source": [
    "df['longitud petalo'][:2] = np.nan"
   ]
  },
  {
   "cell_type": "code",
   "execution_count": null,
   "id": "31dd3838",
   "metadata": {},
   "outputs": [],
   "source": [
    "df.head()"
   ]
  },
  {
   "cell_type": "code",
   "execution_count": null,
   "id": "f13eb848",
   "metadata": {},
   "outputs": [],
   "source": [
    "df.isna().sum()"
   ]
  },
  {
   "cell_type": "code",
   "execution_count": null,
   "id": "7bf08178",
   "metadata": {},
   "outputs": [],
   "source": [
    "df['longitud petalo'].fillna(2)"
   ]
  },
  {
   "cell_type": "code",
   "execution_count": null,
   "id": "5de50f43",
   "metadata": {},
   "outputs": [],
   "source": [
    "df['longitud petalo'] = df['longitud petalo'].fillna(2)\n",
    "df.head()"
   ]
  },
  {
   "cell_type": "code",
   "execution_count": null,
   "id": "86e76225",
   "metadata": {},
   "outputs": [],
   "source": [
    "df['ancho sepalo'].apply(lambda x: -x)"
   ]
  },
  {
   "cell_type": "code",
   "execution_count": null,
   "id": "ac44704f",
   "metadata": {},
   "outputs": [],
   "source": [
    "df['ancho sepalo'].apply(lambda x: x**2)"
   ]
  },
  {
   "cell_type": "code",
   "execution_count": null,
   "id": "9bebba7c",
   "metadata": {},
   "outputs": [],
   "source": [
    "df.groupby('clase')['ancho petalo'].mean()"
   ]
  },
  {
   "cell_type": "code",
   "execution_count": null,
   "id": "430b5b2d",
   "metadata": {},
   "outputs": [],
   "source": [
    "df.head()"
   ]
  },
  {
   "cell_type": "code",
   "execution_count": null,
   "id": "46856738",
   "metadata": {},
   "outputs": [],
   "source": [
    "condiciones = [\n",
    "    (df['longitud sepalo'] <= 2),\n",
    "    (df['longitud sepalo'] > 3) & (df['longitud sepalo'] <= 5),\n",
    "    (df['longitud sepalo'] > 5)\n",
    "]\n",
    "\n",
    "etiquetas = ['N1', 'N2', 'N3']\n",
    "\n",
    "df['nivel sepalos'] = np.select(condiciones, etiquetas, default='No clasificado')\n",
    "\n",
    "df"
   ]
  },
  {
   "cell_type": "code",
   "execution_count": null,
   "id": "7d4cf4bc",
   "metadata": {},
   "outputs": [],
   "source": [
    "import matplotlib.pyplot as plt"
   ]
  },
  {
   "cell_type": "code",
   "execution_count": null,
   "id": "ad17f359",
   "metadata": {},
   "outputs": [],
   "source": [
    "df['longitud petalo'].plot()"
   ]
  },
  {
   "cell_type": "code",
   "execution_count": null,
   "id": "9406877a",
   "metadata": {},
   "outputs": [],
   "source": [
    "df.plot()"
   ]
  },
  {
   "cell_type": "code",
   "execution_count": null,
   "id": "6528a527",
   "metadata": {},
   "outputs": [],
   "source": [
    "df.plot(figsize=[12,10])"
   ]
  },
  {
   "cell_type": "code",
   "execution_count": null,
   "id": "33b19fad",
   "metadata": {},
   "outputs": [],
   "source": [
    "df['longitud petalo'].plot(kind= 'bar')"
   ]
  },
  {
   "cell_type": "code",
   "execution_count": null,
   "id": "57ebb23d",
   "metadata": {},
   "outputs": [],
   "source": [
    "df = pd.read_csv('data/personas.csv')\n",
    "df.head()"
   ]
  },
  {
   "cell_type": "code",
   "execution_count": null,
   "id": "81b32893",
   "metadata": {},
   "outputs": [],
   "source": [
    "df.columns"
   ]
  },
  {
   "cell_type": "code",
   "execution_count": null,
   "id": "9b659efb",
   "metadata": {},
   "outputs": [],
   "source": [
    "nombres = ['altura', 'peso', 'ingreso hora', 'horas trabajadas semana', 'ausencias']"
   ]
  },
  {
   "cell_type": "code",
   "execution_count": null,
   "id": "74ae34c4",
   "metadata": {},
   "outputs": [],
   "source": [
    "df.columns = nombres"
   ]
  },
  {
   "cell_type": "code",
   "execution_count": null,
   "id": "e0010a6f",
   "metadata": {},
   "outputs": [],
   "source": [
    "df.head()"
   ]
  },
  {
   "cell_type": "markdown",
   "id": "098ffc5e",
   "metadata": {},
   "source": [
    "### Actividad en clase\n",
    "\n",
    "- Crear una columna edad (rango de 18 a 50 años).\n",
    "- Agregar nivel educativo segun edad. Si está entre 18 y 24 es profesional, si está entre 25 y 30 es magíster, mayor a 31 doctor. Para esto deberá crear la columna Nivel Educativo, tipo str.\n",
    "- Calcular y crear la columna Pago sin Ausencias y Pago con Ausencias. Deben ser tipo entero (int).\n",
    "- Calcular la edad promedio de ausencias.\n",
    "- Crear una columna que permita clasificar el ingreso de la persona. Si el dinero total al mes es inferior a un mínimo, colocar la etiqueta N1, si está entre un mínimo y 2, colocar la etiqueta N2 y sueperior a dos salarios mínimos, la etiqueta N3.\n",
    "- Realizar 3 gráficos que considere pertinentes para la interpretación de datos."
   ]
  },
  {
   "cell_type": "code",
   "execution_count": 1,
   "id": "99549e1c",
   "metadata": {},
   "outputs": [
    {
     "data": {
      "text/html": [
       "<div>\n",
       "<style scoped>\n",
       "    .dataframe tbody tr th:only-of-type {\n",
       "        vertical-align: middle;\n",
       "    }\n",
       "\n",
       "    .dataframe tbody tr th {\n",
       "        vertical-align: top;\n",
       "    }\n",
       "\n",
       "    .dataframe thead th {\n",
       "        text-align: right;\n",
       "    }\n",
       "</style>\n",
       "<table border=\"1\" class=\"dataframe\">\n",
       "  <thead>\n",
       "    <tr style=\"text-align: right;\">\n",
       "      <th></th>\n",
       "      <th>altura</th>\n",
       "      <th>peso</th>\n",
       "      <th>ingreso</th>\n",
       "      <th>horas_trabajadas</th>\n",
       "      <th>ausencias</th>\n",
       "    </tr>\n",
       "  </thead>\n",
       "  <tbody>\n",
       "    <tr>\n",
       "      <th>0</th>\n",
       "      <td>134.433878</td>\n",
       "      <td>70.617864</td>\n",
       "      <td>9973.577534</td>\n",
       "      <td>40.905476</td>\n",
       "      <td>4</td>\n",
       "    </tr>\n",
       "    <tr>\n",
       "      <th>1</th>\n",
       "      <td>167.158746</td>\n",
       "      <td>109.268295</td>\n",
       "      <td>8961.047249</td>\n",
       "      <td>41.576483</td>\n",
       "      <td>4</td>\n",
       "    </tr>\n",
       "    <tr>\n",
       "      <th>2</th>\n",
       "      <td>141.480812</td>\n",
       "      <td>81.034644</td>\n",
       "      <td>7437.977263</td>\n",
       "      <td>41.369239</td>\n",
       "      <td>5</td>\n",
       "    </tr>\n",
       "    <tr>\n",
       "      <th>3</th>\n",
       "      <td>123.227119</td>\n",
       "      <td>57.884172</td>\n",
       "      <td>12064.915290</td>\n",
       "      <td>41.537211</td>\n",
       "      <td>3</td>\n",
       "    </tr>\n",
       "    <tr>\n",
       "      <th>4</th>\n",
       "      <td>143.554951</td>\n",
       "      <td>93.581093</td>\n",
       "      <td>9296.396167</td>\n",
       "      <td>40.441203</td>\n",
       "      <td>4</td>\n",
       "    </tr>\n",
       "    <tr>\n",
       "      <th>...</th>\n",
       "      <td>...</td>\n",
       "      <td>...</td>\n",
       "      <td>...</td>\n",
       "      <td>...</td>\n",
       "      <td>...</td>\n",
       "    </tr>\n",
       "    <tr>\n",
       "      <th>995</th>\n",
       "      <td>169.059462</td>\n",
       "      <td>109.612155</td>\n",
       "      <td>9998.522402</td>\n",
       "      <td>41.110352</td>\n",
       "      <td>4</td>\n",
       "    </tr>\n",
       "    <tr>\n",
       "      <th>996</th>\n",
       "      <td>151.873081</td>\n",
       "      <td>91.697127</td>\n",
       "      <td>6867.097603</td>\n",
       "      <td>40.617061</td>\n",
       "      <td>5</td>\n",
       "    </tr>\n",
       "    <tr>\n",
       "      <th>997</th>\n",
       "      <td>131.156800</td>\n",
       "      <td>78.301155</td>\n",
       "      <td>9757.539280</td>\n",
       "      <td>40.798085</td>\n",
       "      <td>4</td>\n",
       "    </tr>\n",
       "    <tr>\n",
       "      <th>998</th>\n",
       "      <td>156.454396</td>\n",
       "      <td>94.163603</td>\n",
       "      <td>11044.031510</td>\n",
       "      <td>41.443604</td>\n",
       "      <td>3</td>\n",
       "    </tr>\n",
       "    <tr>\n",
       "      <th>999</th>\n",
       "      <td>149.558353</td>\n",
       "      <td>87.134622</td>\n",
       "      <td>13222.253800</td>\n",
       "      <td>41.402637</td>\n",
       "      <td>2</td>\n",
       "    </tr>\n",
       "  </tbody>\n",
       "</table>\n",
       "<p>1000 rows × 5 columns</p>\n",
       "</div>"
      ],
      "text/plain": [
       "         altura        peso       ingreso  horas_trabajadas  ausencias\n",
       "0    134.433878   70.617864   9973.577534         40.905476          4\n",
       "1    167.158746  109.268295   8961.047249         41.576483          4\n",
       "2    141.480812   81.034644   7437.977263         41.369239          5\n",
       "3    123.227119   57.884172  12064.915290         41.537211          3\n",
       "4    143.554951   93.581093   9296.396167         40.441203          4\n",
       "..          ...         ...           ...               ...        ...\n",
       "995  169.059462  109.612155   9998.522402         41.110352          4\n",
       "996  151.873081   91.697127   6867.097603         40.617061          5\n",
       "997  131.156800   78.301155   9757.539280         40.798085          4\n",
       "998  156.454396   94.163603  11044.031510         41.443604          3\n",
       "999  149.558353   87.134622  13222.253800         41.402637          2\n",
       "\n",
       "[1000 rows x 5 columns]"
      ]
     },
     "execution_count": 1,
     "metadata": {},
     "output_type": "execute_result"
    }
   ],
   "source": [
    "import pandas as pd\n",
    "import numpy as np\n",
    "df = pd.read_csv('Datos/EjercicioAvocado.ipynb')\n",
    "df"
   ]
  },
  {
   "cell_type": "code",
   "execution_count": 2,
   "id": "ea081666",
   "metadata": {},
   "outputs": [
    {
     "data": {
      "text/html": [
       "<div>\n",
       "<style scoped>\n",
       "    .dataframe tbody tr th:only-of-type {\n",
       "        vertical-align: middle;\n",
       "    }\n",
       "\n",
       "    .dataframe tbody tr th {\n",
       "        vertical-align: top;\n",
       "    }\n",
       "\n",
       "    .dataframe thead th {\n",
       "        text-align: right;\n",
       "    }\n",
       "</style>\n",
       "<table border=\"1\" class=\"dataframe\">\n",
       "  <thead>\n",
       "    <tr style=\"text-align: right;\">\n",
       "      <th></th>\n",
       "      <th>altura</th>\n",
       "      <th>peso</th>\n",
       "      <th>ingreso</th>\n",
       "      <th>horas_trabajadas</th>\n",
       "      <th>ausencias</th>\n",
       "      <th>Edad</th>\n",
       "    </tr>\n",
       "  </thead>\n",
       "  <tbody>\n",
       "    <tr>\n",
       "      <th>0</th>\n",
       "      <td>134.433878</td>\n",
       "      <td>70.617864</td>\n",
       "      <td>9973.577534</td>\n",
       "      <td>40.905476</td>\n",
       "      <td>4</td>\n",
       "      <td>48</td>\n",
       "    </tr>\n",
       "    <tr>\n",
       "      <th>1</th>\n",
       "      <td>167.158746</td>\n",
       "      <td>109.268295</td>\n",
       "      <td>8961.047249</td>\n",
       "      <td>41.576483</td>\n",
       "      <td>4</td>\n",
       "      <td>49</td>\n",
       "    </tr>\n",
       "    <tr>\n",
       "      <th>2</th>\n",
       "      <td>141.480812</td>\n",
       "      <td>81.034644</td>\n",
       "      <td>7437.977263</td>\n",
       "      <td>41.369239</td>\n",
       "      <td>5</td>\n",
       "      <td>32</td>\n",
       "    </tr>\n",
       "    <tr>\n",
       "      <th>3</th>\n",
       "      <td>123.227119</td>\n",
       "      <td>57.884172</td>\n",
       "      <td>12064.915290</td>\n",
       "      <td>41.537211</td>\n",
       "      <td>3</td>\n",
       "      <td>20</td>\n",
       "    </tr>\n",
       "    <tr>\n",
       "      <th>4</th>\n",
       "      <td>143.554951</td>\n",
       "      <td>93.581093</td>\n",
       "      <td>9296.396167</td>\n",
       "      <td>40.441203</td>\n",
       "      <td>4</td>\n",
       "      <td>41</td>\n",
       "    </tr>\n",
       "    <tr>\n",
       "      <th>...</th>\n",
       "      <td>...</td>\n",
       "      <td>...</td>\n",
       "      <td>...</td>\n",
       "      <td>...</td>\n",
       "      <td>...</td>\n",
       "      <td>...</td>\n",
       "    </tr>\n",
       "    <tr>\n",
       "      <th>995</th>\n",
       "      <td>169.059462</td>\n",
       "      <td>109.612155</td>\n",
       "      <td>9998.522402</td>\n",
       "      <td>41.110352</td>\n",
       "      <td>4</td>\n",
       "      <td>48</td>\n",
       "    </tr>\n",
       "    <tr>\n",
       "      <th>996</th>\n",
       "      <td>151.873081</td>\n",
       "      <td>91.697127</td>\n",
       "      <td>6867.097603</td>\n",
       "      <td>40.617061</td>\n",
       "      <td>5</td>\n",
       "      <td>43</td>\n",
       "    </tr>\n",
       "    <tr>\n",
       "      <th>997</th>\n",
       "      <td>131.156800</td>\n",
       "      <td>78.301155</td>\n",
       "      <td>9757.539280</td>\n",
       "      <td>40.798085</td>\n",
       "      <td>4</td>\n",
       "      <td>40</td>\n",
       "    </tr>\n",
       "    <tr>\n",
       "      <th>998</th>\n",
       "      <td>156.454396</td>\n",
       "      <td>94.163603</td>\n",
       "      <td>11044.031510</td>\n",
       "      <td>41.443604</td>\n",
       "      <td>3</td>\n",
       "      <td>27</td>\n",
       "    </tr>\n",
       "    <tr>\n",
       "      <th>999</th>\n",
       "      <td>149.558353</td>\n",
       "      <td>87.134622</td>\n",
       "      <td>13222.253800</td>\n",
       "      <td>41.402637</td>\n",
       "      <td>2</td>\n",
       "      <td>18</td>\n",
       "    </tr>\n",
       "  </tbody>\n",
       "</table>\n",
       "<p>1000 rows × 6 columns</p>\n",
       "</div>"
      ],
      "text/plain": [
       "         altura        peso       ingreso  horas_trabajadas  ausencias  Edad\n",
       "0    134.433878   70.617864   9973.577534         40.905476          4    48\n",
       "1    167.158746  109.268295   8961.047249         41.576483          4    49\n",
       "2    141.480812   81.034644   7437.977263         41.369239          5    32\n",
       "3    123.227119   57.884172  12064.915290         41.537211          3    20\n",
       "4    143.554951   93.581093   9296.396167         40.441203          4    41\n",
       "..          ...         ...           ...               ...        ...   ...\n",
       "995  169.059462  109.612155   9998.522402         41.110352          4    48\n",
       "996  151.873081   91.697127   6867.097603         40.617061          5    43\n",
       "997  131.156800   78.301155   9757.539280         40.798085          4    40\n",
       "998  156.454396   94.163603  11044.031510         41.443604          3    27\n",
       "999  149.558353   87.134622  13222.253800         41.402637          2    18\n",
       "\n",
       "[1000 rows x 6 columns]"
      ]
     },
     "execution_count": 2,
     "metadata": {},
     "output_type": "execute_result"
    }
   ],
   "source": [
    "df['Edad'] = np.random.uniform(18, 50, 1000).astype(int)\n",
    "df"
   ]
  },
  {
   "cell_type": "code",
   "execution_count": 3,
   "id": "849f633c",
   "metadata": {},
   "outputs": [
    {
     "data": {
      "text/html": [
       "<div>\n",
       "<style scoped>\n",
       "    .dataframe tbody tr th:only-of-type {\n",
       "        vertical-align: middle;\n",
       "    }\n",
       "\n",
       "    .dataframe tbody tr th {\n",
       "        vertical-align: top;\n",
       "    }\n",
       "\n",
       "    .dataframe thead th {\n",
       "        text-align: right;\n",
       "    }\n",
       "</style>\n",
       "<table border=\"1\" class=\"dataframe\">\n",
       "  <thead>\n",
       "    <tr style=\"text-align: right;\">\n",
       "      <th></th>\n",
       "      <th>altura</th>\n",
       "      <th>peso</th>\n",
       "      <th>ingreso</th>\n",
       "      <th>horas_trabajadas</th>\n",
       "      <th>ausencias</th>\n",
       "      <th>Edad</th>\n",
       "      <th>Nivel Educativo</th>\n",
       "    </tr>\n",
       "  </thead>\n",
       "  <tbody>\n",
       "    <tr>\n",
       "      <th>0</th>\n",
       "      <td>134.433878</td>\n",
       "      <td>70.617864</td>\n",
       "      <td>9973.577534</td>\n",
       "      <td>40.905476</td>\n",
       "      <td>4</td>\n",
       "      <td>48</td>\n",
       "      <td>Doctor</td>\n",
       "    </tr>\n",
       "    <tr>\n",
       "      <th>1</th>\n",
       "      <td>167.158746</td>\n",
       "      <td>109.268295</td>\n",
       "      <td>8961.047249</td>\n",
       "      <td>41.576483</td>\n",
       "      <td>4</td>\n",
       "      <td>49</td>\n",
       "      <td>Doctor</td>\n",
       "    </tr>\n",
       "    <tr>\n",
       "      <th>2</th>\n",
       "      <td>141.480812</td>\n",
       "      <td>81.034644</td>\n",
       "      <td>7437.977263</td>\n",
       "      <td>41.369239</td>\n",
       "      <td>5</td>\n",
       "      <td>32</td>\n",
       "      <td>Doctor</td>\n",
       "    </tr>\n",
       "    <tr>\n",
       "      <th>3</th>\n",
       "      <td>123.227119</td>\n",
       "      <td>57.884172</td>\n",
       "      <td>12064.915290</td>\n",
       "      <td>41.537211</td>\n",
       "      <td>3</td>\n",
       "      <td>20</td>\n",
       "      <td>Profesional</td>\n",
       "    </tr>\n",
       "    <tr>\n",
       "      <th>4</th>\n",
       "      <td>143.554951</td>\n",
       "      <td>93.581093</td>\n",
       "      <td>9296.396167</td>\n",
       "      <td>40.441203</td>\n",
       "      <td>4</td>\n",
       "      <td>41</td>\n",
       "      <td>Doctor</td>\n",
       "    </tr>\n",
       "    <tr>\n",
       "      <th>...</th>\n",
       "      <td>...</td>\n",
       "      <td>...</td>\n",
       "      <td>...</td>\n",
       "      <td>...</td>\n",
       "      <td>...</td>\n",
       "      <td>...</td>\n",
       "      <td>...</td>\n",
       "    </tr>\n",
       "    <tr>\n",
       "      <th>995</th>\n",
       "      <td>169.059462</td>\n",
       "      <td>109.612155</td>\n",
       "      <td>9998.522402</td>\n",
       "      <td>41.110352</td>\n",
       "      <td>4</td>\n",
       "      <td>48</td>\n",
       "      <td>Doctor</td>\n",
       "    </tr>\n",
       "    <tr>\n",
       "      <th>996</th>\n",
       "      <td>151.873081</td>\n",
       "      <td>91.697127</td>\n",
       "      <td>6867.097603</td>\n",
       "      <td>40.617061</td>\n",
       "      <td>5</td>\n",
       "      <td>43</td>\n",
       "      <td>Doctor</td>\n",
       "    </tr>\n",
       "    <tr>\n",
       "      <th>997</th>\n",
       "      <td>131.156800</td>\n",
       "      <td>78.301155</td>\n",
       "      <td>9757.539280</td>\n",
       "      <td>40.798085</td>\n",
       "      <td>4</td>\n",
       "      <td>40</td>\n",
       "      <td>Doctor</td>\n",
       "    </tr>\n",
       "    <tr>\n",
       "      <th>998</th>\n",
       "      <td>156.454396</td>\n",
       "      <td>94.163603</td>\n",
       "      <td>11044.031510</td>\n",
       "      <td>41.443604</td>\n",
       "      <td>3</td>\n",
       "      <td>27</td>\n",
       "      <td>Magister</td>\n",
       "    </tr>\n",
       "    <tr>\n",
       "      <th>999</th>\n",
       "      <td>149.558353</td>\n",
       "      <td>87.134622</td>\n",
       "      <td>13222.253800</td>\n",
       "      <td>41.402637</td>\n",
       "      <td>2</td>\n",
       "      <td>18</td>\n",
       "      <td>Profesional</td>\n",
       "    </tr>\n",
       "  </tbody>\n",
       "</table>\n",
       "<p>1000 rows × 7 columns</p>\n",
       "</div>"
      ],
      "text/plain": [
       "         altura        peso       ingreso  horas_trabajadas  ausencias  Edad  \\\n",
       "0    134.433878   70.617864   9973.577534         40.905476          4    48   \n",
       "1    167.158746  109.268295   8961.047249         41.576483          4    49   \n",
       "2    141.480812   81.034644   7437.977263         41.369239          5    32   \n",
       "3    123.227119   57.884172  12064.915290         41.537211          3    20   \n",
       "4    143.554951   93.581093   9296.396167         40.441203          4    41   \n",
       "..          ...         ...           ...               ...        ...   ...   \n",
       "995  169.059462  109.612155   9998.522402         41.110352          4    48   \n",
       "996  151.873081   91.697127   6867.097603         40.617061          5    43   \n",
       "997  131.156800   78.301155   9757.539280         40.798085          4    40   \n",
       "998  156.454396   94.163603  11044.031510         41.443604          3    27   \n",
       "999  149.558353   87.134622  13222.253800         41.402637          2    18   \n",
       "\n",
       "    Nivel Educativo  \n",
       "0            Doctor  \n",
       "1            Doctor  \n",
       "2            Doctor  \n",
       "3       Profesional  \n",
       "4            Doctor  \n",
       "..              ...  \n",
       "995          Doctor  \n",
       "996          Doctor  \n",
       "997          Doctor  \n",
       "998        Magister  \n",
       "999     Profesional  \n",
       "\n",
       "[1000 rows x 7 columns]"
      ]
     },
     "execution_count": 3,
     "metadata": {},
     "output_type": "execute_result"
    }
   ],
   "source": [
    "condiciones = [\n",
    "    (df['Edad'] >= 18) & (df['Edad'] <= 24),\n",
    "    (df['Edad'] >= 25) & (df['Edad'] <= 30),\n",
    "    (df['Edad'] >= 31)\n",
    "]\n",
    "\n",
    "etiquetas = ['Profesional', 'Magister', 'Doctor']\n",
    "\n",
    "df['Nivel Educativo'] = np.select(condiciones, etiquetas, default='No clasificado')\n",
    "\n",
    "df"
   ]
  },
  {
   "cell_type": "code",
   "execution_count": 7,
   "id": "85b99c51",
   "metadata": {},
   "outputs": [
    {
     "ename": "KeyError",
     "evalue": "'Pago Total'",
     "output_type": "error",
     "traceback": [
      "\u001b[1;31m---------------------------------------------------------------------------\u001b[0m",
      "\u001b[1;31mKeyError\u001b[0m                                  Traceback (most recent call last)",
      "File \u001b[1;32m~\\anaconda3\\Lib\\site-packages\\pandas\\core\\indexes\\base.py:3653\u001b[0m, in \u001b[0;36mIndex.get_loc\u001b[1;34m(self, key)\u001b[0m\n\u001b[0;32m   3652\u001b[0m \u001b[38;5;28;01mtry\u001b[39;00m:\n\u001b[1;32m-> 3653\u001b[0m     \u001b[38;5;28;01mreturn\u001b[39;00m \u001b[38;5;28mself\u001b[39m\u001b[38;5;241m.\u001b[39m_engine\u001b[38;5;241m.\u001b[39mget_loc(casted_key)\n\u001b[0;32m   3654\u001b[0m \u001b[38;5;28;01mexcept\u001b[39;00m \u001b[38;5;167;01mKeyError\u001b[39;00m \u001b[38;5;28;01mas\u001b[39;00m err:\n",
      "File \u001b[1;32m~\\anaconda3\\Lib\\site-packages\\pandas\\_libs\\index.pyx:147\u001b[0m, in \u001b[0;36mpandas._libs.index.IndexEngine.get_loc\u001b[1;34m()\u001b[0m\n",
      "File \u001b[1;32m~\\anaconda3\\Lib\\site-packages\\pandas\\_libs\\index.pyx:176\u001b[0m, in \u001b[0;36mpandas._libs.index.IndexEngine.get_loc\u001b[1;34m()\u001b[0m\n",
      "File \u001b[1;32mpandas\\_libs\\hashtable_class_helper.pxi:7080\u001b[0m, in \u001b[0;36mpandas._libs.hashtable.PyObjectHashTable.get_item\u001b[1;34m()\u001b[0m\n",
      "File \u001b[1;32mpandas\\_libs\\hashtable_class_helper.pxi:7088\u001b[0m, in \u001b[0;36mpandas._libs.hashtable.PyObjectHashTable.get_item\u001b[1;34m()\u001b[0m\n",
      "\u001b[1;31mKeyError\u001b[0m: 'Pago Total'",
      "\nThe above exception was the direct cause of the following exception:\n",
      "\u001b[1;31mKeyError\u001b[0m                                  Traceback (most recent call last)",
      "Cell \u001b[1;32mIn[7], line 7\u001b[0m\n\u001b[0;32m      4\u001b[0m df[\u001b[38;5;124m'\u001b[39m\u001b[38;5;124mTotal Horas Mensual\u001b[39m\u001b[38;5;124m'\u001b[39m] \u001b[38;5;241m=\u001b[39m (df[\u001b[38;5;124m'\u001b[39m\u001b[38;5;124mhoras_trabajadas\u001b[39m\u001b[38;5;124m'\u001b[39m] \u001b[38;5;241m-\u001b[39m df[\u001b[38;5;124m'\u001b[39m\u001b[38;5;124mausencias\u001b[39m\u001b[38;5;124m'\u001b[39m]) \u001b[38;5;241m*\u001b[39m \u001b[38;5;241m4\u001b[39m\n\u001b[0;32m      6\u001b[0m df[\u001b[38;5;124m'\u001b[39m\u001b[38;5;124mPago Total Mes\u001b[39m\u001b[38;5;124m'\u001b[39m] \u001b[38;5;241m=\u001b[39m df[\u001b[38;5;124m'\u001b[39m\u001b[38;5;124mTotal Horas Mensual\u001b[39m\u001b[38;5;124m'\u001b[39m] \u001b[38;5;241m*\u001b[39m df[\u001b[38;5;124m'\u001b[39m\u001b[38;5;124mingreso\u001b[39m\u001b[38;5;124m'\u001b[39m]\n\u001b[1;32m----> 7\u001b[0m df[\u001b[38;5;124m'\u001b[39m\u001b[38;5;124mPago Total Mes\u001b[39m\u001b[38;5;124m'\u001b[39m] \u001b[38;5;241m=\u001b[39m df[\u001b[38;5;124m'\u001b[39m\u001b[38;5;124mPago Total\u001b[39m\u001b[38;5;124m'\u001b[39m]\u001b[38;5;241m.\u001b[39mround(\u001b[38;5;241m2\u001b[39m)\n\u001b[0;32m      8\u001b[0m df\n",
      "File \u001b[1;32m~\\anaconda3\\Lib\\site-packages\\pandas\\core\\frame.py:3761\u001b[0m, in \u001b[0;36mDataFrame.__getitem__\u001b[1;34m(self, key)\u001b[0m\n\u001b[0;32m   3759\u001b[0m \u001b[38;5;28;01mif\u001b[39;00m \u001b[38;5;28mself\u001b[39m\u001b[38;5;241m.\u001b[39mcolumns\u001b[38;5;241m.\u001b[39mnlevels \u001b[38;5;241m>\u001b[39m \u001b[38;5;241m1\u001b[39m:\n\u001b[0;32m   3760\u001b[0m     \u001b[38;5;28;01mreturn\u001b[39;00m \u001b[38;5;28mself\u001b[39m\u001b[38;5;241m.\u001b[39m_getitem_multilevel(key)\n\u001b[1;32m-> 3761\u001b[0m indexer \u001b[38;5;241m=\u001b[39m \u001b[38;5;28mself\u001b[39m\u001b[38;5;241m.\u001b[39mcolumns\u001b[38;5;241m.\u001b[39mget_loc(key)\n\u001b[0;32m   3762\u001b[0m \u001b[38;5;28;01mif\u001b[39;00m is_integer(indexer):\n\u001b[0;32m   3763\u001b[0m     indexer \u001b[38;5;241m=\u001b[39m [indexer]\n",
      "File \u001b[1;32m~\\anaconda3\\Lib\\site-packages\\pandas\\core\\indexes\\base.py:3655\u001b[0m, in \u001b[0;36mIndex.get_loc\u001b[1;34m(self, key)\u001b[0m\n\u001b[0;32m   3653\u001b[0m     \u001b[38;5;28;01mreturn\u001b[39;00m \u001b[38;5;28mself\u001b[39m\u001b[38;5;241m.\u001b[39m_engine\u001b[38;5;241m.\u001b[39mget_loc(casted_key)\n\u001b[0;32m   3654\u001b[0m \u001b[38;5;28;01mexcept\u001b[39;00m \u001b[38;5;167;01mKeyError\u001b[39;00m \u001b[38;5;28;01mas\u001b[39;00m err:\n\u001b[1;32m-> 3655\u001b[0m     \u001b[38;5;28;01mraise\u001b[39;00m \u001b[38;5;167;01mKeyError\u001b[39;00m(key) \u001b[38;5;28;01mfrom\u001b[39;00m \u001b[38;5;21;01merr\u001b[39;00m\n\u001b[0;32m   3656\u001b[0m \u001b[38;5;28;01mexcept\u001b[39;00m \u001b[38;5;167;01mTypeError\u001b[39;00m:\n\u001b[0;32m   3657\u001b[0m     \u001b[38;5;66;03m# If we have a listlike key, _check_indexing_error will raise\u001b[39;00m\n\u001b[0;32m   3658\u001b[0m     \u001b[38;5;66;03m#  InvalidIndexError. Otherwise we fall through and re-raise\u001b[39;00m\n\u001b[0;32m   3659\u001b[0m     \u001b[38;5;66;03m#  the TypeError.\u001b[39;00m\n\u001b[0;32m   3660\u001b[0m     \u001b[38;5;28mself\u001b[39m\u001b[38;5;241m.\u001b[39m_check_indexing_error(key)\n",
      "\u001b[1;31mKeyError\u001b[0m: 'Pago Total'"
     ]
    }
   ],
   "source": [
    "df['horas_trabajadas'] = df['horas_trabajadas'].round(2)\n",
    "df['ingreso'] = df['ingreso'].round(2)\n",
    "\n",
    "df['Total Horas Mensual'] = (df['horas_trabajadas'] - df['ausencias']) * 4\n",
    "\n",
    "df['Pago Total Mes'] = df['Total Horas Mensual'] * df['ingreso']\n",
    "df['Pago Total Mes'] = df['Pago Total'].round(2)\n",
    "df"
   ]
  },
  {
   "cell_type": "code",
   "execution_count": 60,
   "id": "c49a6f18",
   "metadata": {},
   "outputs": [
    {
     "data": {
      "text/plain": [
       "Edad\n",
       "18    3.360000\n",
       "19    3.625000\n",
       "20    3.512195\n",
       "21    3.629630\n",
       "22    3.615385\n",
       "23    3.555556\n",
       "24    3.333333\n",
       "25    3.542857\n",
       "26    3.789474\n",
       "27    3.464286\n",
       "28    3.447368\n",
       "29    3.866667\n",
       "30    3.740741\n",
       "31    3.432432\n",
       "32    3.909091\n",
       "33    3.777778\n",
       "34    3.826087\n",
       "35    3.647059\n",
       "36    3.475000\n",
       "37    3.580645\n",
       "38    3.636364\n",
       "39    3.444444\n",
       "40    3.821429\n",
       "41    3.578947\n",
       "42    3.840000\n",
       "43    3.411765\n",
       "44    3.225000\n",
       "45    3.368421\n",
       "46    3.576923\n",
       "47    3.814815\n",
       "48    3.875000\n",
       "49    3.437500\n",
       "Name: ausencias, dtype: float64"
      ]
     },
     "execution_count": 60,
     "metadata": {},
     "output_type": "execute_result"
    }
   ],
   "source": [
    "df.groupby('Edad')['ausencias'].mean()"
   ]
  },
  {
   "cell_type": "code",
   "execution_count": null,
   "id": "0fe485ef",
   "metadata": {},
   "outputs": [],
   "source": []
  }
 ],
 "metadata": {
  "kernelspec": {
   "display_name": "Python 3 (ipykernel)",
   "language": "python",
   "name": "python3"
  },
  "language_info": {
   "codemirror_mode": {
    "name": "ipython",
    "version": 3
   },
   "file_extension": ".py",
   "mimetype": "text/x-python",
   "name": "python",
   "nbconvert_exporter": "python",
   "pygments_lexer": "ipython3",
   "version": "3.11.5"
  }
 },
 "nbformat": 4,
 "nbformat_minor": 5
}
