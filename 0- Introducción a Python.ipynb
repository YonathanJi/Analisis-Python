{
 "cells": [
  {
   "cell_type": "markdown",
   "id": "451de1fd",
   "metadata": {},
   "source": [
    "# Python y Big Data"
   ]
  },
  {
   "cell_type": "markdown",
   "id": "c5c9b328",
   "metadata": {},
   "source": [
    "### Introducción a python"
   ]
  },
  {
   "cell_type": "code",
   "execution_count": null,
   "id": "0d5e1437",
   "metadata": {},
   "outputs": [],
   "source": [
    "print(\"Hola, mucho gusto en conocerlos\")"
   ]
  },
  {
   "cell_type": "markdown",
   "id": "c772039b",
   "metadata": {},
   "source": [
    "###### Titulo"
   ]
  },
  {
   "cell_type": "markdown",
   "id": "e9b1342e",
   "metadata": {},
   "source": [
    "<img src=\"Imágenes/comentarios.png\" alt=\"Texto alternativo\" width=\"150\">\n"
   ]
  },
  {
   "cell_type": "code",
   "execution_count": null,
   "id": "72eefdc9",
   "metadata": {},
   "outputs": [],
   "source": [
    "# ------------------------------------------------\n",
    "# Introducción a Python\n",
    "# ------------------------------------------------\n",
    "\n",
    "# -----------------------\n",
    "# Conceptos Básicos\n",
    "# -----------------------\n",
    "\n",
    "# Comentarios en Python\n",
    "# Esto es un comentario de una sola línea\n",
    "\n",
    "'''\n",
    "Esto es un comentario\n",
    "de múltiples líneas\n",
    "'''"
   ]
  },
  {
   "cell_type": "markdown",
   "id": "e37f0c78",
   "metadata": {},
   "source": [
    "<img src=\"Imágenes/variables.png\" alt=\"Texto alternativo\" width=\"350\">\n"
   ]
  },
  {
   "cell_type": "code",
   "execution_count": null,
   "id": "fb2e27f3",
   "metadata": {},
   "outputs": [],
   "source": [
    "# -----------------------\n",
    "# Variables y Tipos de Datos\n",
    "# -----------------------\n",
    "\n",
    "# Variables y asignación\n",
    "\n",
    "#  nombreVariable = valorVariable\n",
    "\n",
    "nombre = \"Pedro\"\n",
    "apellido = \"Perez\"\n",
    "clave = 'q'\n",
    "edad = 28\n",
    "altura = 1.70\n",
    "es_estudiante = True\n",
    "\n",
    "\n",
    "apellido"
   ]
  },
  {
   "cell_type": "code",
   "execution_count": null,
   "id": "88e10efe",
   "metadata": {},
   "outputs": [],
   "source": [
    "edad"
   ]
  },
  {
   "cell_type": "code",
   "execution_count": null,
   "id": "04dc547b",
   "metadata": {},
   "outputs": [],
   "source": [
    "peso = 68.5\n",
    "peso"
   ]
  },
  {
   "cell_type": "code",
   "execution_count": null,
   "id": "ea32bad3",
   "metadata": {},
   "outputs": [],
   "source": [
    "print(\"hola, estoy mostrando información\")"
   ]
  },
  {
   "cell_type": "code",
   "execution_count": null,
   "id": "beb95c04",
   "metadata": {},
   "outputs": [],
   "source": [
    "print(apellido)"
   ]
  },
  {
   "cell_type": "code",
   "execution_count": null,
   "id": "bd43d5a3",
   "metadata": {},
   "outputs": [],
   "source": [
    "pedro = \"Pedro\"\n",
    "edad = 25\n",
    "print(f\"La edad de {nombre} es {edad}\")\n",
    "\n",
    "print(f\"Hola {pedro}\")"
   ]
  },
  {
   "cell_type": "code",
   "execution_count": null,
   "id": "49944443",
   "metadata": {},
   "outputs": [],
   "source": [
    "# Tipos de datos\n",
    "print(type(nombre))        # <class 'str'>\n",
    "print(type(edad))          # <class 'int'>\n",
    "print(type(altura))        # <class 'float'>\n",
    "print(type(es_estudiante)) # <class 'bool'>"
   ]
  },
  {
   "cell_type": "code",
   "execution_count": null,
   "id": "9f3ff069",
   "metadata": {},
   "outputs": [],
   "source": [
    "# -----------------------\n",
    "# Operadores Básicos\n",
    "# -----------------------\n",
    "\n",
    "# Operadores aritméticos\n",
    "resultado_suma = edad + 5\n",
    "\n",
    "resultado_div = edad / 2\n",
    "\n",
    "resultado_residuo = 2 % 2 # clasificar par o  impar\n",
    "\n",
    "resultado_residuo"
   ]
  },
  {
   "cell_type": "code",
   "execution_count": null,
   "id": "4891d8ca",
   "metadata": {},
   "outputs": [],
   "source": [
    "# Operadores de comparación\n",
    "comparacion = edad > 12\n",
    "\n",
    "# Operadores lógicos\n",
    "x = (edad > 18) and es_estudiante # si se cumplen las dos sentencias, retorna True\n",
    "y = (edad < 18) or es_estudiante"
   ]
  },
  {
   "cell_type": "markdown",
   "id": "c8d03d11",
   "metadata": {},
   "source": [
    "<img src=\"Imágenes/if else.png\" alt=\"Texto alternativo\" width=\"500\">"
   ]
  },
  {
   "cell_type": "code",
   "execution_count": null,
   "id": "c5792293",
   "metadata": {},
   "outputs": [],
   "source": [
    "# -----------------------\n",
    "# Estructuras de Control\n",
    "# -----------------------\n",
    "\n",
    "# Estructuras de control de flujo\n",
    "if (edad >= 40):\n",
    "    print(\"Eres mayor de edad.\")\n",
    "else:\n",
    "    print(\"Eres menor de edad.\")"
   ]
  },
  {
   "cell_type": "code",
   "execution_count": null,
   "id": "1e531850",
   "metadata": {},
   "outputs": [],
   "source": [
    "# Estructuras de control de flujo\n",
    "edad = 50\n",
    "\n",
    "if edad < 0:\n",
    "    print(\"La edad no puede ser negativa.\")\n",
    "    \n",
    "elif edad < 18:\n",
    "    print(\"Eres menor de edad.\")\n",
    "elif edad < 40:\n",
    "    print(\"Eres adulto joven.\")\n",
    "\n",
    "else:\n",
    "    print(\"Eres mayor de edad.\")"
   ]
  },
  {
   "cell_type": "markdown",
   "id": "25e48d9d",
   "metadata": {},
   "source": [
    "<img src=\"Imágenes/listas punteros.jpg\" alt=\"Texto alternativo\" width=\"700\">"
   ]
  },
  {
   "cell_type": "code",
   "execution_count": null,
   "id": "1d17ef33",
   "metadata": {},
   "outputs": [],
   "source": [
    "# Ejemplo de lista\n",
    "frutas = [\"manzana\", \"naranja\", \"plátano\", \"uva\"]\n",
    "\n",
    "# Acceder a un elemento por índice\n",
    "print(frutas[0])  # Salida: manzana\n",
    "\n",
    "# Modificar un elemento\n",
    "frutas[1] = \"mandarina\"\n",
    "print(frutas)  # Salida: [\"manzana\", \"mandarina\", \"plátano\", \"uva\"]\n",
    "\n",
    "# Agregar un elemento al final\n",
    "frutas.append(\"kiwi\")\n",
    "print(frutas)  # Salida: [\"manzana\", \"mandarina\", \"plátano\", \"uva\", \"kiwi\"]\n",
    "\n",
    "# Eliminar un elemento por valor\n",
    "frutas.remove(\"plátano\")\n",
    "print(frutas)  # Salida: [\"manzana\", \"mandarina\", \"uva\", \"kiwi\"]\n"
   ]
  },
  {
   "cell_type": "code",
   "execution_count": null,
   "id": "552ee48d",
   "metadata": {},
   "outputs": [],
   "source": [
    "# Ejemplo de tupla\n",
    "coordenadas = (3, 5)\n",
    "\n",
    "# Acceder a un elemento por índice\n",
    "print(coordenadas[0])  # Salida: 3\n",
    "\n",
    "# No se pueden modificar los elementos (las tuplas son inmutables)\n",
    "# coordenadas[0] = 4  # Esto generará un error\n",
    "\n",
    "# Desempaquetar una tupla\n",
    "x, y = coordenadas\n",
    "print(x, y)  # Salida: 3 5\n"
   ]
  },
  {
   "cell_type": "markdown",
   "id": "92b17fc1",
   "metadata": {},
   "source": [
    "<img src=\"Imágenes/for.png\" alt=\"Texto alternativo\" width=\"600\">"
   ]
  },
  {
   "cell_type": "code",
   "execution_count": null,
   "id": "cad3ece3",
   "metadata": {},
   "outputs": [],
   "source": [
    "# -----------------------\n",
    "# Listas y Ciclo For\n",
    "# -----------------------\n",
    "\n",
    "lista = [1, 2, 3, 4, 5, \"Pedro\", 34.8]\n",
    "\n",
    "tuplas = (\"luis\", \"pedro\", 3, 4.5, True)\n",
    " \n",
    "edades = [34, 54, 17, 28, 27]\n",
    "nombres = [\"Juan\", \"Ana\", \"Pedro\"]\n",
    "\n",
    "# Acceso a elementos de la lista\n",
    "primer_nombre = nombres[0]\n",
    "ultimo_nombre = nombres[-1]\n",
    "\n",
    "print(primer_nombre)\n",
    "print(ultimo_nombre)\n",
    "\n",
    "edades[0] = 4\n",
    "\n",
    "edades"
   ]
  },
  {
   "cell_type": "code",
   "execution_count": null,
   "id": "6ec354b4",
   "metadata": {},
   "outputs": [],
   "source": [
    "edades = [15,20]\n",
    "totalEdades = sum(edades)\n",
    "totalEdades"
   ]
  },
  {
   "cell_type": "code",
   "execution_count": null,
   "id": "47bc7140",
   "metadata": {},
   "outputs": [],
   "source": [
    "diccionario = {\"Nombre\": [\"Pablo\", \"Luis\", \"Nazly\"],\n",
    "               \"Edad\": [24, 56, 78],\n",
    "               \"Altura\": [170, 160, 179]\n",
    "              }\n",
    "\n",
    "diccionario.keys()\n",
    "# diccionario.values()\n",
    "\n",
    "# diccionario"
   ]
  },
  {
   "cell_type": "code",
   "execution_count": null,
   "id": "840f9a55",
   "metadata": {},
   "outputs": [],
   "source": [
    "# Bucle for mejorado\n",
    "numeros = [1, 2, 3, 4, 5, 6, 7, 8]\n",
    "for x in numeros:\n",
    "    print(x)"
   ]
  },
  {
   "cell_type": "markdown",
   "id": "a9a1218d",
   "metadata": {},
   "source": [
    "<img src=\"Imágenes/while.jpg\" alt=\"Texto alternativo\" width=\"400\">"
   ]
  },
  {
   "cell_type": "code",
   "execution_count": null,
   "id": "49a16caf",
   "metadata": {},
   "outputs": [],
   "source": [
    "# Bucle while\n",
    "contador = 0\n",
    "while (contador < 5):\n",
    "    print(\"hola\")\n",
    "    contador = contador + 1"
   ]
  },
  {
   "cell_type": "code",
   "execution_count": null,
   "id": "76813d48",
   "metadata": {},
   "outputs": [],
   "source": [
    "range(5)"
   ]
  },
  {
   "cell_type": "code",
   "execution_count": null,
   "id": "fb1dc27b",
   "metadata": {},
   "outputs": [],
   "source": [
    "# Bucle for\n",
    "for t in range(5):\n",
    "    print(t)"
   ]
  },
  {
   "cell_type": "code",
   "execution_count": null,
   "id": "8bd50b2b",
   "metadata": {},
   "outputs": [],
   "source": [
    "for x in range(0, 10, 2):\n",
    "    print(x)"
   ]
  },
  {
   "cell_type": "markdown",
   "id": "16256bd6",
   "metadata": {},
   "source": [
    "<img src=\"Imágenes/funcion.png\" alt=\"Texto alternativo\" width=\"500\">"
   ]
  },
  {
   "cell_type": "code",
   "execution_count": null,
   "id": "b4c10b18",
   "metadata": {},
   "outputs": [],
   "source": [
    "# -----------------------\n",
    "# Funciones\n",
    "# -----------------------\n",
    "\n",
    "#Creando la función \n",
    "def saludar():\n",
    "    print(\"3\")\n",
    "\n",
    "# Uso de la función\n",
    "saludar()\n",
    "\n",
    "print(\"\\n\")\n",
    "\n",
    "print(\"Función con ciclo for: \")\n",
    "\n",
    "for x in range(10):\n",
    "    saludar()"
   ]
  },
  {
   "cell_type": "code",
   "execution_count": null,
   "id": "2dfdd076",
   "metadata": {},
   "outputs": [],
   "source": [
    "def sumar(a, b):\n",
    "    resultado = a + b\n",
    "    print(resultado) #función que retorna un String\n",
    "    \n",
    "    #print(f\"La suma es: {resultado}\")\n",
    "\n",
    "# Uso de la función\n",
    "sumar(3,6)"
   ]
  },
  {
   "cell_type": "code",
   "execution_count": null,
   "id": "1c3963e8",
   "metadata": {},
   "outputs": [],
   "source": [
    "def obtener_mensaje(): \n",
    "    return \"¡Hola, mundo!\"\n",
    "\n",
    "# Uso de la función\n",
    "mensaje = obtener_mensaje()\n",
    "print(mensaje)"
   ]
  },
  {
   "cell_type": "code",
   "execution_count": null,
   "id": "3b92e553",
   "metadata": {},
   "outputs": [],
   "source": [
    "def multiplicar(a, b):\n",
    "    resultado = a * b\n",
    "    return resultado\n",
    "\n",
    "# Uso de la función\n",
    "producto = multiplicar(4, 6)\n",
    "#print(f\"El producto es: {producto}\")\n",
    "resultado = 0\n",
    "def sumar (q,t):\n",
    "    resultado = q+t\n",
    "    return resultado\n",
    "\n",
    "sumar(2,3)"
   ]
  },
  {
   "cell_type": "code",
   "execution_count": null,
   "id": "518d0a74",
   "metadata": {},
   "outputs": [],
   "source": [
    "def sumar (a,b):\n",
    "    x = a+b\n",
    "    return x\n",
    "\n",
    "def mult (c,d):\n",
    "    y = c*d\n",
    "    return y\n",
    "    \n",
    "q = sumar(2,4)\n",
    "\n",
    "t = mult(sumar(2,4),5)"
   ]
  },
  {
   "cell_type": "code",
   "execution_count": null,
   "id": "058ae24e",
   "metadata": {},
   "outputs": [],
   "source": [
    "edad = int (input(\"Dame tu edad: \"))"
   ]
  },
  {
   "cell_type": "code",
   "execution_count": null,
   "id": "a1664993",
   "metadata": {},
   "outputs": [],
   "source": [
    "x"
   ]
  },
  {
   "cell_type": "code",
   "execution_count": null,
   "id": "ccbfc2d9",
   "metadata": {},
   "outputs": [],
   "source": [
    "# -----------------------\n",
    "# Input del Usuario\n",
    "# -----------------------\n",
    "\n",
    "# Solicitar input del usuario\n",
    "nombre_usuario = str(input(\"Ingresa tu nombre: \"))\n",
    "\n",
    "print(\"Hola, mucho gusto \" + nombre_usuario + \"!\")"
   ]
  },
  {
   "cell_type": "code",
   "execution_count": 1,
   "id": "394446ef",
   "metadata": {},
   "outputs": [
    {
     "name": "stdout",
     "output_type": "stream",
     "text": [
      "Ingrese el número de productos: 2\n",
      "Ingrese el precio del producto 1: 500\n",
      "Ingrese el precio del producto 2: 300\n",
      "Ingrese el porcentaje de impuestos (por defecto 19% = 0.19): 0.19\n",
      "Ingrese el porcentaje de descuento (por defecto 0%): 0\n",
      "\n",
      " El precio total de la compra es: $952.00\n"
     ]
    }
   ],
   "source": [
    "\"\"\"\n",
    "Calcula el precio total de una lista de productos teniendo en \n",
    "cuenta impuestos y descuentos.\n",
    "\"\"\"\n",
    "\n",
    "def calcular_precio_total(productos, impuesto=0.19, descuento=0):\n",
    "\n",
    "    subtotal = sum(productos)\n",
    "    total_impuestos = subtotal * impuesto\n",
    "    total_descuento = subtotal * descuento\n",
    "    precio_total = subtotal + total_impuestos - total_descuento\n",
    "    return precio_total\n",
    "\n",
    "#--------------------------------------------------------------------------------\n",
    "\n",
    "# Pedir al usuario que ingrese los productos\n",
    "num_productos = int(input(\"Ingrese el número de productos: \"))\n",
    "precios = []\n",
    "\n",
    "for i in range(num_productos):\n",
    "    precio = float(input(f\"Ingrese el precio del producto {i+1}: \"))\n",
    "    precios.append(precio)\n",
    "\n",
    "# Pedir al usuario que ingrese el impuesto y el descuento (opcional)\n",
    "impuesto_usuario = float(input(\"Ingrese el porcentaje de impuestos (por defecto 19% = 0.19): \"))\n",
    "descuento_usuario = float(input(\"Ingrese el porcentaje de descuento (por defecto 0%): \"))\n",
    "\n",
    "# Calcular el precio total utilizando la función\n",
    "total = calcular_precio_total(precios, impuesto_usuario, descuento_usuario)\n",
    "\n",
    "# Mostrar el resultado\n",
    "print(f\"\\n El precio total de la compra es: ${total:.2f}\")\n"
   ]
  },
  {
   "cell_type": "code",
   "execution_count": null,
   "id": "21365e0a",
   "metadata": {},
   "outputs": [],
   "source": [
    "\"\"\"\n",
    "Calcula el salario neto de un empleado teniendo en cuenta el salario base,\n",
    "horas extras, tarifa por horas extra y deducciones opcionales.\n",
    "\"\"\"\n",
    "\n",
    "def calcular_nomina(salario_base, horas_extras, tarifa_horas_extra, deducciones=0):\n",
    "    \n",
    "    salario_bruto = salario_base + (horas_extras * tarifa_horas_extra)\n",
    "    salario_neto = salario_bruto - deducciones\n",
    "    return salario_neto\n",
    "\n",
    "#--------------------------------------------------------------------------------\n",
    "\n",
    "# Pedir al usuario que ingrese información del empleado\n",
    "salario_base = float(input(\"Ingrese el salario base del empleado: \"))\n",
    "horas_extras = float(input(\"Ingrese la cantidad de horas extras trabajadas: \"))\n",
    "tarifa_horas_extra = float(input(\"Ingrese la tarifa por horas extras: \"))\n",
    "deducciones = float(input(\"Ingrese las deducciones (por defecto 0): \"))\n",
    "\n",
    "# Calcular el salario neto utilizando la función\n",
    "salario_neto = calcular_nomina(salario_base, horas_extras, tarifa_horas_extra, deducciones)\n",
    "\n",
    "# Mostrar el resultado\n",
    "# print(f\"\\nEl salario neto del empleado es: ${salario_neto:.2f}\")"
   ]
  },
  {
   "cell_type": "code",
   "execution_count": 2,
   "id": "d52beb87",
   "metadata": {},
   "outputs": [
    {
     "data": {
      "image/png": "[encoded data removed]",
      "text/plain": [
       "<Figure size 640x480 with 1 Axes>"
      ]
     },
     "metadata": {},
     "output_type": "display_data"
    }
   ],
   "source": [
    "import matplotlib.pyplot as plt\n",
    "\n",
    "# Datos de ejemplo\n",
    "x = [1, 2, 3, 4, 5]\n",
    "y = [2, 3, 5, 7, 11]\n",
    "\n",
    "# Crear un gráfico de líneas\n",
    "\n",
    "plt.plot(x, y, label='primos')\n",
    "\n",
    "# Agregar etiquetas y título\n",
    "plt.xlabel('Eje X')\n",
    "plt.ylabel('Eje Y')\n",
    "plt.title('Números Primos')\n",
    "\n",
    "# Agregar leyenda\n",
    "plt.legend()\n",
    "\n",
    "# Mostrar el gráfico\n",
    "plt.show()"
   ]
  },
  {
   "cell_type": "code",
   "execution_count": 3,
   "id": "3dec37e2",
   "metadata": {},
   "outputs": [
    {
     "data": {
      "image/png": "[encoded data removed]",
      "text/plain": [
       "<Figure size 640x480 with 1 Axes>"
      ]
     },
     "metadata": {},
     "output_type": "display_data"
    }
   ],
   "source": [
    "import matplotlib.pyplot as plt\n",
    "import numpy as np\n",
    "\n",
    "# Datos de ejemplo\n",
    "x = [1, 2, 3, 4, 5]\n",
    "y = [2, 3, 5, 7, 11]\n",
    "\n",
    "# Crear un gráfico de dispersión\n",
    "plt.scatter(x, y, color='red', marker='o', label='puntos')\n",
    "\n",
    "# Agregar etiquetas y título\n",
    "plt.xlabel('Eje X')\n",
    "plt.ylabel('Eje Y')\n",
    "plt.title('Números Primos - Gráfico de Dispersión')\n",
    "\n",
    "# Agregar leyenda\n",
    "plt.legend()\n",
    "\n",
    "# Mostrar el gráfico\n",
    "plt.show()"
   ]
  },
  {
   "cell_type": "code",
   "execution_count": 4,
   "id": "029a0605",
   "metadata": {},
   "outputs": [
    {
     "data": {
      "image/png": "[encoded data removed]",
      "text/plain": [
       "<Figure size 640x480 with 1 Axes>"
      ]
     },
     "metadata": {},
     "output_type": "display_data"
    }
   ],
   "source": [
    "import matplotlib.pyplot as plt\n",
    "import numpy as np\n",
    "\n",
    "# make data\n",
    "x = np.linspace(0, 10, 100)\n",
    "y = 4 + 2 * np.sin( 2 * x)\n",
    "\n",
    "# plot (Figura y Ejes)\n",
    "fig, ax = plt.subplots()\n",
    "\n",
    "ax.plot(x, y)\n",
    "\n",
    "plt.show()"
   ]
  },
  {
   "cell_type": "code",
   "execution_count": 5,
   "id": "3a0e0f7d",
   "metadata": {},
   "outputs": [
    {
     "data": {
      "image/png": "[encoded data removed]",
      "text/plain": [
       "<Figure size 200x200 with 1 Axes>"
      ]
     },
     "metadata": {},
     "output_type": "display_data"
    }
   ],
   "source": [
    "import matplotlib.pyplot as plt\n",
    "import numpy as np\n",
    "\n",
    "plt.style.use('_mpl-gallery')\n",
    "\n",
    "# make data:\n",
    "x = 0.5 + np.arange(8)\n",
    "y = [4.8, 5.5, 3.5, 4.6, 6.5, 6.6, 2.6, 3.0]\n",
    "\n",
    "# plot\n",
    "fig, ax = plt.subplots()\n",
    "\n",
    "ax.bar(x, y)\n",
    "\n",
    "plt.show()"
   ]
  },
  {
   "cell_type": "code",
   "execution_count": 6,
   "id": "23dd1edd",
   "metadata": {},
   "outputs": [
    {
     "data": {
      "image/png": "[encoded data removed]",
      "text/plain": [
       "<Figure size 200x200 with 1 Axes>"
      ]
     },
     "metadata": {},
     "output_type": "display_data"
    },
    {
     "name": "stdout",
     "output_type": "stream",
     "text": [
      "33.33333333333333 66.66666666666666\n"
     ]
    }
   ],
   "source": [
    "import matplotlib.pyplot as plt\n",
    "import numpy as np\n",
    "\n",
    "plt.style.use('_mpl-gallery-nogrid')\n",
    "\n",
    "# make data\n",
    "x = [1, 2]\n",
    "\n",
    "x1 = (1/3)*100\n",
    "x2 = (2/3)*100\n",
    "\n",
    "# plot\n",
    "fig, ax = plt.subplots()\n",
    "ax.pie(x, radius=3, center=(0, 0),\n",
    "       wedgeprops={\"linewidth\": 1, \"edgecolor\": \"white\"}, frame=True)\n",
    "\n",
    "plt.show()\n",
    "\n",
    "print(x1,x2)"
   ]
  },
  {
   "cell_type": "code",
   "execution_count": null,
   "id": "85e9686e",
   "metadata": {},
   "outputs": [],
   "source": [
    "import matplotlib.pyplot as plt\n",
    "\n",
    "# Crear listas de categorías y valores dinámicamente\n",
    "categorias = []\n",
    "valores = []\n",
    "\n",
    "for i in range(num_productos):\n",
    "    categorias.append(f'Precio {i+1}')\n",
    "    valores.append(precios[i])\n",
    "\n",
    "categorias.append('Total')\n",
    "valores.append(total)\n",
    "\n",
    "print(categorias)\n",
    "print(valores)\n",
    "\n",
    "# Crear un gráfico de barras\n",
    "plt.bar(categorias, valores, color='blue',  width=0.2)\n",
    "plt.xlabel('Categorías')\n",
    "plt.ylabel('Valores')\n",
    "plt.title('Desglose del Precio Total')\n",
    "plt.show()"
   ]
  },
  {
   "cell_type": "code",
   "execution_count": null,
   "id": "4cfc2177",
   "metadata": {},
   "outputs": [],
   "source": [
    "# Ejercicio 1\n",
    "# Define dos variables numéricas e imprime su suma.\n",
    "\n",
    "# Ejercicio 2\n",
    "# Asigna un valor a una variable y multiplícala por 3, determina si el resultado es par o impar.\n",
    "\n",
    "# Ejercicio 3\n",
    "# Utiliza un condicional para imprimir si un número es par o impar.\n",
    "\n",
    "# Ejercicio 4\n",
    "# Usa un bucle for para imprimir los primeros 5 números naturales.\n",
    "\n",
    "# Ejercicio 5\n",
    "# Utiliza un bucle while para imprimir los cuadrados de los números del 1 al 5.\n",
    "\n",
    "# Ejercicio 6\n",
    "# Crea una función que sume dos números y devuelve el resultado.\n",
    "\n",
    "# Ejercicio 7\n",
    "# Llama a la función anterior con dos valores e imprime el resultado.\n",
    "\n",
    "# Ejercicio 8\n",
    "# Crea una función que multiplique tres números y devuelve el resultado.\n",
    "\n",
    "# Ejercicio 9\n",
    "# Llama a la función anterior con tres valores e imprime el resultado.\n",
    "\n",
    "# Ejercicio 10\n",
    "# Crea una lista de números y usa un bucle for para imprimir cada elemento.\n",
    "\n",
    "# Ejercicio 11\n",
    "# Utiliza un bucle while para imprimir los números pares del 2 al 10. Graficar.\n",
    "\n",
    "# Ejercicio 12\n",
    "# Crea una función que encuentre el máximo de tres números. Graficar.\n",
    "\n",
    "# Ejercicio 13\n",
    "# Crea un diccionario con nombres y edades, e imprime la edad de una persona.\n",
    "\n",
    "# Ejercicio 14\n",
    "# Escribe una función que calcule el factorial de un número.\n",
    "\n",
    "# Ejercicio 15\n",
    "# Crea una función que reciba una lista y devuelva la suma de sus elementos.\n",
    "\n",
    "# Ejercicio 16\n",
    "# Crea una función que acepte una cadena y devuelva la misma cadena pero con cada palabra invertida.\n",
    "\n",
    "# Ejercicio 17\n",
    "# Crea una función que convierta una temperatura de Celsius a Fahrenheit. Graficar.\n",
    "\n",
    "# Ejercicio 18\n",
    "# Crea una función que invierta una lista.\n",
    "\n",
    "# Ejercicio 19\n",
    "# Escribe una función que calcule el promedio de una lista de números.\n",
    "\n",
    "# Ejercicio 20\n",
    "# Implementa un programa que calcule el área de un círculo."
   ]
  }
 ],
 "metadata": {
  "kernelspec": {
   "display_name": "Python 3 (ipykernel)",
   "language": "python",
   "name": "python3"
  },
  "language_info": {
   "codemirror_mode": {
    "name": "ipython",
    "version": 3
   },
   "file_extension": ".py",
   "mimetype": "text/x-python",
   "name": "python",
   "nbconvert_exporter": "python",
   "pygments_lexer": "ipython3",
   "version": "3.11.3"
  }
 },
 "nbformat": 4,
 "nbformat_minor": 5
}
