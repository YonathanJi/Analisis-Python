{
 "cells": [
  {
   "cell_type": "markdown",
   "metadata": {},
   "source": [
    "# Repaso básico de Python"
   ]
  },
  {
   "cell_type": "code",
   "execution_count": 55,
   "metadata": {},
   "outputs": [],
   "source": [
    "# Variables\n",
    "nombre = \"Pablo\"\n",
    "edad = 27\n",
    "altura = 1.70\n",
    "\n",
    "# Operaciones\n",
    "suma = 5 + 3\n",
    "resta = 10 - 2\n",
    "multiplicacion = 4 * 6\n",
    "division = 15 / 3\n",
    "modulo = 10 % 3\n",
    "potencia = 2 ** 4"
   ]
  },
  {
   "cell_type": "code",
   "execution_count": null,
   "metadata": {},
   "outputs": [],
   "source": [
    "# Crear una lista\n",
    "numeros = [1, 2, 3, 4, 5]\n",
    "\n",
    "# Acceder a elementos de la lista\n",
    "primer_numero = numeros[0]\n",
    "segundo_numero = numeros[1]\n",
    "\n",
    "# Modificar elementos de la lista\n",
    "numeros[2] = 6\n",
    "\n",
    "# Agregar elementos al final de la lista\n",
    "numeros.append(7)\n",
    "\n",
    "# Eliminar elementos de la lista\n",
    "numeros.remove(4)\n",
    "\n",
    "# Longitud de la lista\n",
    "longitud = len(numeros)\n",
    "\n",
    "# Iterar a través de la lista\n",
    "for numero in numeros:\n",
    "    print(numero)"
   ]
  },
  {
   "cell_type": "code",
   "execution_count": null,
   "metadata": {},
   "outputs": [],
   "source": [
    "# Crear una matriz (lista de listas)\n",
    "matriz = [\n",
    "    [1, 2, 3],\n",
    "    [4, 5, 6],\n",
    "    [7, 8, 9]\n",
    "]\n",
    "\n",
    "# Acceder a elementos de la matriz\n",
    "elemento = matriz[1][2]  # Acceder a fila 1, columna 2\n",
    "\n",
    "# Modificar elementos de la matriz\n",
    "matriz[0][1] = 10\n",
    "\n",
    "# Iterar a través de la matriz\n",
    "for fila in matriz:\n",
    "    for columna in fila:\n",
    "        print(elemento, end=\" \")\n",
    "    print()  # Nueva línea después de cada fila"
   ]
  },
  {
   "cell_type": "code",
   "execution_count": null,
   "metadata": {},
   "outputs": [],
   "source": [
    "# Funciones\n",
    "def saludar():\n",
    "    print(\"¡Hola!\")\n",
    "\n",
    "def saludar_nombre(nombre):\n",
    "    print(\"¡Hola,\", nombre, \"!\")\n",
    "\n",
    "def sumar(a, b):\n",
    "    resultado = a + b\n",
    "    return resultado\n",
    "\n",
    "# Llamadas a funciones\n",
    "saludar()\n",
    "saludar_nombre(\"Ana\")\n",
    "resultado_suma = sumar(3, 7)\n",
    "print(\"Resultado de la suma:\", resultado_suma)\n",
    "\n",
    "print(sumar(2,3))"
   ]
  },
  {
   "cell_type": "code",
   "execution_count": null,
   "metadata": {},
   "outputs": [],
   "source": [
    "# Ciclo for\n",
    "for i in range(5):\n",
    "    print(\"Iteración:\", i)\n",
    "\n",
    "# Ciclo while\n",
    "contador = 0\n",
    "while contador < 5:\n",
    "    print(\"Contador:\", contador)\n",
    "    contador += 1"
   ]
  },
  {
   "cell_type": "code",
   "execution_count": null,
   "metadata": {},
   "outputs": [],
   "source": [
    "# Condicionales\n",
    "edad = 14\n",
    "nombre = \"Carlos\"\n",
    "\n",
    "if edad >= 18:\n",
    "    print(nombre, \"es mayor de edad\")\n",
    "else:\n",
    "    print(nombre, \"es menor de edad\")"
   ]
  },
  {
   "cell_type": "markdown",
   "metadata": {},
   "source": [
    "# Data Frames"
   ]
  },
  {
   "cell_type": "markdown",
   "metadata": {},
   "source": [
    "Un DataFrame es una estructura de datos con dos dimensiones en la cual se puede guardar datos de distintos tipos (como caractéres, enteros, valores de punto flotante, factores, entre otros) en columnas. Es similar a una hoja de cálculo o una tabla de SQL o el data."
   ]
  },
  {
   "cell_type": "markdown",
   "metadata": {},
   "source": [
    "<img src=\"img/data frame.png\" alt=\"Texto alternativo\" width=\"550\">"
   ]
  },
  {
   "cell_type": "markdown",
   "metadata": {},
   "source": [
    "Crear 6 listas, cada una con 5 elementos. El nombre de las listas deben ser:\n",
    "- nombres\n",
    "- apellidos\n",
    "- edad\n",
    "- altura\n",
    "- ciudad\n",
    "- Empleado\n",
    "\n",
    "Imprimir en pantalla las 6 listas."
   ]
  },
  {
   "cell_type": "code",
   "execution_count": 3,
   "metadata": {},
   "outputs": [
    {
     "name": "stdout",
     "output_type": "stream",
     "text": [
      "nombres ['Pedro', 'Pablo', 'Camila', 'Laura', 'Pedro'] \n",
      " ['Perez', 'Mendez', 'Palomino', 'Perea', 'Rodriguez'] \n",
      " [20, 25, 17, 33, 42] \n",
      " [1.7, 1.6, 1.72, 1.5, 1.76] \n",
      " ['Cali', 'Tulua', 'Palmira', 'Bogota', 'Cali'] \n",
      " [True, True, True, False, True]\n"
     ]
    }
   ],
   "source": [
    "nombres = [\"Pedro\", \"Pablo\", \"Camila\", \"Laura\", \"Pedro\"]\n",
    "apellidos = [\"Perez\", \"Mendez\", \"Palomino\", \"Perea\", \"Rodriguez\"]\n",
    "edad = [20, 25, 17, 33, 42]\n",
    "altura = [1.70, 1.60, 1.72, 1.50, 1.76]\n",
    "ciudad = [\"Cali\", \"Tulua\", \"Palmira\", \"Bogota\", \"Cali\"]\n",
    "empleado = [True, True, True, False, True]\n",
    "\n",
    "print(\"nombres\", nombres, \"\\n\" , apellidos, \"\\n\" , edad, \"\\n\" , altura, \"\\n\" , ciudad, \"\\n\" , empleado)"
   ]
  },
  {
   "cell_type": "code",
   "execution_count": 4,
   "metadata": {},
   "outputs": [],
   "source": [
    "# Import pandas\n",
    "import pandas as pd"
   ]
  },
  {
   "cell_type": "code",
   "execution_count": 7,
   "metadata": {},
   "outputs": [
    {
     "data": {
      "text/html": [
       "<div>\n",
       "<style scoped>\n",
       "    .dataframe tbody tr th:only-of-type {\n",
       "        vertical-align: middle;\n",
       "    }\n",
       "\n",
       "    .dataframe tbody tr th {\n",
       "        vertical-align: top;\n",
       "    }\n",
       "\n",
       "    .dataframe thead th {\n",
       "        text-align: right;\n",
       "    }\n",
       "</style>\n",
       "<table border=\"1\" class=\"dataframe\">\n",
       "  <thead>\n",
       "    <tr style=\"text-align: right;\">\n",
       "      <th></th>\n",
       "    </tr>\n",
       "  </thead>\n",
       "  <tbody>\n",
       "  </tbody>\n",
       "</table>\n",
       "</div>"
      ],
      "text/plain": [
       "Empty DataFrame\n",
       "Columns: []\n",
       "Index: []"
      ]
     },
     "execution_count": 7,
     "metadata": {},
     "output_type": "execute_result"
    }
   ],
   "source": [
    "df = pd.DataFrame()\n",
    "df"
   ]
  },
  {
   "cell_type": "code",
   "execution_count": 9,
   "metadata": {},
   "outputs": [
    {
     "data": {
      "text/html": [
       "<div>\n",
       "<style scoped>\n",
       "    .dataframe tbody tr th:only-of-type {\n",
       "        vertical-align: middle;\n",
       "    }\n",
       "\n",
       "    .dataframe tbody tr th {\n",
       "        vertical-align: top;\n",
       "    }\n",
       "\n",
       "    .dataframe thead th {\n",
       "        text-align: right;\n",
       "    }\n",
       "</style>\n",
       "<table border=\"1\" class=\"dataframe\">\n",
       "  <thead>\n",
       "    <tr style=\"text-align: right;\">\n",
       "      <th></th>\n",
       "      <th>Nombres</th>\n",
       "      <th>Apellidos</th>\n",
       "      <th>Edad</th>\n",
       "      <th>Altura</th>\n",
       "      <th>Ciudad</th>\n",
       "      <th>Empleado</th>\n",
       "    </tr>\n",
       "  </thead>\n",
       "  <tbody>\n",
       "    <tr>\n",
       "      <th>0</th>\n",
       "      <td>Pedro</td>\n",
       "      <td>Perez</td>\n",
       "      <td>20</td>\n",
       "      <td>1.70</td>\n",
       "      <td>Cali</td>\n",
       "      <td>True</td>\n",
       "    </tr>\n",
       "    <tr>\n",
       "      <th>1</th>\n",
       "      <td>Pablo</td>\n",
       "      <td>Mendez</td>\n",
       "      <td>25</td>\n",
       "      <td>1.60</td>\n",
       "      <td>Tulua</td>\n",
       "      <td>True</td>\n",
       "    </tr>\n",
       "    <tr>\n",
       "      <th>2</th>\n",
       "      <td>Camila</td>\n",
       "      <td>Palomino</td>\n",
       "      <td>17</td>\n",
       "      <td>1.72</td>\n",
       "      <td>Palmira</td>\n",
       "      <td>True</td>\n",
       "    </tr>\n",
       "    <tr>\n",
       "      <th>3</th>\n",
       "      <td>Laura</td>\n",
       "      <td>Perea</td>\n",
       "      <td>33</td>\n",
       "      <td>1.50</td>\n",
       "      <td>Bogota</td>\n",
       "      <td>False</td>\n",
       "    </tr>\n",
       "    <tr>\n",
       "      <th>4</th>\n",
       "      <td>Pedro</td>\n",
       "      <td>Rodriguez</td>\n",
       "      <td>42</td>\n",
       "      <td>1.76</td>\n",
       "      <td>Cali</td>\n",
       "      <td>True</td>\n",
       "    </tr>\n",
       "  </tbody>\n",
       "</table>\n",
       "</div>"
      ],
      "text/plain": [
       "  Nombres  Apellidos  Edad  Altura   Ciudad  Empleado\n",
       "0   Pedro      Perez    20    1.70     Cali      True\n",
       "1   Pablo     Mendez    25    1.60    Tulua      True\n",
       "2  Camila   Palomino    17    1.72  Palmira      True\n",
       "3   Laura      Perea    33    1.50   Bogota     False\n",
       "4   Pedro  Rodriguez    42    1.76     Cali      True"
      ]
     },
     "execution_count": 9,
     "metadata": {},
     "output_type": "execute_result"
    }
   ],
   "source": [
    "df['Nombres'] = nombres\n",
    "df['Apellidos'] = apellidos\n",
    "df['Edad'] = edad\n",
    "df['Altura'] = altura\n",
    "df['Ciudad'] = ciudad\n",
    "df['Empleado'] = empleado\n",
    "\n",
    "df"
   ]
  },
  {
   "cell_type": "code",
   "execution_count": 10,
   "metadata": {},
   "outputs": [
    {
     "data": {
      "text/plain": [
       "0     True\n",
       "1    False\n",
       "2     True\n",
       "3    False\n",
       "4     True\n",
       "Name: Altura, dtype: bool"
      ]
     },
     "execution_count": 10,
     "metadata": {},
     "output_type": "execute_result"
    }
   ],
   "source": [
    "df['Altura']>1.60"
   ]
  },
  {
   "cell_type": "code",
   "execution_count": 17,
   "metadata": {},
   "outputs": [
    {
     "data": {
      "text/html": [
       "<div>\n",
       "<style scoped>\n",
       "    .dataframe tbody tr th:only-of-type {\n",
       "        vertical-align: middle;\n",
       "    }\n",
       "\n",
       "    .dataframe tbody tr th {\n",
       "        vertical-align: top;\n",
       "    }\n",
       "\n",
       "    .dataframe thead th {\n",
       "        text-align: right;\n",
       "    }\n",
       "</style>\n",
       "<table border=\"1\" class=\"dataframe\">\n",
       "  <thead>\n",
       "    <tr style=\"text-align: right;\">\n",
       "      <th></th>\n",
       "      <th>Nombres</th>\n",
       "      <th>Apellidos</th>\n",
       "      <th>Edad</th>\n",
       "      <th>Altura</th>\n",
       "      <th>Ciudad</th>\n",
       "      <th>Empleado</th>\n",
       "    </tr>\n",
       "  </thead>\n",
       "  <tbody>\n",
       "    <tr>\n",
       "      <th>0</th>\n",
       "      <td>Pedro</td>\n",
       "      <td>Perez</td>\n",
       "      <td>20</td>\n",
       "      <td>1.70</td>\n",
       "      <td>Cali</td>\n",
       "      <td>True</td>\n",
       "    </tr>\n",
       "    <tr>\n",
       "      <th>2</th>\n",
       "      <td>Camila</td>\n",
       "      <td>Palomino</td>\n",
       "      <td>17</td>\n",
       "      <td>1.72</td>\n",
       "      <td>Palmira</td>\n",
       "      <td>True</td>\n",
       "    </tr>\n",
       "    <tr>\n",
       "      <th>4</th>\n",
       "      <td>Pedro</td>\n",
       "      <td>Rodriguez</td>\n",
       "      <td>42</td>\n",
       "      <td>1.76</td>\n",
       "      <td>Cali</td>\n",
       "      <td>True</td>\n",
       "    </tr>\n",
       "  </tbody>\n",
       "</table>\n",
       "</div>"
      ],
      "text/plain": [
       "  Nombres  Apellidos  Edad  Altura   Ciudad  Empleado\n",
       "0   Pedro      Perez    20    1.70     Cali      True\n",
       "2  Camila   Palomino    17    1.72  Palmira      True\n",
       "4   Pedro  Rodriguez    42    1.76     Cali      True"
      ]
     },
     "execution_count": 17,
     "metadata": {},
     "output_type": "execute_result"
    }
   ],
   "source": [
    "df[df['Altura']>1.60]"
   ]
  },
  {
   "cell_type": "code",
   "execution_count": 18,
   "metadata": {},
   "outputs": [
    {
     "data": {
      "text/plain": [
       "0     True\n",
       "1     True\n",
       "2    False\n",
       "3     True\n",
       "4     True\n",
       "Name: Edad, dtype: bool"
      ]
     },
     "execution_count": 18,
     "metadata": {},
     "output_type": "execute_result"
    }
   ],
   "source": [
    "df['Edad']>18"
   ]
  },
  {
   "cell_type": "code",
   "execution_count": 19,
   "metadata": {},
   "outputs": [
    {
     "data": {
      "text/html": [
       "<div>\n",
       "<style scoped>\n",
       "    .dataframe tbody tr th:only-of-type {\n",
       "        vertical-align: middle;\n",
       "    }\n",
       "\n",
       "    .dataframe tbody tr th {\n",
       "        vertical-align: top;\n",
       "    }\n",
       "\n",
       "    .dataframe thead th {\n",
       "        text-align: right;\n",
       "    }\n",
       "</style>\n",
       "<table border=\"1\" class=\"dataframe\">\n",
       "  <thead>\n",
       "    <tr style=\"text-align: right;\">\n",
       "      <th></th>\n",
       "      <th>Nombres</th>\n",
       "      <th>Apellidos</th>\n",
       "      <th>Edad</th>\n",
       "      <th>Altura</th>\n",
       "      <th>Ciudad</th>\n",
       "      <th>Empleado</th>\n",
       "    </tr>\n",
       "  </thead>\n",
       "  <tbody>\n",
       "    <tr>\n",
       "      <th>0</th>\n",
       "      <td>Pedro</td>\n",
       "      <td>Perez</td>\n",
       "      <td>20</td>\n",
       "      <td>1.70</td>\n",
       "      <td>Cali</td>\n",
       "      <td>True</td>\n",
       "    </tr>\n",
       "    <tr>\n",
       "      <th>1</th>\n",
       "      <td>Pablo</td>\n",
       "      <td>Mendez</td>\n",
       "      <td>25</td>\n",
       "      <td>1.60</td>\n",
       "      <td>Tulua</td>\n",
       "      <td>True</td>\n",
       "    </tr>\n",
       "    <tr>\n",
       "      <th>3</th>\n",
       "      <td>Laura</td>\n",
       "      <td>Perea</td>\n",
       "      <td>33</td>\n",
       "      <td>1.50</td>\n",
       "      <td>Bogota</td>\n",
       "      <td>False</td>\n",
       "    </tr>\n",
       "    <tr>\n",
       "      <th>4</th>\n",
       "      <td>Pedro</td>\n",
       "      <td>Rodriguez</td>\n",
       "      <td>42</td>\n",
       "      <td>1.76</td>\n",
       "      <td>Cali</td>\n",
       "      <td>True</td>\n",
       "    </tr>\n",
       "  </tbody>\n",
       "</table>\n",
       "</div>"
      ],
      "text/plain": [
       "  Nombres  Apellidos  Edad  Altura  Ciudad  Empleado\n",
       "0   Pedro      Perez    20    1.70    Cali      True\n",
       "1   Pablo     Mendez    25    1.60   Tulua      True\n",
       "3   Laura      Perea    33    1.50  Bogota     False\n",
       "4   Pedro  Rodriguez    42    1.76    Cali      True"
      ]
     },
     "execution_count": 19,
     "metadata": {},
     "output_type": "execute_result"
    }
   ],
   "source": [
    "df[df['Edad']>18]"
   ]
  },
  {
   "cell_type": "code",
   "execution_count": 20,
   "metadata": {},
   "outputs": [
    {
     "data": {
      "text/html": [
       "<div>\n",
       "<style scoped>\n",
       "    .dataframe tbody tr th:only-of-type {\n",
       "        vertical-align: middle;\n",
       "    }\n",
       "\n",
       "    .dataframe tbody tr th {\n",
       "        vertical-align: top;\n",
       "    }\n",
       "\n",
       "    .dataframe thead th {\n",
       "        text-align: right;\n",
       "    }\n",
       "</style>\n",
       "<table border=\"1\" class=\"dataframe\">\n",
       "  <thead>\n",
       "    <tr style=\"text-align: right;\">\n",
       "      <th></th>\n",
       "      <th>Nombres</th>\n",
       "      <th>Apellidos</th>\n",
       "      <th>Edad</th>\n",
       "      <th>Altura</th>\n",
       "      <th>Ciudad</th>\n",
       "      <th>Empleado</th>\n",
       "    </tr>\n",
       "  </thead>\n",
       "  <tbody>\n",
       "    <tr>\n",
       "      <th>0</th>\n",
       "      <td>Pedro</td>\n",
       "      <td>Perez</td>\n",
       "      <td>20</td>\n",
       "      <td>1.70</td>\n",
       "      <td>Cali</td>\n",
       "      <td>True</td>\n",
       "    </tr>\n",
       "    <tr>\n",
       "      <th>4</th>\n",
       "      <td>Pedro</td>\n",
       "      <td>Rodriguez</td>\n",
       "      <td>42</td>\n",
       "      <td>1.76</td>\n",
       "      <td>Cali</td>\n",
       "      <td>True</td>\n",
       "    </tr>\n",
       "  </tbody>\n",
       "</table>\n",
       "</div>"
      ],
      "text/plain": [
       "  Nombres  Apellidos  Edad  Altura Ciudad  Empleado\n",
       "0   Pedro      Perez    20    1.70   Cali      True\n",
       "4   Pedro  Rodriguez    42    1.76   Cali      True"
      ]
     },
     "execution_count": 20,
     "metadata": {},
     "output_type": "execute_result"
    }
   ],
   "source": [
    "df[df['Nombres'] == \"Pedro\"]"
   ]
  },
  {
   "cell_type": "code",
   "execution_count": 21,
   "metadata": {},
   "outputs": [
    {
     "data": {
      "text/plain": [
       "0     True\n",
       "1    False\n",
       "2    False\n",
       "3    False\n",
       "4     True\n",
       "Name: Nombres, dtype: bool"
      ]
     },
     "execution_count": 21,
     "metadata": {},
     "output_type": "execute_result"
    }
   ],
   "source": [
    "df.Nombres == \"Pedro\""
   ]
  },
  {
   "cell_type": "code",
   "execution_count": 22,
   "metadata": {},
   "outputs": [
    {
     "data": {
      "text/html": [
       "<div>\n",
       "<style scoped>\n",
       "    .dataframe tbody tr th:only-of-type {\n",
       "        vertical-align: middle;\n",
       "    }\n",
       "\n",
       "    .dataframe tbody tr th {\n",
       "        vertical-align: top;\n",
       "    }\n",
       "\n",
       "    .dataframe thead th {\n",
       "        text-align: right;\n",
       "    }\n",
       "</style>\n",
       "<table border=\"1\" class=\"dataframe\">\n",
       "  <thead>\n",
       "    <tr style=\"text-align: right;\">\n",
       "      <th></th>\n",
       "      <th>Nombres</th>\n",
       "      <th>Apellidos</th>\n",
       "      <th>Edad</th>\n",
       "      <th>Altura</th>\n",
       "      <th>Ciudad</th>\n",
       "      <th>Empleado</th>\n",
       "    </tr>\n",
       "  </thead>\n",
       "  <tbody>\n",
       "    <tr>\n",
       "      <th>0</th>\n",
       "      <td>Pedro</td>\n",
       "      <td>Perez</td>\n",
       "      <td>20</td>\n",
       "      <td>1.70</td>\n",
       "      <td>Cali</td>\n",
       "      <td>True</td>\n",
       "    </tr>\n",
       "    <tr>\n",
       "      <th>4</th>\n",
       "      <td>Pedro</td>\n",
       "      <td>Rodriguez</td>\n",
       "      <td>42</td>\n",
       "      <td>1.76</td>\n",
       "      <td>Cali</td>\n",
       "      <td>True</td>\n",
       "    </tr>\n",
       "  </tbody>\n",
       "</table>\n",
       "</div>"
      ],
      "text/plain": [
       "  Nombres  Apellidos  Edad  Altura Ciudad  Empleado\n",
       "0   Pedro      Perez    20    1.70   Cali      True\n",
       "4   Pedro  Rodriguez    42    1.76   Cali      True"
      ]
     },
     "execution_count": 22,
     "metadata": {},
     "output_type": "execute_result"
    }
   ],
   "source": [
    "df[(df.Nombres == \"Pedro\") & (df.Edad > 18)]"
   ]
  },
  {
   "cell_type": "code",
   "execution_count": 23,
   "metadata": {},
   "outputs": [
    {
     "data": {
      "text/html": [
       "<div>\n",
       "<style scoped>\n",
       "    .dataframe tbody tr th:only-of-type {\n",
       "        vertical-align: middle;\n",
       "    }\n",
       "\n",
       "    .dataframe tbody tr th {\n",
       "        vertical-align: top;\n",
       "    }\n",
       "\n",
       "    .dataframe thead th {\n",
       "        text-align: right;\n",
       "    }\n",
       "</style>\n",
       "<table border=\"1\" class=\"dataframe\">\n",
       "  <thead>\n",
       "    <tr style=\"text-align: right;\">\n",
       "      <th></th>\n",
       "      <th>Nombres</th>\n",
       "      <th>Apellidos</th>\n",
       "      <th>Edad</th>\n",
       "      <th>Altura</th>\n",
       "      <th>Ciudad</th>\n",
       "      <th>Empleado</th>\n",
       "    </tr>\n",
       "  </thead>\n",
       "  <tbody>\n",
       "    <tr>\n",
       "      <th>0</th>\n",
       "      <td>Pedro</td>\n",
       "      <td>Perez</td>\n",
       "      <td>20</td>\n",
       "      <td>1.7</td>\n",
       "      <td>Cali</td>\n",
       "      <td>True</td>\n",
       "    </tr>\n",
       "    <tr>\n",
       "      <th>1</th>\n",
       "      <td>Pablo</td>\n",
       "      <td>Mendez</td>\n",
       "      <td>25</td>\n",
       "      <td>1.6</td>\n",
       "      <td>Tulua</td>\n",
       "      <td>True</td>\n",
       "    </tr>\n",
       "    <tr>\n",
       "      <th>3</th>\n",
       "      <td>Laura</td>\n",
       "      <td>Perea</td>\n",
       "      <td>33</td>\n",
       "      <td>1.5</td>\n",
       "      <td>Bogota</td>\n",
       "      <td>False</td>\n",
       "    </tr>\n",
       "  </tbody>\n",
       "</table>\n",
       "</div>"
      ],
      "text/plain": [
       "  Nombres Apellidos  Edad  Altura  Ciudad  Empleado\n",
       "0   Pedro     Perez    20     1.7    Cali      True\n",
       "1   Pablo    Mendez    25     1.6   Tulua      True\n",
       "3   Laura     Perea    33     1.5  Bogota     False"
      ]
     },
     "execution_count": 23,
     "metadata": {},
     "output_type": "execute_result"
    }
   ],
   "source": [
    "df3 = df.drop(df[df['Altura']>1.70].index)\n",
    "df3"
   ]
  },
  {
   "cell_type": "code",
   "execution_count": 24,
   "metadata": {},
   "outputs": [
    {
     "data": {
      "text/html": [
       "<div>\n",
       "<style scoped>\n",
       "    .dataframe tbody tr th:only-of-type {\n",
       "        vertical-align: middle;\n",
       "    }\n",
       "\n",
       "    .dataframe tbody tr th {\n",
       "        vertical-align: top;\n",
       "    }\n",
       "\n",
       "    .dataframe thead th {\n",
       "        text-align: right;\n",
       "    }\n",
       "</style>\n",
       "<table border=\"1\" class=\"dataframe\">\n",
       "  <thead>\n",
       "    <tr style=\"text-align: right;\">\n",
       "      <th></th>\n",
       "      <th>Edad</th>\n",
       "    </tr>\n",
       "  </thead>\n",
       "  <tbody>\n",
       "    <tr>\n",
       "      <th>Pedro</th>\n",
       "      <td>15</td>\n",
       "    </tr>\n",
       "    <tr>\n",
       "      <th>Pablo</th>\n",
       "      <td>22</td>\n",
       "    </tr>\n",
       "    <tr>\n",
       "      <th>Camila</th>\n",
       "      <td>19</td>\n",
       "    </tr>\n",
       "    <tr>\n",
       "      <th>Laura</th>\n",
       "      <td>34</td>\n",
       "    </tr>\n",
       "    <tr>\n",
       "      <th>Sara</th>\n",
       "      <td>31</td>\n",
       "    </tr>\n",
       "  </tbody>\n",
       "</table>\n",
       "</div>"
      ],
      "text/plain": [
       "        Edad\n",
       "Pedro     15\n",
       "Pablo     22\n",
       "Camila    19\n",
       "Laura     34\n",
       "Sara      31"
      ]
     },
     "execution_count": 24,
     "metadata": {},
     "output_type": "execute_result"
    }
   ],
   "source": [
    "nombres = [\"Pedro\", \"Pablo\", \"Camila\", \"Laura\", \"Sara\"]\n",
    "edades = [15,22,19,34,31]\n",
    "df = pd.DataFrame(edades, index = nombres, columns = ['Edad'] )\n",
    "df"
   ]
  },
  {
   "cell_type": "code",
   "execution_count": 25,
   "metadata": {},
   "outputs": [
    {
     "data": {
      "text/plain": [
       "Pedro     10\n",
       "Pablo     17\n",
       "Camila    14\n",
       "Laura     29\n",
       "Sara      26\n",
       "Name: Edad, dtype: int64"
      ]
     },
     "execution_count": 25,
     "metadata": {},
     "output_type": "execute_result"
    }
   ],
   "source": [
    "df['Edad']\n",
    "df2 = df['Edad']-5\n",
    "df2"
   ]
  },
  {
   "cell_type": "code",
   "execution_count": 26,
   "metadata": {},
   "outputs": [
    {
     "data": {
      "text/html": [
       "<div>\n",
       "<style scoped>\n",
       "    .dataframe tbody tr th:only-of-type {\n",
       "        vertical-align: middle;\n",
       "    }\n",
       "\n",
       "    .dataframe tbody tr th {\n",
       "        vertical-align: top;\n",
       "    }\n",
       "\n",
       "    .dataframe thead th {\n",
       "        text-align: right;\n",
       "    }\n",
       "</style>\n",
       "<table border=\"1\" class=\"dataframe\">\n",
       "  <thead>\n",
       "    <tr style=\"text-align: right;\">\n",
       "      <th></th>\n",
       "      <th>max_speed</th>\n",
       "      <th>shield</th>\n",
       "    </tr>\n",
       "  </thead>\n",
       "  <tbody>\n",
       "    <tr>\n",
       "      <th>cobra</th>\n",
       "      <td>1</td>\n",
       "      <td>2</td>\n",
       "    </tr>\n",
       "    <tr>\n",
       "      <th>viper</th>\n",
       "      <td>4</td>\n",
       "      <td>5</td>\n",
       "    </tr>\n",
       "    <tr>\n",
       "      <th>sidewinder</th>\n",
       "      <td>7</td>\n",
       "      <td>8</td>\n",
       "    </tr>\n",
       "  </tbody>\n",
       "</table>\n",
       "</div>"
      ],
      "text/plain": [
       "            max_speed  shield\n",
       "cobra               1       2\n",
       "viper               4       5\n",
       "sidewinder          7       8"
      ]
     },
     "execution_count": 26,
     "metadata": {},
     "output_type": "execute_result"
    }
   ],
   "source": [
    "df = pd.DataFrame([[1, 2], [4, 5], [7, 8]],\n",
    "     index=['cobra', 'viper', 'sidewinder'],\n",
    "     columns=['max_speed', 'shield'])\n",
    "df"
   ]
  },
  {
   "cell_type": "code",
   "execution_count": 27,
   "metadata": {},
   "outputs": [
    {
     "data": {
      "text/plain": [
       "max_speed    4\n",
       "shield       5\n",
       "Name: viper, dtype: int64"
      ]
     },
     "execution_count": 27,
     "metadata": {},
     "output_type": "execute_result"
    }
   ],
   "source": [
    "x = df.loc['viper']\n",
    "y = df.loc['cobra', 'shield']\n",
    "x"
   ]
  },
  {
   "cell_type": "code",
   "execution_count": 28,
   "metadata": {},
   "outputs": [
    {
     "data": {
      "text/html": [
       "<div>\n",
       "<style scoped>\n",
       "    .dataframe tbody tr th:only-of-type {\n",
       "        vertical-align: middle;\n",
       "    }\n",
       "\n",
       "    .dataframe tbody tr th {\n",
       "        vertical-align: top;\n",
       "    }\n",
       "\n",
       "    .dataframe thead th {\n",
       "        text-align: right;\n",
       "    }\n",
       "</style>\n",
       "<table border=\"1\" class=\"dataframe\">\n",
       "  <thead>\n",
       "    <tr style=\"text-align: right;\">\n",
       "      <th></th>\n",
       "      <th>Nombre</th>\n",
       "      <th>Edad</th>\n",
       "      <th>Puntuación</th>\n",
       "    </tr>\n",
       "  </thead>\n",
       "  <tbody>\n",
       "    <tr>\n",
       "      <th>0</th>\n",
       "      <td>Alice</td>\n",
       "      <td>25</td>\n",
       "      <td>85</td>\n",
       "    </tr>\n",
       "    <tr>\n",
       "      <th>1</th>\n",
       "      <td>Bob</td>\n",
       "      <td>30</td>\n",
       "      <td>90</td>\n",
       "    </tr>\n",
       "    <tr>\n",
       "      <th>2</th>\n",
       "      <td>Charlie</td>\n",
       "      <td>35</td>\n",
       "      <td>88</td>\n",
       "    </tr>\n",
       "  </tbody>\n",
       "</table>\n",
       "</div>"
      ],
      "text/plain": [
       "    Nombre  Edad  Puntuación\n",
       "0    Alice    25          85\n",
       "1      Bob    30          90\n",
       "2  Charlie    35          88"
      ]
     },
     "execution_count": 28,
     "metadata": {},
     "output_type": "execute_result"
    }
   ],
   "source": [
    "data = {'Nombre': ['Alice', 'Bob', 'Charlie'],\n",
    "        'Edad': [25, 30, 35],\n",
    "        'Puntuación': [85, 90, 88]}\n",
    "\n",
    "df = pd.DataFrame(data)\n",
    "df"
   ]
  },
  {
   "cell_type": "code",
   "execution_count": 29,
   "metadata": {},
   "outputs": [
    {
     "data": {
      "text/html": [
       "<div>\n",
       "<style scoped>\n",
       "    .dataframe tbody tr th:only-of-type {\n",
       "        vertical-align: middle;\n",
       "    }\n",
       "\n",
       "    .dataframe tbody tr th {\n",
       "        vertical-align: top;\n",
       "    }\n",
       "\n",
       "    .dataframe thead th {\n",
       "        text-align: right;\n",
       "    }\n",
       "</style>\n",
       "<table border=\"1\" class=\"dataframe\">\n",
       "  <thead>\n",
       "    <tr style=\"text-align: right;\">\n",
       "      <th></th>\n",
       "      <th>Nombre</th>\n",
       "      <th>Edad</th>\n",
       "      <th>Puntuación</th>\n",
       "      <th>NuevaColumna</th>\n",
       "    </tr>\n",
       "  </thead>\n",
       "  <tbody>\n",
       "    <tr>\n",
       "      <th>0</th>\n",
       "      <td>Alice</td>\n",
       "      <td>25</td>\n",
       "      <td>85</td>\n",
       "      <td>1</td>\n",
       "    </tr>\n",
       "    <tr>\n",
       "      <th>1</th>\n",
       "      <td>Bob</td>\n",
       "      <td>30</td>\n",
       "      <td>90</td>\n",
       "      <td>2</td>\n",
       "    </tr>\n",
       "    <tr>\n",
       "      <th>2</th>\n",
       "      <td>Charlie</td>\n",
       "      <td>35</td>\n",
       "      <td>88</td>\n",
       "      <td>3</td>\n",
       "    </tr>\n",
       "  </tbody>\n",
       "</table>\n",
       "</div>"
      ],
      "text/plain": [
       "    Nombre  Edad  Puntuación  NuevaColumna\n",
       "0    Alice    25          85             1\n",
       "1      Bob    30          90             2\n",
       "2  Charlie    35          88             3"
      ]
     },
     "execution_count": 29,
     "metadata": {},
     "output_type": "execute_result"
    }
   ],
   "source": [
    "df['NuevaColumna'] = [1, 2, 3]\n",
    "df"
   ]
  },
  {
   "cell_type": "code",
   "execution_count": 30,
   "metadata": {},
   "outputs": [
    {
     "data": {
      "text/plain": [
       "Edad\n",
       "25    85.0\n",
       "30    90.0\n",
       "35    88.0\n",
       "Name: Puntuación, dtype: float64"
      ]
     },
     "execution_count": 30,
     "metadata": {},
     "output_type": "execute_result"
    }
   ],
   "source": [
    "promedio_puntuacion_por_edad = df.groupby('Edad')['Puntuación'].mean()\n",
    "promedio_puntuacion_por_edad"
   ]
  },
  {
   "cell_type": "code",
   "execution_count": 32,
   "metadata": {},
   "outputs": [
    {
     "data": {
      "text/html": [
       "<div>\n",
       "<style scoped>\n",
       "    .dataframe tbody tr th:only-of-type {\n",
       "        vertical-align: middle;\n",
       "    }\n",
       "\n",
       "    .dataframe tbody tr th {\n",
       "        vertical-align: top;\n",
       "    }\n",
       "\n",
       "    .dataframe thead th {\n",
       "        text-align: right;\n",
       "    }\n",
       "</style>\n",
       "<table border=\"1\" class=\"dataframe\">\n",
       "  <thead>\n",
       "    <tr style=\"text-align: right;\">\n",
       "      <th></th>\n",
       "      <th>Nombre</th>\n",
       "      <th>Edad</th>\n",
       "      <th>Puntuación</th>\n",
       "      <th>NuevaColumna</th>\n",
       "    </tr>\n",
       "  </thead>\n",
       "  <tbody>\n",
       "    <tr>\n",
       "      <th>0</th>\n",
       "      <td>Alice</td>\n",
       "      <td>25</td>\n",
       "      <td>85</td>\n",
       "      <td>1</td>\n",
       "    </tr>\n",
       "    <tr>\n",
       "      <th>1</th>\n",
       "      <td>Bob</td>\n",
       "      <td>30</td>\n",
       "      <td>90</td>\n",
       "      <td>2</td>\n",
       "    </tr>\n",
       "    <tr>\n",
       "      <th>2</th>\n",
       "      <td>Charlie</td>\n",
       "      <td>35</td>\n",
       "      <td>88</td>\n",
       "      <td>3</td>\n",
       "    </tr>\n",
       "  </tbody>\n",
       "</table>\n",
       "</div>"
      ],
      "text/plain": [
       "    Nombre  Edad  Puntuación  NuevaColumna\n",
       "0    Alice    25          85             1\n",
       "1      Bob    30          90             2\n",
       "2  Charlie    35          88             3"
      ]
     },
     "execution_count": 32,
     "metadata": {},
     "output_type": "execute_result"
    }
   ],
   "source": [
    "df = df.sort_values(by='Edad', ascending=True)\n",
    "df"
   ]
  },
  {
   "cell_type": "code",
   "execution_count": 104,
   "metadata": {},
   "outputs": [
    {
     "data": {
      "image/png": "[encoded data removed]",
      "text/plain": [
       "<Figure size 640x480 with 1 Axes>"
      ]
     },
     "metadata": {},
     "output_type": "display_data"
    }
   ],
   "source": [
    "import matplotlib.pyplot as plt\n",
    "import pandas as pd\n",
    "\n",
    "nombres = [\"Pedro\", \"Pablo\", \"Camila\", \"Laura\", \"Pedro\"]\n",
    "apellidos = [\"Perez\", \"Mendez\", \"Palomino\", \"Perea\", \"Rodriguez\"]\n",
    "edad = [20, 25, 17, 33, 42]\n",
    "altura = [1.70, 1.60, 1.72, 1.50, 1.76]\n",
    "ciudad = [\"Cali\", \"Tulua\", \"Palmira\", \"Bogota\", \"Cali\"]\n",
    "empleado = [True, True, True, False, True]\n",
    "\n",
    "df = pd.DataFrame()\n",
    "\n",
    "df['Nombres'] = nombres\n",
    "df['Apellidos'] = apellidos\n",
    "df['Edad'] = edad\n",
    "df['Altura'] = altura\n",
    "df['Ciudad'] = ciudad\n",
    "df['Altura'] = altura\n",
    "df['Empleado'] = empleado\n",
    "\n",
    "df\n",
    "\n",
    "# Crear un gráfico de barras para la edad\n",
    "plt.bar(df['Nombres'], df['Edad'])\n",
    "plt.xlabel('Nombres')\n",
    "plt.ylabel('Edad')\n",
    "plt.title('Edad de las personas')\n",
    "plt.show()"
   ]
  },
  {
   "cell_type": "code",
   "execution_count": 92,
   "metadata": {},
   "outputs": [
    {
     "data": {
      "image/png": "[encoded data removed]",
      "text/plain": [
       "<Figure size 640x480 with 1 Axes>"
      ]
     },
     "metadata": {},
     "output_type": "display_data"
    }
   ],
   "source": [
    "# Crear un gráfico de barras apiladas para la distribución de empleados y no empleados\n",
    "df['NoEmpleado'] = ~df['Empleado']\n",
    "\n",
    "# Crear un gráfico de barras para el recuento de empleados y no empleados\n",
    "df[['Empleado', 'NoEmpleado']].sum().plot(kind='bar')\n",
    "plt.xlabel('Empleado')\n",
    "plt.ylabel('Cantidad')\n",
    "plt.title('Distribución de Empleados y No Empleados')\n",
    "plt.xticks(rotation=0)\n",
    "plt.show()"
   ]
  },
  {
   "cell_type": "markdown",
   "metadata": {},
   "source": [
    "Crear una nueva columna denominada 'Puntuacion' (agregar una puntuación para cada persona) y una nueva columna 'Num. Persona' y graficarlas."
   ]
  },
  {
   "cell_type": "code",
   "execution_count": 106,
   "metadata": {},
   "outputs": [
    {
     "data": {
      "image/png": "[encoded data removed]",
      "text/plain": [
       "<Figure size 640x480 with 1 Axes>"
      ]
     },
     "metadata": {},
     "output_type": "display_data"
    }
   ],
   "source": [
    "# Agregar una nueva columna 'Puntuacion'\n",
    "df['Puntuacion'] = [10, 40, 56, 3, 45]\n",
    "\n",
    "# Agregar un sufijo a los nombres duplicados\n",
    "# cumcount() crea un contador acumulativo\n",
    "# .astype(str): convierte los números del contador acumulativo a cadenas (strings).\n",
    "df['Nombres'] = df.groupby('Nombres').cumcount().astype(str).replace('0', '') + df['Nombres']\n",
    "\n",
    "# Crear un gráfico de dispersión de Edad vs. Puntuacion\n",
    "plt.scatter(df['Nombres'], df['Puntuacion'], marker='x')\n",
    "plt.xlabel('Nombre')\n",
    "plt.ylabel('Puntuacion')\n",
    "plt.title('Relación entre Edad y Puntuacion')\n",
    "#plt.grid(True)\n",
    "plt.show()"
   ]
  },
  {
   "cell_type": "markdown",
   "metadata": {},
   "source": [
    "<img src=\"Cintura Cadera.png\" alt=\"Imagen\" style=\"width: 60%;\">"
   ]
  },
  {
   "cell_type": "markdown",
   "metadata": {},
   "source": [
    "<img src= \"Riesgo.png\" alt=\"Imagen\" style=\"width: 60%;\">>"
   ]
  },
  {
   "cell_type": "code",
   "execution_count": 54,
   "metadata": {},
   "outputs": [
    {
     "data": {
      "text/html": [
       "<div>\n",
       "<style scoped>\n",
       "    .dataframe tbody tr th:only-of-type {\n",
       "        vertical-align: middle;\n",
       "    }\n",
       "\n",
       "    .dataframe tbody tr th {\n",
       "        vertical-align: top;\n",
       "    }\n",
       "\n",
       "    .dataframe thead th {\n",
       "        text-align: right;\n",
       "    }\n",
       "</style>\n",
       "<table border=\"1\" class=\"dataframe\">\n",
       "  <thead>\n",
       "    <tr style=\"text-align: right;\">\n",
       "      <th></th>\n",
       "      <th>Timestamp</th>\n",
       "      <th>Código</th>\n",
       "      <th>Genero</th>\n",
       "      <th>Estatura en cm</th>\n",
       "      <th>Peso en Kg</th>\n",
       "      <th>Circunferencia cintura en cm</th>\n",
       "      <th>Circunferencia cadera cm</th>\n",
       "    </tr>\n",
       "  </thead>\n",
       "  <tbody>\n",
       "    <tr>\n",
       "      <th>0</th>\n",
       "      <td>2/8/2021 15:25:38</td>\n",
       "      <td>16079221</td>\n",
       "      <td>Masculino</td>\n",
       "      <td>175.0</td>\n",
       "      <td>80</td>\n",
       "      <td>90.0</td>\n",
       "      <td>100</td>\n",
       "    </tr>\n",
       "    <tr>\n",
       "      <th>1</th>\n",
       "      <td>2/8/2021 15:40:48</td>\n",
       "      <td>100229938</td>\n",
       "      <td>Femenino</td>\n",
       "      <td>157.0</td>\n",
       "      <td>65</td>\n",
       "      <td>88.0</td>\n",
       "      <td>107</td>\n",
       "    </tr>\n",
       "    <tr>\n",
       "      <th>2</th>\n",
       "      <td>2/8/2021 17:38:56</td>\n",
       "      <td>1107510292</td>\n",
       "      <td>Masculino</td>\n",
       "      <td>174.5</td>\n",
       "      <td>66</td>\n",
       "      <td>90.0</td>\n",
       "      <td>95</td>\n",
       "    </tr>\n",
       "    <tr>\n",
       "      <th>3</th>\n",
       "      <td>2/8/2021 17:40:10</td>\n",
       "      <td>1107510292</td>\n",
       "      <td>Masculino</td>\n",
       "      <td>185.0</td>\n",
       "      <td>52</td>\n",
       "      <td>72.0</td>\n",
       "      <td>76</td>\n",
       "    </tr>\n",
       "    <tr>\n",
       "      <th>4</th>\n",
       "      <td>2/8/2021 17:42:26</td>\n",
       "      <td>1107510292</td>\n",
       "      <td>Masculino</td>\n",
       "      <td>165.0</td>\n",
       "      <td>70</td>\n",
       "      <td>93.5</td>\n",
       "      <td>89</td>\n",
       "    </tr>\n",
       "  </tbody>\n",
       "</table>\n",
       "</div>"
      ],
      "text/plain": [
       "           Timestamp     Código      Genero  Estatura en cm  Peso en Kg  \\\n",
       "0  2/8/2021 15:25:38    16079221  Masculino           175.0          80   \n",
       "1  2/8/2021 15:40:48   100229938   Femenino           157.0          65   \n",
       "2  2/8/2021 17:38:56  1107510292  Masculino           174.5          66   \n",
       "3  2/8/2021 17:40:10  1107510292  Masculino           185.0          52   \n",
       "4  2/8/2021 17:42:26  1107510292  Masculino           165.0          70   \n",
       "\n",
       "   Circunferencia cintura en cm  Circunferencia cadera cm  \n",
       "0                          90.0                       100  \n",
       "1                          88.0                       107  \n",
       "2                          90.0                        95  \n",
       "3                          72.0                        76  \n",
       "4                          93.5                        89  "
      ]
     },
     "execution_count": 54,
     "metadata": {},
     "output_type": "execute_result"
    }
   ],
   "source": [
    "import pandas as pd\n",
    "df = pd.DataFrame()\n",
    "df = pd.read_csv('CinturaCadera.csv')\n",
    "df.head()"
   ]
  },
  {
   "cell_type": "code",
   "execution_count": 42,
   "metadata": {},
   "outputs": [
    {
     "data": {
      "text/plain": [
       "Index(['Timestamp', 'Código ', 'Genero', 'Estatura en cm', 'Peso en Kg',\n",
       "       'Circunferencia cintura en cm', 'Circunferencia cadera cm'],\n",
       "      dtype='object')"
      ]
     },
     "execution_count": 42,
     "metadata": {},
     "output_type": "execute_result"
    }
   ],
   "source": [
    "df.columns"
   ]
  },
  {
   "cell_type": "markdown",
   "metadata": {},
   "source": [
    "### describe\n",
    "\n",
    "\n",
    "\n",
    "1. ```min()```\n",
    "2. ```median()```\n",
    "3. ```mean()```\n",
    "4. ```max()```\n",
    "5. ```quantile()```\n",
    "\n",
    "use the column ```Estatura en cm``` "
   ]
  },
  {
   "cell_type": "code",
   "execution_count": 43,
   "metadata": {},
   "outputs": [
    {
     "data": {
      "text/plain": [
       "155.0"
      ]
     },
     "execution_count": 43,
     "metadata": {},
     "output_type": "execute_result"
    }
   ],
   "source": [
    "df['Estatura en cm'].min()"
   ]
  },
  {
   "cell_type": "code",
   "execution_count": 44,
   "metadata": {},
   "outputs": [
    {
     "data": {
      "text/plain": [
       "count    35.000000\n",
       "mean     71.200000\n",
       "std      12.759771\n",
       "min      46.000000\n",
       "25%      61.500000\n",
       "50%      72.000000\n",
       "75%      80.000000\n",
       "max      95.000000\n",
       "Name: Peso en Kg, dtype: float64"
      ]
     },
     "execution_count": 44,
     "metadata": {},
     "output_type": "execute_result"
    }
   ],
   "source": [
    "df['Peso en Kg'].describe()"
   ]
  },
  {
   "cell_type": "code",
   "execution_count": 45,
   "metadata": {
    "scrolled": false
   },
   "outputs": [
    {
     "data": {
      "text/html": [
       "<div>\n",
       "<style scoped>\n",
       "    .dataframe tbody tr th:only-of-type {\n",
       "        vertical-align: middle;\n",
       "    }\n",
       "\n",
       "    .dataframe tbody tr th {\n",
       "        vertical-align: top;\n",
       "    }\n",
       "\n",
       "    .dataframe thead th {\n",
       "        text-align: right;\n",
       "    }\n",
       "</style>\n",
       "<table border=\"1\" class=\"dataframe\">\n",
       "  <thead>\n",
       "    <tr style=\"text-align: right;\">\n",
       "      <th></th>\n",
       "      <th>Timestamp</th>\n",
       "      <th>Código</th>\n",
       "      <th>Genero</th>\n",
       "      <th>Estatura en cm</th>\n",
       "      <th>Peso en Kg</th>\n",
       "      <th>Circunferencia cintura en cm</th>\n",
       "      <th>Circunferencia cadera cm</th>\n",
       "      <th>ICC</th>\n",
       "    </tr>\n",
       "  </thead>\n",
       "  <tbody>\n",
       "    <tr>\n",
       "      <th>0</th>\n",
       "      <td>2/8/2021 15:25:38</td>\n",
       "      <td>16079221</td>\n",
       "      <td>Masculino</td>\n",
       "      <td>175.0</td>\n",
       "      <td>80</td>\n",
       "      <td>90.0</td>\n",
       "      <td>100</td>\n",
       "      <td>0.900000</td>\n",
       "    </tr>\n",
       "    <tr>\n",
       "      <th>1</th>\n",
       "      <td>2/8/2021 15:40:48</td>\n",
       "      <td>100229938</td>\n",
       "      <td>Femenino</td>\n",
       "      <td>157.0</td>\n",
       "      <td>65</td>\n",
       "      <td>88.0</td>\n",
       "      <td>107</td>\n",
       "      <td>0.822430</td>\n",
       "    </tr>\n",
       "    <tr>\n",
       "      <th>2</th>\n",
       "      <td>2/8/2021 17:38:56</td>\n",
       "      <td>1107510292</td>\n",
       "      <td>Masculino</td>\n",
       "      <td>174.5</td>\n",
       "      <td>66</td>\n",
       "      <td>90.0</td>\n",
       "      <td>95</td>\n",
       "      <td>0.947368</td>\n",
       "    </tr>\n",
       "    <tr>\n",
       "      <th>3</th>\n",
       "      <td>2/8/2021 17:40:10</td>\n",
       "      <td>1107510292</td>\n",
       "      <td>Masculino</td>\n",
       "      <td>185.0</td>\n",
       "      <td>52</td>\n",
       "      <td>72.0</td>\n",
       "      <td>76</td>\n",
       "      <td>0.947368</td>\n",
       "    </tr>\n",
       "    <tr>\n",
       "      <th>4</th>\n",
       "      <td>2/8/2021 17:42:26</td>\n",
       "      <td>1107510292</td>\n",
       "      <td>Masculino</td>\n",
       "      <td>165.0</td>\n",
       "      <td>70</td>\n",
       "      <td>93.5</td>\n",
       "      <td>89</td>\n",
       "      <td>1.050562</td>\n",
       "    </tr>\n",
       "  </tbody>\n",
       "</table>\n",
       "</div>"
      ],
      "text/plain": [
       "           Timestamp     Código      Genero  Estatura en cm  Peso en Kg  \\\n",
       "0  2/8/2021 15:25:38    16079221  Masculino           175.0          80   \n",
       "1  2/8/2021 15:40:48   100229938   Femenino           157.0          65   \n",
       "2  2/8/2021 17:38:56  1107510292  Masculino           174.5          66   \n",
       "3  2/8/2021 17:40:10  1107510292  Masculino           185.0          52   \n",
       "4  2/8/2021 17:42:26  1107510292  Masculino           165.0          70   \n",
       "\n",
       "   Circunferencia cintura en cm  Circunferencia cadera cm       ICC  \n",
       "0                          90.0                       100  0.900000  \n",
       "1                          88.0                       107  0.822430  \n",
       "2                          90.0                        95  0.947368  \n",
       "3                          72.0                        76  0.947368  \n",
       "4                          93.5                        89  1.050562  "
      ]
     },
     "execution_count": 45,
     "metadata": {},
     "output_type": "execute_result"
    }
   ],
   "source": [
    "df['ICC'] = df['Circunferencia cintura en cm'] / df['Circunferencia cadera cm']\n",
    "df.head()"
   ]
  },
  {
   "cell_type": "code",
   "execution_count": 46,
   "metadata": {},
   "outputs": [
    {
     "data": {
      "text/plain": [
       "Index(['Timestamp', 'Código ', 'Genero', 'Estatura en cm', 'Peso en Kg',\n",
       "       'Circunferencia cintura en cm', 'Circunferencia cadera cm', 'ICC'],\n",
       "      dtype='object')"
      ]
     },
     "execution_count": 46,
     "metadata": {},
     "output_type": "execute_result"
    }
   ],
   "source": [
    "df.columns"
   ]
  },
  {
   "cell_type": "code",
   "execution_count": 47,
   "metadata": {},
   "outputs": [
    {
     "data": {
      "text/html": [
       "<div>\n",
       "<style scoped>\n",
       "    .dataframe tbody tr th:only-of-type {\n",
       "        vertical-align: middle;\n",
       "    }\n",
       "\n",
       "    .dataframe tbody tr th {\n",
       "        vertical-align: top;\n",
       "    }\n",
       "\n",
       "    .dataframe thead th {\n",
       "        text-align: right;\n",
       "    }\n",
       "</style>\n",
       "<table border=\"1\" class=\"dataframe\">\n",
       "  <thead>\n",
       "    <tr style=\"text-align: right;\">\n",
       "      <th></th>\n",
       "      <th>Código</th>\n",
       "      <th>Genero</th>\n",
       "      <th>ICC</th>\n",
       "    </tr>\n",
       "  </thead>\n",
       "  <tbody>\n",
       "    <tr>\n",
       "      <th>1</th>\n",
       "      <td>100229938</td>\n",
       "      <td>Femenino</td>\n",
       "      <td>0.822430</td>\n",
       "    </tr>\n",
       "    <tr>\n",
       "      <th>6</th>\n",
       "      <td>1006015335</td>\n",
       "      <td>Femenino</td>\n",
       "      <td>0.705263</td>\n",
       "    </tr>\n",
       "    <tr>\n",
       "      <th>7</th>\n",
       "      <td>1006015335</td>\n",
       "      <td>Femenino</td>\n",
       "      <td>0.670103</td>\n",
       "    </tr>\n",
       "    <tr>\n",
       "      <th>8</th>\n",
       "      <td>1006015335</td>\n",
       "      <td>Femenino</td>\n",
       "      <td>0.731959</td>\n",
       "    </tr>\n",
       "    <tr>\n",
       "      <th>9</th>\n",
       "      <td>1006015335</td>\n",
       "      <td>Femenino</td>\n",
       "      <td>0.757282</td>\n",
       "    </tr>\n",
       "    <tr>\n",
       "      <th>13</th>\n",
       "      <td>1149687663</td>\n",
       "      <td>Femenino</td>\n",
       "      <td>0.750000</td>\n",
       "    </tr>\n",
       "    <tr>\n",
       "      <th>15</th>\n",
       "      <td>1061747785</td>\n",
       "      <td>Femenino</td>\n",
       "      <td>0.800000</td>\n",
       "    </tr>\n",
       "    <tr>\n",
       "      <th>19</th>\n",
       "      <td>66814094</td>\n",
       "      <td>Femenino</td>\n",
       "      <td>0.800000</td>\n",
       "    </tr>\n",
       "    <tr>\n",
       "      <th>21</th>\n",
       "      <td>1061747785</td>\n",
       "      <td>Femenino</td>\n",
       "      <td>0.885714</td>\n",
       "    </tr>\n",
       "    <tr>\n",
       "      <th>22</th>\n",
       "      <td>25428471</td>\n",
       "      <td>Femenino</td>\n",
       "      <td>0.866667</td>\n",
       "    </tr>\n",
       "    <tr>\n",
       "      <th>28</th>\n",
       "      <td>1062335858</td>\n",
       "      <td>Femenino</td>\n",
       "      <td>0.907407</td>\n",
       "    </tr>\n",
       "    <tr>\n",
       "      <th>30</th>\n",
       "      <td>1234192915</td>\n",
       "      <td>Femenino</td>\n",
       "      <td>0.950000</td>\n",
       "    </tr>\n",
       "    <tr>\n",
       "      <th>34</th>\n",
       "      <td>31529511</td>\n",
       "      <td>Femenino</td>\n",
       "      <td>0.770000</td>\n",
       "    </tr>\n",
       "  </tbody>\n",
       "</table>\n",
       "</div>"
      ],
      "text/plain": [
       "       Código     Genero       ICC\n",
       "1    100229938  Femenino  0.822430\n",
       "6   1006015335  Femenino  0.705263\n",
       "7   1006015335  Femenino  0.670103\n",
       "8   1006015335  Femenino  0.731959\n",
       "9   1006015335  Femenino  0.757282\n",
       "13  1149687663  Femenino  0.750000\n",
       "15  1061747785  Femenino  0.800000\n",
       "19    66814094  Femenino  0.800000\n",
       "21  1061747785  Femenino  0.885714\n",
       "22    25428471  Femenino  0.866667\n",
       "28  1062335858  Femenino  0.907407\n",
       "30  1234192915  Femenino  0.950000\n",
       "34    31529511  Femenino  0.770000"
      ]
     },
     "execution_count": 47,
     "metadata": {},
     "output_type": "execute_result"
    }
   ],
   "source": [
    "df2 = df[['Código ','Genero','ICC']]\n",
    "df2.head()\n",
    "\n",
    "df3 = df2[df['Genero']==\"Femenino\"]\n",
    "df3"
   ]
  },
  {
   "cell_type": "code",
   "execution_count": 48,
   "metadata": {},
   "outputs": [
    {
     "data": {
      "text/html": [
       "<div>\n",
       "<style scoped>\n",
       "    .dataframe tbody tr th:only-of-type {\n",
       "        vertical-align: middle;\n",
       "    }\n",
       "\n",
       "    .dataframe tbody tr th {\n",
       "        vertical-align: top;\n",
       "    }\n",
       "\n",
       "    .dataframe thead th {\n",
       "        text-align: right;\n",
       "    }\n",
       "</style>\n",
       "<table border=\"1\" class=\"dataframe\">\n",
       "  <thead>\n",
       "    <tr style=\"text-align: right;\">\n",
       "      <th></th>\n",
       "      <th>Código</th>\n",
       "      <th>Genero</th>\n",
       "      <th>ICC</th>\n",
       "    </tr>\n",
       "  </thead>\n",
       "  <tbody>\n",
       "    <tr>\n",
       "      <th>21</th>\n",
       "      <td>1061747785</td>\n",
       "      <td>Femenino</td>\n",
       "      <td>0.885714</td>\n",
       "    </tr>\n",
       "    <tr>\n",
       "      <th>22</th>\n",
       "      <td>25428471</td>\n",
       "      <td>Femenino</td>\n",
       "      <td>0.866667</td>\n",
       "    </tr>\n",
       "    <tr>\n",
       "      <th>28</th>\n",
       "      <td>1062335858</td>\n",
       "      <td>Femenino</td>\n",
       "      <td>0.907407</td>\n",
       "    </tr>\n",
       "    <tr>\n",
       "      <th>30</th>\n",
       "      <td>1234192915</td>\n",
       "      <td>Femenino</td>\n",
       "      <td>0.950000</td>\n",
       "    </tr>\n",
       "  </tbody>\n",
       "</table>\n",
       "</div>"
      ],
      "text/plain": [
       "       Código     Genero       ICC\n",
       "21  1061747785  Femenino  0.885714\n",
       "22    25428471  Femenino  0.866667\n",
       "28  1062335858  Femenino  0.907407\n",
       "30  1234192915  Femenino  0.950000"
      ]
     },
     "execution_count": 48,
     "metadata": {},
     "output_type": "execute_result"
    }
   ],
   "source": [
    "df4 = df3.loc[df['ICC'] >= 0.86]\n",
    "df4"
   ]
  },
  {
   "cell_type": "code",
   "execution_count": 49,
   "metadata": {},
   "outputs": [
    {
     "name": "stdout",
     "output_type": "stream",
     "text": [
      "Riesgo alto en Mujeres\n"
     ]
    },
    {
     "data": {
      "text/html": [
       "<div>\n",
       "<style scoped>\n",
       "    .dataframe tbody tr th:only-of-type {\n",
       "        vertical-align: middle;\n",
       "    }\n",
       "\n",
       "    .dataframe tbody tr th {\n",
       "        vertical-align: top;\n",
       "    }\n",
       "\n",
       "    .dataframe thead th {\n",
       "        text-align: right;\n",
       "    }\n",
       "</style>\n",
       "<table border=\"1\" class=\"dataframe\">\n",
       "  <thead>\n",
       "    <tr style=\"text-align: right;\">\n",
       "      <th></th>\n",
       "      <th>Código</th>\n",
       "      <th>Genero</th>\n",
       "      <th>Riesgo Alto</th>\n",
       "    </tr>\n",
       "  </thead>\n",
       "  <tbody>\n",
       "    <tr>\n",
       "      <th>21</th>\n",
       "      <td>1061747785</td>\n",
       "      <td>Femenino</td>\n",
       "      <td>0.885714</td>\n",
       "    </tr>\n",
       "    <tr>\n",
       "      <th>22</th>\n",
       "      <td>25428471</td>\n",
       "      <td>Femenino</td>\n",
       "      <td>0.866667</td>\n",
       "    </tr>\n",
       "    <tr>\n",
       "      <th>28</th>\n",
       "      <td>1062335858</td>\n",
       "      <td>Femenino</td>\n",
       "      <td>0.907407</td>\n",
       "    </tr>\n",
       "    <tr>\n",
       "      <th>30</th>\n",
       "      <td>1234192915</td>\n",
       "      <td>Femenino</td>\n",
       "      <td>0.950000</td>\n",
       "    </tr>\n",
       "  </tbody>\n",
       "</table>\n",
       "</div>"
      ],
      "text/plain": [
       "       Código     Genero  Riesgo Alto\n",
       "21  1061747785  Femenino     0.885714\n",
       "22    25428471  Femenino     0.866667\n",
       "28  1062335858  Femenino     0.907407\n",
       "30  1234192915  Femenino     0.950000"
      ]
     },
     "execution_count": 49,
     "metadata": {},
     "output_type": "execute_result"
    }
   ],
   "source": [
    "print(\"Riesgo alto en Mujeres\")\n",
    "df5 = df4.rename(columns={ 'ICC': 'Riesgo Alto' })\n",
    "df5"
   ]
  },
  {
   "cell_type": "code",
   "execution_count": 50,
   "metadata": {},
   "outputs": [
    {
     "data": {
      "text/html": [
       "<div>\n",
       "<style scoped>\n",
       "    .dataframe tbody tr th:only-of-type {\n",
       "        vertical-align: middle;\n",
       "    }\n",
       "\n",
       "    .dataframe tbody tr th {\n",
       "        vertical-align: top;\n",
       "    }\n",
       "\n",
       "    .dataframe thead th {\n",
       "        text-align: right;\n",
       "    }\n",
       "</style>\n",
       "<table border=\"1\" class=\"dataframe\">\n",
       "  <thead>\n",
       "    <tr style=\"text-align: right;\">\n",
       "      <th></th>\n",
       "      <th>Timestamp</th>\n",
       "      <th>Código</th>\n",
       "      <th>Genero</th>\n",
       "      <th>Estatura en cm</th>\n",
       "      <th>Peso en Kg</th>\n",
       "      <th>Circunferencia cintura en cm</th>\n",
       "      <th>Circunferencia cadera cm</th>\n",
       "      <th>ICC</th>\n",
       "    </tr>\n",
       "  </thead>\n",
       "  <tbody>\n",
       "    <tr>\n",
       "      <th>0</th>\n",
       "      <td>2/8/2021 15:25:38</td>\n",
       "      <td>16079221</td>\n",
       "      <td>Masculino</td>\n",
       "      <td>175.0</td>\n",
       "      <td>80</td>\n",
       "      <td>90.0</td>\n",
       "      <td>100</td>\n",
       "      <td>0.900000</td>\n",
       "    </tr>\n",
       "    <tr>\n",
       "      <th>1</th>\n",
       "      <td>2/8/2021 15:40:48</td>\n",
       "      <td>100229938</td>\n",
       "      <td>Femenino</td>\n",
       "      <td>157.0</td>\n",
       "      <td>65</td>\n",
       "      <td>88.0</td>\n",
       "      <td>107</td>\n",
       "      <td>0.822430</td>\n",
       "    </tr>\n",
       "    <tr>\n",
       "      <th>2</th>\n",
       "      <td>2/8/2021 17:38:56</td>\n",
       "      <td>1107510292</td>\n",
       "      <td>Masculino</td>\n",
       "      <td>174.5</td>\n",
       "      <td>66</td>\n",
       "      <td>90.0</td>\n",
       "      <td>95</td>\n",
       "      <td>0.947368</td>\n",
       "    </tr>\n",
       "    <tr>\n",
       "      <th>3</th>\n",
       "      <td>2/8/2021 17:40:10</td>\n",
       "      <td>1107510292</td>\n",
       "      <td>Masculino</td>\n",
       "      <td>185.0</td>\n",
       "      <td>52</td>\n",
       "      <td>72.0</td>\n",
       "      <td>76</td>\n",
       "      <td>0.947368</td>\n",
       "    </tr>\n",
       "    <tr>\n",
       "      <th>4</th>\n",
       "      <td>2/8/2021 17:42:26</td>\n",
       "      <td>1107510292</td>\n",
       "      <td>Masculino</td>\n",
       "      <td>165.0</td>\n",
       "      <td>70</td>\n",
       "      <td>93.5</td>\n",
       "      <td>89</td>\n",
       "      <td>1.050562</td>\n",
       "    </tr>\n",
       "  </tbody>\n",
       "</table>\n",
       "</div>"
      ],
      "text/plain": [
       "           Timestamp     Código      Genero  Estatura en cm  Peso en Kg  \\\n",
       "0  2/8/2021 15:25:38    16079221  Masculino           175.0          80   \n",
       "1  2/8/2021 15:40:48   100229938   Femenino           157.0          65   \n",
       "2  2/8/2021 17:38:56  1107510292  Masculino           174.5          66   \n",
       "3  2/8/2021 17:40:10  1107510292  Masculino           185.0          52   \n",
       "4  2/8/2021 17:42:26  1107510292  Masculino           165.0          70   \n",
       "\n",
       "   Circunferencia cintura en cm  Circunferencia cadera cm       ICC  \n",
       "0                          90.0                       100  0.900000  \n",
       "1                          88.0                       107  0.822430  \n",
       "2                          90.0                        95  0.947368  \n",
       "3                          72.0                        76  0.947368  \n",
       "4                          93.5                        89  1.050562  "
      ]
     },
     "execution_count": 50,
     "metadata": {},
     "output_type": "execute_result"
    }
   ],
   "source": [
    "df.head()"
   ]
  },
  {
   "cell_type": "code",
   "execution_count": 53,
   "metadata": {},
   "outputs": [
    {
     "data": {
      "text/html": [
       "<div>\n",
       "<style scoped>\n",
       "    .dataframe tbody tr th:only-of-type {\n",
       "        vertical-align: middle;\n",
       "    }\n",
       "\n",
       "    .dataframe tbody tr th {\n",
       "        vertical-align: top;\n",
       "    }\n",
       "\n",
       "    .dataframe thead th {\n",
       "        text-align: right;\n",
       "    }\n",
       "</style>\n",
       "<table border=\"1\" class=\"dataframe\">\n",
       "  <thead>\n",
       "    <tr style=\"text-align: right;\">\n",
       "      <th></th>\n",
       "      <th>Código</th>\n",
       "      <th>Riesgo Alto Hombres</th>\n",
       "    </tr>\n",
       "  </thead>\n",
       "  <tbody>\n",
       "    <tr>\n",
       "      <th>4</th>\n",
       "      <td>1107510292</td>\n",
       "      <td>1.050562</td>\n",
       "    </tr>\n",
       "    <tr>\n",
       "      <th>5</th>\n",
       "      <td>1107510292</td>\n",
       "      <td>1.023810</td>\n",
       "    </tr>\n",
       "    <tr>\n",
       "      <th>25</th>\n",
       "      <td>1118310694</td>\n",
       "      <td>1.058824</td>\n",
       "    </tr>\n",
       "    <tr>\n",
       "      <th>31</th>\n",
       "      <td>1061747785</td>\n",
       "      <td>1.164384</td>\n",
       "    </tr>\n",
       "  </tbody>\n",
       "</table>\n",
       "</div>"
      ],
      "text/plain": [
       "       Código   Riesgo Alto Hombres\n",
       "4   1107510292             1.050562\n",
       "5   1107510292             1.023810\n",
       "25  1118310694             1.058824\n",
       "31  1061747785             1.164384"
      ]
     },
     "execution_count": 53,
     "metadata": {},
     "output_type": "execute_result"
    }
   ],
   "source": [
    "df1 = df[(df.Genero == \"Masculino\") & (df.ICC > 1)]\n",
    "df2 = df1.rename(columns={ 'ICC': 'Riesgo Alto Hombres' })\n",
    "df2[['Código ', 'Riesgo Alto Hombres']]"
   ]
  },
  {
   "cell_type": "markdown",
   "metadata": {},
   "source": [
    "- Realizar las tablas restantes.\n",
    "- Crear un gráfico que relacione el ICC bajo, moderado y alto con los Hombres y las Mujeres."
   ]
  }
 ],
 "metadata": {
  "kernelspec": {
   "display_name": "Python 3 (ipykernel)",
   "language": "python",
   "name": "python3"
  },
  "language_info": {
   "codemirror_mode": {
    "name": "ipython",
    "version": 3
   },
   "file_extension": ".py",
   "mimetype": "text/x-python",
   "name": "python",
   "nbconvert_exporter": "python",
   "pygments_lexer": "ipython3",
   "version": "3.11.5"
  }
 },
 "nbformat": 4,
 "nbformat_minor": 4
}
