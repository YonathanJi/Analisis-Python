{
 "cells": [
  {
   "cell_type": "markdown",
   "metadata": {},
   "source": [
    "## Regresión Logística (Clasificación)\n",
    "\n",
    "Hablemos ahora del problema de clasificación. Es igual que el problema de regresión, salvo que los valores y que ahora queremos predecir toman sólo un pequeño número de valores discretos. Por ahora, nos centraremos en el problema de clasificación binaria en la que  𝑦\n",
    "  puede tomar sólo dos valores, 0 y 1. (La mayor parte de lo que decimos aquí también se generalizará al caso de clases múltiples.) Por ejemplo, si estamos tratando de construir un clasificador de spam para el correo electrónico, a continuación,  𝑥(𝑖)\n",
    "  puede ser algunas características de una pieza de correo electrónico, y  𝑦\n",
    "  puede ser 1 si se trata de una pieza de correo spam, y 0 en caso contrario. El 0 también se denomina clase negativa y el 1 clase positiva, y a veces también se denotan con los símbolos \"-\" y \"+\". Dado  𝑥(𝑖)\n",
    "  , la correspondiente  𝑦(𝑖)\n",
    "  también se denomina etiqueta del ejemplo de entrenamiento."
   ]
  },
  {
   "cell_type": "code",
   "execution_count": 1,
   "metadata": {},
   "outputs": [
    {
     "name": "stdout",
     "output_type": "stream",
     "text": [
      "SUMA [12 14 10 18 20]\n",
      "RESTA [-10 -10 -16 -10 -10]\n",
      "DIVSION [ 0.09090909  0.16666667 -0.23076923  0.28571429  0.33333333]\n",
      "MULTIPLICACION [ 11  24 -39  56  75]\n",
      "POTENCIA [ 1  4  9 16 25]\n",
      "ABSOLUTO [1 2 3 4 5]\n"
     ]
    }
   ],
   "source": [
    "import numpy as np\n",
    "\n",
    "arreglo1 = np.array([1, 2, -3, 4, 5])\n",
    "arreglo2 = np.array([11, 12, 13, 14, 15])\n",
    "\n",
    "print(\"SUMA\", np.add(arreglo1, arreglo2))\n",
    "print(\"RESTA\", np.subtract(arreglo1, arreglo2))\n",
    "print(\"DIVSION\", np.divide(arreglo1, arreglo2))\n",
    "print(\"MULTIPLICACION\", np.multiply(arreglo1, arreglo2))\n",
    "print(\"POTENCIA\", np.power(arreglo1, 2))\n",
    "print(\"ABSOLUTO\", np.absolute(arreglo1))"
   ]
  },
  {
   "cell_type": "code",
   "execution_count": 2,
   "metadata": {},
   "outputs": [],
   "source": [
    "altura = np.array([1.74, 1.8, 1.78, 1.68, 1.78, 1.7, 1.74, 1.74, 1.73, 1.79, \n",
    "           1.78, 1.72, 1.65, 1.78, 1.7, 1.68, 1.79, 1.68, 1.82, 1.72,\n",
    "           1.75, 1.66, 1.67, 1.79, 1.75, 1.65, 1.78, 1.73, 1.71, 1.81,\n",
    "           1.73, 1.71, 1.68, 1.74, 1.75, 1.68, 1.74, 1.81, 1.73, 1.82,\n",
    "           1.8, 1.67, 1.73, 1.7, 1.73, 1.7, 1.81, 1.81, 1.76, 1.82, 1.68,\n",
    "           1.74, 1.65, 1.8, 1.78, 1.7, 1.68, 1.78, 1.79, 1.73, 1.64, 1.67,\n",
    "           1.69, 1.74, 1.76, 1.66, 1.66, 1.73, 1.79, 1.81, 1.78, 1.63,\n",
    "           1.76, 1.72, 1.71, 1.7, 1.62, 1.8, 1.75, 1.8, 1.78, 1.78, 1.76,\n",
    "           1.65, 1.65, 1.68, 1.74, 1.75, 1.69, 1.75, 1.7, 1.83, 1.64, 1.7,\n",
    "           1.69, 1.69, 1.64, 1.69, 1.77, 1.8, 1.78, 1.69, 1.7, 1.7, 1.7,\n",
    "           1.63, 1.73, 1.84, 1.66, 1.78, 1.8, 1.79, 1.78, 1.74, 1.77,\n",
    "           1.73, 1.77, 1.76, 1.75, 1.8, 1.75,  1.8, 1.79, 1.71, 1.73,\n",
    "           1.59, 1.76, 1.75, 1.71, 1.76, 1.8, 1.68, 1.74, 1.77, 1.73,\n",
    "           1.68, 1.63, 1.67]);\n",
    "\n",
    "peso = np.array([81.4, 88.7, 87.3, 62.7, 81.6, 80.9, 74.6, 84.7, 76.7, 88.3,\n",
    "         84.6, 74, 57.7, 84.1, 79.7, 63.8, 88.4, 71.2, 87.1, 67, 80.7,\n",
    "         74.7, 60.5, 85.9, 72.4, 59.7, 87.3, 85.7, 64.1, 91.9, 82.8, 75.7,\n",
    "         60.2, 73.1, 74.7, 65.9, 80.9, 91.3, 76, 86.8, 80.7, 74.2, 83.1,\n",
    "         77.8, 84.5, 58.8, 89.5, 87, 84, 89.9, 56.5, 80.2, 61.8, 86.3,\n",
    "         82.6, 69.4, 65.8, 79.3, 88.1, 78.5, 69.1, 62.5, 74, 74.4, 87.6,\n",
    "         59.6, 61.4, 83.2, 89.2, 89.2, 103.7, 67.9, 85.4, 69.5, 75.7, \n",
    "         83.9, 59.5, 87.9, 82.6, 88.1, 86.2, 88.9, 84.4, 58.4, 61.5, 69.2,\n",
    "         84.2, 78, 81.1, 81.5, 74.7, 90.4, 59.2, 79.3, 65.1, 93, 60.5,\n",
    "         76.4, 98.8, 89.1, 88.9, 61.1, 76.6, 86, 75.5, 66.9, 79.4, 87.9,\n",
    "         72.3, 93.8, 89, 90.7, 86.7, 77.6, 85.1, 91.8, 103.2, 91.1, 67,\n",
    "         86.9, 78.7, 87.1, 85.5, 69.8, 75, 53.9, 99, 93.7, 88, 79.4, 87.6,\n",
    "         60.4, 82.7, 90.6, 79.8, 61.2, 62.5, 59.7]);\n",
    "\n",
    "def calcular_imc(peso, altura):\n",
    "    return peso / (altura*altura)\n",
    "\n",
    "calcular_imc = np.frompyfunc(calcular_imc, 2, 1)\n",
    "\n",
    "calcular_imc(peso, altura);\n"
   ]
  },
  {
   "cell_type": "code",
   "execution_count": 3,
   "metadata": {},
   "outputs": [
    {
     "data": {
      "text/plain": [
       "<ufunc 'my_func (vectorized)'>"
      ]
     },
     "execution_count": 3,
     "metadata": {},
     "output_type": "execute_result"
    }
   ],
   "source": [
    "# Definir una función de Python simple\n",
    "def my_func(x):\n",
    "    return x + 1\n",
    "\n",
    "# Crear una ufunc a partir de la función de Python (función que se aplica sobre vectores, no se requiere ciclos for)\n",
    "# Función universal\n",
    "ufunc = np.frompyfunc(my_func, 1, 1) # 1,1) Recibe 1 argumento, retorna 1 salida.\n",
    "\n",
    "ufunc"
   ]
  },
  {
   "cell_type": "code",
   "execution_count": 4,
   "metadata": {},
   "outputs": [
    {
     "name": "stdout",
     "output_type": "stream",
     "text": [
      "[2 3 4 5]\n"
     ]
    }
   ],
   "source": [
    "# Crear un arreglo NumPy\n",
    "arr = np.array([1, 2, 3, 4])\n",
    "\n",
    "# Aplicar la ufunc al arreglo\n",
    "# ufunc = np.frompyfunc(my_func, 1, 1)\n",
    "result = ufunc(arr)\n",
    "\n",
    "print(result)"
   ]
  },
  {
   "cell_type": "code",
   "execution_count": 5,
   "metadata": {},
   "outputs": [
    {
     "name": "stdout",
     "output_type": "stream",
     "text": [
      "[1, 4, 9, 16, 25]\n"
     ]
    }
   ],
   "source": [
    "# Lista de números\n",
    "numeros = [1, 2, 3, 4, 5]\n",
    "\n",
    "# Utilizando una función lambda con map para elevar al cuadrado cada número\n",
    "cuadrados = list(map(lambda x: x**2, numeros))\n",
    "\n",
    "print(cuadrados)"
   ]
  },
  {
   "cell_type": "markdown",
   "metadata": {},
   "source": [
    "<img src=\"img/imagen 2.png\">"
   ]
  },
  {
   "cell_type": "markdown",
   "metadata": {},
   "source": [
    "<img src=\"img/imagen.png\">"
   ]
  },
  {
   "cell_type": "markdown",
   "metadata": {},
   "source": [
    "<img src=\"img/imagen 3.png\">"
   ]
  },
  {
   "cell_type": "markdown",
   "metadata": {},
   "source": [
    "# x = b0 + b1*x"
   ]
  },
  {
   "cell_type": "code",
   "execution_count": 6,
   "metadata": {},
   "outputs": [
    {
     "data": {
      "text/plain": [
       "<ufunc '<lambda> (vectorized)'>"
      ]
     },
     "execution_count": 6,
     "metadata": {},
     "output_type": "execute_result"
    }
   ],
   "source": [
    "import numpy as np\n",
    "import matplotlib.pyplot as plt\n",
    "import math\n",
    "\n",
    "# Se crea una función logística vectorial (ufuncs)\n",
    "logistica = np.frompyfunc(lambda b0, b1, x:                 #recibo 3 parámetros\n",
    "                         1 / (1 + math.exp(-(b0 + b1*x))),  #función logaritmica\n",
    "                         3, 1)                              #3 parámetros entrada, 1 salida \n",
    "logistica"
   ]
  },
  {
   "cell_type": "code",
   "execution_count": 7,
   "metadata": {},
   "outputs": [
    {
     "data": {
      "image/png": "[encoded data removed]",
      "text/plain": [
       "<Figure size 600x400 with 1 Axes>"
      ]
     },
     "metadata": {},
     "output_type": "display_data"
    }
   ],
   "source": [
    "# Graficamos la función logística\n",
    "plt.figure(figsize=(6, 4))\n",
    "\n",
    "x = np.arange(-5, 5, 0.1)\n",
    "\n",
    "# Primer ecuación logística\n",
    "plt.scatter(np.arange(-5, 5, 0.1),\n",
    "           logistica(0, 1, x),  #b0=0, b1=1\n",
    "           color=\"green\")\n",
    "\n",
    "plt.title(\"Función Logística Estándar\", fontsize=14.0)\n",
    "plt.ylabel(\"Probabilidad\", fontsize=13.0)\n",
    "plt.xlabel(\"Valores\", fontsize=13.0)\n",
    "plt.show()"
   ]
  },
  {
   "cell_type": "code",
   "execution_count": 8,
   "metadata": {},
   "outputs": [
    {
     "data": {
      "image/png": "[encoded data removed]",
      "text/plain": [
       "<Figure size 640x480 with 1 Axes>"
      ]
     },
     "metadata": {},
     "output_type": "display_data"
    }
   ],
   "source": [
    "# Segunda ecuación logística\n",
    "plt.scatter(np.arange(-5, 5, 0.1),\n",
    "           logistica(0, 2, np.arange(-5, 5, 0.1)),\n",
    "           color=\"gold\")\n",
    "\n",
    "# Tercer ecuación logística\n",
    "plt.scatter(np.arange(-5, 5, 0.1),\n",
    "           logistica(0, 3, np.arange(-5, 5, 0.1)),\n",
    "           color=\"red\")\n",
    "\n",
    "plt.title(\"Función Logística Estándar - Diferentes 'Pendientes'\", fontsize=14.0)\n",
    "plt.ylabel(\"Probabilidad\", fontsize=13.0)\n",
    "plt.xlabel(\"Valores\", fontsize=13.0)\n",
    "plt.show()"
   ]
  },
  {
   "cell_type": "code",
   "execution_count": 9,
   "metadata": {},
   "outputs": [
    {
     "data": {
      "image/png": "[encoded data removed]",
      "text/plain": [
       "<Figure size 640x480 with 1 Axes>"
      ]
     },
     "metadata": {},
     "output_type": "display_data"
    }
   ],
   "source": [
    "# Primer ecuación logística\n",
    "plt.scatter(np.arange(-5, 5, 0.1),\n",
    "           logistica(0, 1, np.arange(-5, 5, 0.1)),  #b0=0, b1=1\n",
    "           color=\"green\")\n",
    "\n",
    "# Segunda ecuación logística\n",
    "plt.scatter(np.arange(-5, 5, 0.1),\n",
    "           logistica(0, 2, np.arange(-5, 5, 0.1)),\n",
    "           color=\"gold\")\n",
    "\n",
    "# Tercer ecuación logística\n",
    "plt.scatter(np.arange(-5, 5, 0.1),\n",
    "           logistica(0, 3, np.arange(-5, 5, 0.1)),\n",
    "           color=\"red\")\n",
    "\n",
    "plt.title(\"Función Logística Estándar - Diferentes 'Pendientes'\", fontsize=14.0)\n",
    "plt.ylabel(\"Probabilidad\", fontsize=13.0)\n",
    "plt.xlabel(\"Valores\", fontsize=13.0)\n",
    "plt.show()"
   ]
  },
  {
   "cell_type": "markdown",
   "metadata": {},
   "source": [
    "# Taquicardia: Probabilidad y Clase"
   ]
  },
  {
   "cell_type": "code",
   "execution_count": 10,
   "metadata": {},
   "outputs": [
    {
     "data": {
      "image/png": "[encoded data removed]",
      "text/plain": [
       "<Figure size 600x400 with 1 Axes>"
      ]
     },
     "metadata": {},
     "output_type": "display_data"
    }
   ],
   "source": [
    "# Persona Normal de 60 a 100 latidos por minuto.\n",
    "# Persona con Taquicardia de hasta 220 latidos por minuto.\n",
    "personas_normal = [65, 70, 80, 80, 80,\n",
    "                   90, 95, 100, 105, 110]\n",
    "\n",
    "personas_taquicardia = [105, 110, 110, 120, 120,\n",
    "                        130, 140, 180, 185, 190]\n",
    "\n",
    "# Graficamos una función logística\n",
    "plt.figure(figsize=(6, 4))\n",
    "\n",
    "#Arrancamos el desarrollo del final al inicio...\n",
    "\n",
    "# y = b0 + b1x\n",
    "# y = -46.68057196 + 0.42460226x\n",
    "\n",
    "plt.scatter(np.arange(60, 200, 0.1),              #frecuencia cardiaca 60 - 200\n",
    "            logistica(-46.68057196, 0.42460226,\n",
    "                      np.arange(60, 200, 0.1)))  \n",
    "\n",
    "# Graficamos la frecuencia cardíaca de las personas \n",
    "plt.scatter(personas_normal, [0]*10, \n",
    "            marker=\"o\", c=\"green\", s=250, label=\"Normal\")    \n",
    "plt.scatter(personas_taquicardia, [1]*10, \n",
    "            marker=\"o\", c=\"red\", s=250, label=\"Taquicardia\")    \n",
    "\n",
    "# Graficamos las probabilidades para tres (3) individuos\n",
    "individuos = [80, 110, 180]\n",
    "\n",
    "probalidades = logistica(-46.68057196, 0.42460226, individuos) #logística es función que ya vamos a calcular\n",
    "\n",
    "\n",
    "# Crear un gráfico de dispersión con estrellas como marcadores, color naranja oscuro y tamaño de 500\n",
    "plt.scatter(individuos, probalidades, marker=\"*\", c=\"darkorange\", s=500)\n",
    "\n",
    "# Añadir texto a la primera ubicación en el gráfico con información sobre la probabilidad\n",
    "plt.text(individuos[0]+7, 0.05, \"%0.2f\" % probalidades[0], size=12, color=\"black\")\n",
    "\n",
    "# Añadir texto a la segunda ubicación en el gráfico con información sobre la probabilidad\n",
    "plt.text(individuos[1]+7, 0.48, \"%0.2f\" % probalidades[1], size=12, color=\"black\")\n",
    "\n",
    "# Añadir texto a la tercera ubicación en el gráfico con información sobre la probabilidad\n",
    "plt.text(individuos[2]+7, 0.90, \"%0.2f\" % probalidades[2], size=12, color=\"black\")\n",
    "\n",
    "# Añadir texto a la ubicación (0, 1) en el gráfico con la etiqueta \"TAQUICARDIA\"\n",
    "plt.text(0, 1, \"TAQUICARDIA\", size=12, color=\"red\")\n",
    "\n",
    "# Añadir texto a la ubicación (0, 0) en el gráfico con la etiqueta \"NORMAL\"\n",
    "plt.text(0, 0, \"NORMAL\", size=12, color=\"red\")\n",
    "\n",
    "# Etiquetar el eje y con \"Probabilidad de Taquicardia\" y el eje x con \"Frecuencia cardíaca (latidos por minuto)\"\n",
    "plt.ylabel(\"Probabilidad de Taquicardia\", fontsize=13.0)\n",
    "plt.xlabel(\"Frecuencia cardíaca (latidos por minuto)\", fontsize=13.0)\n",
    "\n",
    "# Mostrar la leyenda en una posición específica\n",
    "plt.legend(bbox_to_anchor=(1, 0.2))\n",
    "\n",
    "# Mostrar el gráfico\n",
    "plt.show()"
   ]
  },
  {
   "cell_type": "markdown",
   "metadata": {},
   "source": [
    "# Máxima Verosimilitud"
   ]
  },
  {
   "cell_type": "code",
   "execution_count": 11,
   "metadata": {},
   "outputs": [
    {
     "data": {
      "image/png": "[encoded data removed]",
      "text/plain": [
       "<Figure size 600x400 with 1 Axes>"
      ]
     },
     "metadata": {},
     "output_type": "display_data"
    }
   ],
   "source": [
    "# Diferentes funciones logísticas con diferentes \"pendientes\"\n",
    "plt.figure(figsize=(6, 4))\n",
    "\n",
    "for b1 in np.arange(0.35, 0.49, 0.025):\n",
    "    plt.scatter(np.arange(60, 200, 0.1), \n",
    "                logistica(-46.68057196,\n",
    "                          b1,\n",
    "                          np.arange(60, 200, 0.1)),\n",
    "                label=\"b_1=%0.2f\" % b1)  \n",
    "   \n",
    "# Graficamos la frecuencia cardíaca de las personas \n",
    "# Crear un gráfico de dispersión para personas normales con marcadores verdes y tamaño de 250\n",
    "# El valor 0 en el eje y indica que todas las personas normales tienen probabilidad 0 de taquicardia\n",
    "plt.scatter(personas_normal, [0]*10, marker=\"o\", c=\"green\", s=250, label=\"Normal\")\n",
    "\n",
    "# Crear un gráfico de dispersión para personas con taquicardia con marcadores rojos y tamaño de 250\n",
    "# El valor 1 en el eje y indica que todas las personas con taquicardia tienen probabilidad 1 de taquicardia\n",
    "plt.scatter(personas_taquicardia, [1]*10, marker=\"o\", c=\"red\", s=250, label=\"Taquicardia\")\n",
    "\n",
    "# Establecer el título del gráfico como \"Máxima Verosimilitud\" con tamaño de fuente 18.0\n",
    "plt.title(\"Máxima Verosimilitud\", fontsize=18.0)\n",
    "\n",
    "# Añadir texto a la ubicación (0, 1) en el gráfico con la etiqueta \"TAQUICARDIA\"\n",
    "plt.text(0, 1, \"TAQUICARDIA\", size=12, color=\"red\")\n",
    "\n",
    "# Añadir texto a la ubicación (0, 0) en el gráfico con la etiqueta \"NORMAL\"\n",
    "plt.text(0, 0, \"NORMAL\", size=12, color=\"red\")\n",
    "\n",
    "# Etiquetar el eje y con \"Probabilidad de Taquicardia\" y el eje x con \"Frecuencia cardíaca (latidos por minuto)\"\n",
    "plt.ylabel(\"Probabilidad de Taquicardia\", fontsize=13.0)\n",
    "plt.xlabel(\"Frecuencia cardíaca (latidos por minuto)\", fontsize=13.0)\n",
    "\n",
    "# Mostrar la leyenda en una posición específica\n",
    "plt.legend(bbox_to_anchor=(1, 1))\n",
    "\n",
    "# Mostrar el gráfico\n",
    "plt.show()"
   ]
  },
  {
   "cell_type": "markdown",
   "metadata": {},
   "source": [
    "# Modelo de Regresión Logística"
   ]
  },
  {
   "cell_type": "code",
   "execution_count": 12,
   "metadata": {},
   "outputs": [
    {
     "name": "stdout",
     "output_type": "stream",
     "text": [
      "[1 1 0 0 0 1]\n"
     ]
    }
   ],
   "source": [
    "from sklearn.linear_model import LogisticRegression\n",
    "from sklearn.model_selection import train_test_split #librería para separa datos en entrenamiento y prueba\n",
    "\n",
    "frecuencias_cardiacas = [[65], [70], [80], [80], [80],\n",
    "                         [90], [95], [100], [105], [110],\n",
    "                         [105], [110], [110], [120], [120],\n",
    "                         [130], [140], [180], [185], [190]]\n",
    "\n",
    "clase = [0, 0, 0, 0, 0, 0, 0, 0, 0, 0,\n",
    "         1, 1, 1, 1, 1, 1, 1, 1, 1, 1]\n",
    "\n",
    "# Creamos conjuntos de entrenamiento y de prueba del modelo\n",
    "datos_entrena, datos_prueba, clase_entrena, clase_prueba = \\\n",
    "    train_test_split(frecuencias_cardiacas,   #separa los datos de manera aleatoria\n",
    "                     clase, \n",
    "                     test_size=0.30)          #30% de prueba\n",
    "\n",
    "# Creamos el modelo de Regresión Logística\n",
    "# Crear un modelo de regresión logística y entrenarlo con los datos de entrenamiento y las etiquetas de clase correspondientes.\n",
    "modelo = LogisticRegression().fit(datos_entrena, clase_entrena)\n",
    "\n",
    "# Configurar las opciones de impresión de NumPy para que los números se muestren sin notación científica.\n",
    "np.set_printoptions(suppress=True)\n",
    "\n",
    "# Imprimir las predicciones del modelo para los datos de prueba.\n",
    "print(modelo.predict(datos_prueba))"
   ]
  },
  {
   "cell_type": "code",
   "execution_count": 13,
   "metadata": {},
   "outputs": [
    {
     "name": "stdout",
     "output_type": "stream",
     "text": [
      "[[0.34976236 0.65023764]\n",
      " [0.00204969 0.99795031]\n",
      " [0.99956154 0.00043846]\n",
      " [0.99999326 0.00000674]\n",
      " [0.99295135 0.00704865]\n",
      " [0.0001269  0.9998731 ]]\n",
      "1.0\n",
      "[-30.00353175] [[0.27839651]]\n"
     ]
    }
   ],
   "source": [
    "# Imprimir las probabilidades de predicción del modelo para cada clase en lugar de solo las etiquetas de clase.\n",
    "print(modelo.predict_proba(datos_prueba))\n",
    "\n",
    "# Imprimir la precisión del modelo en los datos de prueba comparando las predicciones con las etiquetas reales.\n",
    "print(modelo.score(datos_prueba, clase_prueba))\n",
    "\n",
    "# Imprimir los parámetros del modelo, que son el término de intercepción (intercept_) y los coeficientes (coef_).\n",
    "print(modelo.intercept_, modelo.coef_) #b0, b1"
   ]
  },
  {
   "cell_type": "markdown",
   "metadata": {},
   "source": [
    "# Base de datos del Titanic"
   ]
  },
  {
   "cell_type": "code",
   "execution_count": 14,
   "metadata": {},
   "outputs": [],
   "source": [
    "#!pip install pydataset"
   ]
  },
  {
   "cell_type": "code",
   "execution_count": 15,
   "metadata": {},
   "outputs": [],
   "source": [
    "from pydataset import data \n",
    "import pandas as pd\n",
    "import numpy as np\n",
    "from sklearn.linear_model import LogisticRegression\n",
    "from sklearn.model_selection import train_test_split"
   ]
  },
  {
   "cell_type": "code",
   "execution_count": 16,
   "metadata": {},
   "outputs": [
    {
     "data": {
      "text/html": [
       "<div>\n",
       "<style scoped>\n",
       "    .dataframe tbody tr th:only-of-type {\n",
       "        vertical-align: middle;\n",
       "    }\n",
       "\n",
       "    .dataframe tbody tr th {\n",
       "        vertical-align: top;\n",
       "    }\n",
       "\n",
       "    .dataframe thead th {\n",
       "        text-align: right;\n",
       "    }\n",
       "</style>\n",
       "<table border=\"1\" class=\"dataframe\">\n",
       "  <thead>\n",
       "    <tr style=\"text-align: right;\">\n",
       "      <th></th>\n",
       "      <th>class</th>\n",
       "      <th>age</th>\n",
       "      <th>sex</th>\n",
       "      <th>survived</th>\n",
       "    </tr>\n",
       "  </thead>\n",
       "  <tbody>\n",
       "    <tr>\n",
       "      <th>1</th>\n",
       "      <td>1st class</td>\n",
       "      <td>adults</td>\n",
       "      <td>man</td>\n",
       "      <td>yes</td>\n",
       "    </tr>\n",
       "    <tr>\n",
       "      <th>2</th>\n",
       "      <td>1st class</td>\n",
       "      <td>adults</td>\n",
       "      <td>man</td>\n",
       "      <td>yes</td>\n",
       "    </tr>\n",
       "    <tr>\n",
       "      <th>3</th>\n",
       "      <td>1st class</td>\n",
       "      <td>adults</td>\n",
       "      <td>man</td>\n",
       "      <td>yes</td>\n",
       "    </tr>\n",
       "    <tr>\n",
       "      <th>4</th>\n",
       "      <td>1st class</td>\n",
       "      <td>adults</td>\n",
       "      <td>man</td>\n",
       "      <td>yes</td>\n",
       "    </tr>\n",
       "    <tr>\n",
       "      <th>5</th>\n",
       "      <td>1st class</td>\n",
       "      <td>adults</td>\n",
       "      <td>man</td>\n",
       "      <td>yes</td>\n",
       "    </tr>\n",
       "    <tr>\n",
       "      <th>...</th>\n",
       "      <td>...</td>\n",
       "      <td>...</td>\n",
       "      <td>...</td>\n",
       "      <td>...</td>\n",
       "    </tr>\n",
       "    <tr>\n",
       "      <th>1312</th>\n",
       "      <td>3rd class</td>\n",
       "      <td>child</td>\n",
       "      <td>women</td>\n",
       "      <td>no</td>\n",
       "    </tr>\n",
       "    <tr>\n",
       "      <th>1313</th>\n",
       "      <td>3rd class</td>\n",
       "      <td>child</td>\n",
       "      <td>women</td>\n",
       "      <td>no</td>\n",
       "    </tr>\n",
       "    <tr>\n",
       "      <th>1314</th>\n",
       "      <td>3rd class</td>\n",
       "      <td>child</td>\n",
       "      <td>women</td>\n",
       "      <td>no</td>\n",
       "    </tr>\n",
       "    <tr>\n",
       "      <th>1315</th>\n",
       "      <td>3rd class</td>\n",
       "      <td>child</td>\n",
       "      <td>women</td>\n",
       "      <td>no</td>\n",
       "    </tr>\n",
       "    <tr>\n",
       "      <th>1316</th>\n",
       "      <td>3rd class</td>\n",
       "      <td>child</td>\n",
       "      <td>women</td>\n",
       "      <td>no</td>\n",
       "    </tr>\n",
       "  </tbody>\n",
       "</table>\n",
       "<p>1316 rows × 4 columns</p>\n",
       "</div>"
      ],
      "text/plain": [
       "          class     age    sex survived\n",
       "1     1st class  adults    man      yes\n",
       "2     1st class  adults    man      yes\n",
       "3     1st class  adults    man      yes\n",
       "4     1st class  adults    man      yes\n",
       "5     1st class  adults    man      yes\n",
       "...         ...     ...    ...      ...\n",
       "1312  3rd class   child  women       no\n",
       "1313  3rd class   child  women       no\n",
       "1314  3rd class   child  women       no\n",
       "1315  3rd class   child  women       no\n",
       "1316  3rd class   child  women       no\n",
       "\n",
       "[1316 rows x 4 columns]"
      ]
     },
     "execution_count": 16,
     "metadata": {},
     "output_type": "execute_result"
    }
   ],
   "source": [
    "# Cargar el conjunto de datos del Titanic utilizando la función 'data' (puede ser pd.read_csv, pd.read_excel, etc. dependiendo del formato del archivo).\n",
    "titanic = data('titanic')\n",
    "\n",
    "# Mostrar las primeras filas del conjunto de datos para obtener una vista previa de los datos.\n",
    "titanic"
   ]
  },
  {
   "cell_type": "code",
   "execution_count": 17,
   "metadata": {},
   "outputs": [
    {
     "data": {
      "text/html": [
       "<div>\n",
       "<style scoped>\n",
       "    .dataframe tbody tr th:only-of-type {\n",
       "        vertical-align: middle;\n",
       "    }\n",
       "\n",
       "    .dataframe tbody tr th {\n",
       "        vertical-align: top;\n",
       "    }\n",
       "\n",
       "    .dataframe thead th {\n",
       "        text-align: right;\n",
       "    }\n",
       "</style>\n",
       "<table border=\"1\" class=\"dataframe\">\n",
       "  <thead>\n",
       "    <tr style=\"text-align: right;\">\n",
       "      <th></th>\n",
       "      <th>class_2nd class</th>\n",
       "      <th>class_3rd class</th>\n",
       "      <th>age_child</th>\n",
       "      <th>sex_women</th>\n",
       "      <th>survived_yes</th>\n",
       "    </tr>\n",
       "  </thead>\n",
       "  <tbody>\n",
       "    <tr>\n",
       "      <th>1</th>\n",
       "      <td>0</td>\n",
       "      <td>0</td>\n",
       "      <td>0</td>\n",
       "      <td>0</td>\n",
       "      <td>1</td>\n",
       "    </tr>\n",
       "    <tr>\n",
       "      <th>2</th>\n",
       "      <td>0</td>\n",
       "      <td>0</td>\n",
       "      <td>0</td>\n",
       "      <td>0</td>\n",
       "      <td>1</td>\n",
       "    </tr>\n",
       "    <tr>\n",
       "      <th>3</th>\n",
       "      <td>0</td>\n",
       "      <td>0</td>\n",
       "      <td>0</td>\n",
       "      <td>0</td>\n",
       "      <td>1</td>\n",
       "    </tr>\n",
       "    <tr>\n",
       "      <th>4</th>\n",
       "      <td>0</td>\n",
       "      <td>0</td>\n",
       "      <td>0</td>\n",
       "      <td>0</td>\n",
       "      <td>1</td>\n",
       "    </tr>\n",
       "    <tr>\n",
       "      <th>5</th>\n",
       "      <td>0</td>\n",
       "      <td>0</td>\n",
       "      <td>0</td>\n",
       "      <td>0</td>\n",
       "      <td>1</td>\n",
       "    </tr>\n",
       "    <tr>\n",
       "      <th>...</th>\n",
       "      <td>...</td>\n",
       "      <td>...</td>\n",
       "      <td>...</td>\n",
       "      <td>...</td>\n",
       "      <td>...</td>\n",
       "    </tr>\n",
       "    <tr>\n",
       "      <th>1312</th>\n",
       "      <td>0</td>\n",
       "      <td>1</td>\n",
       "      <td>1</td>\n",
       "      <td>1</td>\n",
       "      <td>0</td>\n",
       "    </tr>\n",
       "    <tr>\n",
       "      <th>1313</th>\n",
       "      <td>0</td>\n",
       "      <td>1</td>\n",
       "      <td>1</td>\n",
       "      <td>1</td>\n",
       "      <td>0</td>\n",
       "    </tr>\n",
       "    <tr>\n",
       "      <th>1314</th>\n",
       "      <td>0</td>\n",
       "      <td>1</td>\n",
       "      <td>1</td>\n",
       "      <td>1</td>\n",
       "      <td>0</td>\n",
       "    </tr>\n",
       "    <tr>\n",
       "      <th>1315</th>\n",
       "      <td>0</td>\n",
       "      <td>1</td>\n",
       "      <td>1</td>\n",
       "      <td>1</td>\n",
       "      <td>0</td>\n",
       "    </tr>\n",
       "    <tr>\n",
       "      <th>1316</th>\n",
       "      <td>0</td>\n",
       "      <td>1</td>\n",
       "      <td>1</td>\n",
       "      <td>1</td>\n",
       "      <td>0</td>\n",
       "    </tr>\n",
       "  </tbody>\n",
       "</table>\n",
       "<p>1316 rows × 5 columns</p>\n",
       "</div>"
      ],
      "text/plain": [
       "      class_2nd class  class_3rd class  age_child  sex_women  survived_yes\n",
       "1                   0                0          0          0             1\n",
       "2                   0                0          0          0             1\n",
       "3                   0                0          0          0             1\n",
       "4                   0                0          0          0             1\n",
       "5                   0                0          0          0             1\n",
       "...               ...              ...        ...        ...           ...\n",
       "1312                0                1          1          1             0\n",
       "1313                0                1          1          1             0\n",
       "1314                0                1          1          1             0\n",
       "1315                0                1          1          1             0\n",
       "1316                0                1          1          1             0\n",
       "\n",
       "[1316 rows x 5 columns]"
      ]
     },
     "execution_count": 17,
     "metadata": {},
     "output_type": "execute_result"
    }
   ],
   "source": [
    "titanic = pd.get_dummies(titanic, drop_first=True)\n",
    "titanic"
   ]
  },
  {
   "cell_type": "code",
   "execution_count": 18,
   "metadata": {},
   "outputs": [],
   "source": [
    "# Dividir el conjunto de datos en conjuntos de entrenamiento y prueba utilizando la función train_test_split de scikit-learn.\n",
    "# Se excluye la columna 'survived_yes' del conjunto de características (X) y se asigna la variable objetivo 'survived_yes' al conjunto y.\n",
    "X_train, X_test, y_train, y_test = train_test_split(titanic.drop('survived_yes', axis=1), titanic['survived_yes'])"
   ]
  },
  {
   "cell_type": "code",
   "execution_count": 19,
   "metadata": {},
   "outputs": [
    {
     "name": "stdout",
     "output_type": "stream",
     "text": [
      "aprendiendo... \n"
     ]
    },
    {
     "data": {
      "text/plain": [
       "1027    0\n",
       "473     0\n",
       "201     1\n",
       "196     1\n",
       "433     0\n",
       "       ..\n",
       "830     0\n",
       "224     1\n",
       "1030    0\n",
       "448     0\n",
       "391     0\n",
       "Name: survived_yes, Length: 987, dtype: uint8"
      ]
     },
     "execution_count": 19,
     "metadata": {},
     "output_type": "execute_result"
    }
   ],
   "source": [
    "# Crear un modelo de regresión logística utilizando el solver 'lbfgs'.\n",
    "modelo = LogisticRegression(solver='lbfgs') #'lbfgs' usado para la función de coste\n",
    "\n",
    "# Ajustar el modelo utilizando los conjuntos de entrenamiento.\n",
    "modelo.fit(X_train, y_train)\n",
    "\n",
    "print(\"aprendiendo... \")\n",
    "\n",
    "y_train"
   ]
  },
  {
   "cell_type": "code",
   "execution_count": 59,
   "metadata": {},
   "outputs": [
    {
     "name": "stderr",
     "output_type": "stream",
     "text": [
      "C:\\ProgramData\\anaconda3\\Lib\\site-packages\\sklearn\\base.py:439: UserWarning: X does not have valid feature names, but LogisticRegression was fitted with feature names\n",
      "  warnings.warn(\n"
     ]
    },
    {
     "data": {
      "text/plain": [
       "1"
      ]
     },
     "execution_count": 59,
     "metadata": {},
     "output_type": "execute_result"
    }
   ],
   "source": [
    "# class_2nd class\tclass_3rd class\tage_child\tsex_women\tsurvived_yes\n",
    "modelo.predict(np.array([[0,0,1,0]]))[0]"
   ]
  },
  {
   "cell_type": "code",
   "execution_count": 21,
   "metadata": {},
   "outputs": [
    {
     "name": "stderr",
     "output_type": "stream",
     "text": [
      "C:\\ProgramData\\anaconda3\\Lib\\site-packages\\sklearn\\base.py:439: UserWarning: X does not have valid feature names, but LogisticRegression was fitted with feature names\n",
      "  warnings.warn(\n"
     ]
    },
    {
     "data": {
      "text/plain": [
       "0"
      ]
     },
     "execution_count": 21,
     "metadata": {},
     "output_type": "execute_result"
    }
   ],
   "source": [
    "# class_2nd class\tclass_3rd class\tage_child\tsex_women\tsurvived_yes\n",
    "modelo.predict(np.array([[0,1,0,0]]))[0]"
   ]
  },
  {
   "cell_type": "code",
   "execution_count": 22,
   "metadata": {},
   "outputs": [
    {
     "data": {
      "text/plain": [
       "0.7730496453900709"
      ]
     },
     "execution_count": 22,
     "metadata": {},
     "output_type": "execute_result"
    }
   ],
   "source": [
    "modelo.score(X_train, y_train)"
   ]
  },
  {
   "cell_type": "code",
   "execution_count": 23,
   "metadata": {},
   "outputs": [
    {
     "data": {
      "text/plain": [
       "array([0, 0, 1, 1, 0, 0, 0, 0, 1, 0, 0, 0, 0, 0, 0, 0, 1, 1, 1, 1, 1, 0,\n",
       "       1, 0, 0, 0, 0, 0, 1, 0, 0, 0, 0, 0, 0, 0, 1, 0, 1, 0, 0, 0, 0, 1,\n",
       "       1, 0, 1, 0, 1, 0, 0, 1, 1, 0, 0, 0, 0, 1, 1, 0, 0, 0, 1, 1, 0, 0,\n",
       "       0, 1, 0, 1, 0, 1, 1, 0, 0, 0, 1, 1, 0, 0, 1, 1, 1, 1, 0, 0, 0, 0,\n",
       "       0, 1, 1, 0, 0, 0, 0, 0, 1, 0, 1, 0, 0, 1, 0, 0, 0, 0, 0, 1, 0, 0,\n",
       "       0, 0, 0, 0, 0, 1, 0, 0, 0, 0, 1, 0, 0, 1, 0, 0, 1, 0, 1, 0, 0, 1,\n",
       "       0, 0, 1, 0, 1, 0, 0, 1, 0, 0, 0, 0, 1, 0, 0, 1, 0, 1, 0, 1, 1, 0,\n",
       "       0, 0, 0, 0, 0, 0, 0, 0, 0, 0, 1, 0, 0, 0, 1, 1, 0, 1, 0, 0, 0, 1,\n",
       "       1, 1, 1, 0, 1, 0, 1, 0, 0, 1, 0, 0, 0, 0, 1, 0, 0, 0, 1, 0, 0, 1,\n",
       "       0, 1, 0, 0, 0, 0, 0, 0, 1, 1, 1, 0, 1, 0, 1, 1, 0, 1, 0, 1, 1, 0,\n",
       "       0, 1, 0, 1, 0, 1, 0, 0, 0, 0, 1, 0, 0, 0, 1, 0, 1, 1, 0, 0, 1, 0,\n",
       "       0, 0, 1, 0, 1, 0, 0, 1, 0, 1, 1, 0, 0, 0, 1, 0, 0, 1, 0, 1, 0, 0,\n",
       "       1, 1, 0, 1, 0, 1, 0, 0, 0, 1, 0, 0, 0, 0, 0, 0, 1, 1, 1, 1, 1, 1,\n",
       "       0, 0, 1, 0, 0, 1, 0, 0, 1, 0, 0, 0, 0, 0, 0, 0, 1, 0, 0, 0, 0, 1,\n",
       "       0, 0, 0, 0, 1, 1, 1, 0, 0, 1, 0, 0, 0, 0, 1, 0, 1, 0, 0, 1, 0, 0,\n",
       "       0, 0, 0, 1, 0, 1, 0, 0, 0, 0, 1, 1, 0, 0, 1, 0, 0, 0, 0, 0, 1, 0,\n",
       "       0, 1, 0, 1, 0, 1, 0, 1, 1, 0, 1, 1, 1, 0, 0, 0, 0, 1, 1, 0, 0, 0,\n",
       "       0, 0, 1, 1, 0, 0, 1, 1, 1, 0, 0, 1, 0, 0, 1, 1, 0, 0, 0, 1, 1, 0,\n",
       "       1, 0, 0, 1, 0, 0, 0, 0, 1, 0, 0, 0, 0, 0, 0, 1, 0, 1, 0, 0, 0, 1,\n",
       "       0, 0, 0, 1, 0, 1, 0, 0, 1, 0, 0, 0, 0, 0, 0, 0, 0, 0, 0, 0, 1, 1,\n",
       "       1, 0, 1, 0, 1, 0, 1, 1, 1, 0, 0, 0, 1, 0, 1, 0, 1, 0, 0, 0, 0, 1,\n",
       "       0, 1, 0, 1, 0, 1, 0, 0, 0, 1, 0, 0, 1, 0, 1, 0, 0, 1, 0, 1, 1, 0,\n",
       "       0, 0, 0, 0, 1, 0, 0, 1, 1, 0, 0, 0, 0, 0, 0, 0, 0, 1, 0, 1, 1, 1,\n",
       "       0, 1, 1, 0, 0, 1, 0, 1, 0, 1, 0, 1, 0, 1, 1, 1, 1, 0, 0, 0, 0, 0,\n",
       "       0, 0, 1, 0, 1, 0, 0, 0, 1, 1, 0, 0, 0, 0, 0, 1, 0, 1, 1, 0, 1, 1,\n",
       "       0, 0, 0, 0, 0, 0, 0, 0, 1, 0, 0, 0, 1, 1, 0, 0, 0, 0, 1, 0, 0, 0,\n",
       "       0, 1, 0, 0, 0, 0, 0, 0, 1, 0, 0, 1, 0, 0, 0, 1, 0, 0, 1, 0, 0, 0,\n",
       "       0, 1, 1, 0, 0, 1, 0, 1, 0, 1, 1, 0, 1, 0, 1, 0, 0, 0, 0, 0, 0, 0,\n",
       "       0, 1, 1, 0, 1, 0, 0, 1, 0, 1, 1, 1, 0, 0, 1, 0, 0, 0, 1, 1, 0, 1,\n",
       "       0, 0, 0, 0, 0, 0, 1, 1, 0, 1, 1, 1, 0, 0, 1, 0, 0, 0, 1, 1, 1, 1,\n",
       "       0, 0, 0, 1, 0, 0, 1, 0, 0, 1, 0, 0, 1, 1, 0, 0, 0, 1, 0, 0, 1, 1,\n",
       "       0, 0, 0, 1, 0, 1, 0, 0, 0, 1, 0, 1, 0, 0, 0, 0, 1, 0, 0, 1, 0, 0,\n",
       "       1, 0, 0, 0, 0, 1, 1, 0, 1, 0, 0, 1, 0, 0, 0, 0, 0, 0, 1, 0, 1, 0,\n",
       "       0, 0, 0, 1, 0, 0, 1, 0, 0, 0, 0, 0, 0, 1, 0, 1, 0, 0, 0, 0, 0, 1,\n",
       "       1, 1, 1, 1, 0, 0, 1, 0, 0, 1, 1, 1, 0, 1, 1, 0, 1, 0, 1, 0, 0, 0,\n",
       "       0, 0, 1, 1, 0, 0, 0, 1, 0, 0, 1, 0, 0, 0, 0, 1, 1, 0, 0, 1, 1, 1,\n",
       "       0, 0, 0, 0, 0, 0, 1, 0, 0, 0, 0, 0, 1, 1, 1, 0, 0, 1, 0, 0, 0, 0,\n",
       "       0, 0, 0, 0, 0, 0, 0, 0, 1, 0, 0, 0, 0, 1, 0, 0, 0, 0, 0, 0, 0, 0,\n",
       "       0, 0, 0, 1, 0, 0, 1, 0, 1, 0, 0, 1, 1, 1, 0, 0, 1, 1, 0, 0, 0, 0,\n",
       "       0, 0, 0, 1, 1, 0, 0, 0, 0, 1, 0, 0, 1, 0, 1, 0, 0, 1, 1, 1, 1, 0,\n",
       "       0, 0, 0, 1, 0, 0, 0, 0, 1, 1, 0, 1, 0, 0, 0, 0, 0, 1, 0, 0, 0, 0,\n",
       "       0, 0, 0, 0, 0, 1, 0, 1, 0, 1, 0, 1, 1, 1, 0, 0, 1, 1, 0, 0, 0, 0,\n",
       "       0, 0, 0, 0, 0, 1, 0, 0, 0, 0, 0, 0, 0, 1, 0, 0, 0, 1, 1, 0, 0, 1,\n",
       "       1, 0, 0, 1, 0, 0, 0, 0, 0, 0, 1, 0, 0, 0, 1, 0, 0, 1, 0, 1, 0, 0,\n",
       "       0, 1, 1, 0, 0, 1, 0, 1, 1, 1, 0, 0, 0, 0, 0, 1, 0, 0, 0])"
      ]
     },
     "execution_count": 23,
     "metadata": {},
     "output_type": "execute_result"
    }
   ],
   "source": [
    "# Realizar predicciones en el conjunto de entrenamiento utilizando el modelo de regresión logística.\n",
    "# La expresión (modelo.predict(X_train) > .5) convierte las probabilidades de predicción en etiquetas binarias (0 o 1),\n",
    "# y .astype(int) asegura que las etiquetas se representen como enteros.\n",
    "prediccion = (modelo.predict(X_train) > .5).astype(int)\n",
    "\n",
    "# Mostrar las predicciones resultantes.\n",
    "prediccion"
   ]
  },
  {
   "cell_type": "code",
   "execution_count": 24,
   "metadata": {},
   "outputs": [
    {
     "data": {
      "text/html": [
       "<div>\n",
       "<style scoped>\n",
       "    .dataframe tbody tr th:only-of-type {\n",
       "        vertical-align: middle;\n",
       "    }\n",
       "\n",
       "    .dataframe tbody tr th {\n",
       "        vertical-align: top;\n",
       "    }\n",
       "\n",
       "    .dataframe thead th {\n",
       "        text-align: right;\n",
       "    }\n",
       "</style>\n",
       "<table border=\"1\" class=\"dataframe\">\n",
       "  <thead>\n",
       "    <tr style=\"text-align: right;\">\n",
       "      <th></th>\n",
       "    </tr>\n",
       "  </thead>\n",
       "  <tbody>\n",
       "  </tbody>\n",
       "</table>\n",
       "</div>"
      ],
      "text/plain": [
       "Empty DataFrame\n",
       "Columns: []\n",
       "Index: []"
      ]
     },
     "execution_count": 24,
     "metadata": {},
     "output_type": "execute_result"
    }
   ],
   "source": [
    "import pandas as pd\n",
    "df = pd.DataFrame()\n",
    "df"
   ]
  },
  {
   "cell_type": "code",
   "execution_count": 82,
   "metadata": {},
   "outputs": [
    {
     "data": {
      "text/html": [
       "<div>\n",
       "<style scoped>\n",
       "    .dataframe tbody tr th:only-of-type {\n",
       "        vertical-align: middle;\n",
       "    }\n",
       "\n",
       "    .dataframe tbody tr th {\n",
       "        vertical-align: top;\n",
       "    }\n",
       "\n",
       "    .dataframe thead th {\n",
       "        text-align: right;\n",
       "    }\n",
       "</style>\n",
       "<table border=\"1\" class=\"dataframe\">\n",
       "  <thead>\n",
       "    <tr style=\"text-align: right;\">\n",
       "      <th></th>\n",
       "      <th>Pregnancies</th>\n",
       "      <th>Glucose</th>\n",
       "      <th>BloodPressure</th>\n",
       "      <th>SkinThickness</th>\n",
       "      <th>Insulin</th>\n",
       "      <th>BMI</th>\n",
       "      <th>DiabetesPedigreeFunction</th>\n",
       "      <th>Age</th>\n",
       "      <th>Outcome</th>\n",
       "    </tr>\n",
       "  </thead>\n",
       "  <tbody>\n",
       "    <tr>\n",
       "      <th>0</th>\n",
       "      <td>6</td>\n",
       "      <td>148</td>\n",
       "      <td>72</td>\n",
       "      <td>35</td>\n",
       "      <td>0</td>\n",
       "      <td>33.6</td>\n",
       "      <td>0.627</td>\n",
       "      <td>50</td>\n",
       "      <td>1</td>\n",
       "    </tr>\n",
       "    <tr>\n",
       "      <th>1</th>\n",
       "      <td>1</td>\n",
       "      <td>85</td>\n",
       "      <td>66</td>\n",
       "      <td>29</td>\n",
       "      <td>0</td>\n",
       "      <td>26.6</td>\n",
       "      <td>0.351</td>\n",
       "      <td>31</td>\n",
       "      <td>0</td>\n",
       "    </tr>\n",
       "    <tr>\n",
       "      <th>2</th>\n",
       "      <td>8</td>\n",
       "      <td>183</td>\n",
       "      <td>64</td>\n",
       "      <td>0</td>\n",
       "      <td>0</td>\n",
       "      <td>23.3</td>\n",
       "      <td>0.672</td>\n",
       "      <td>32</td>\n",
       "      <td>1</td>\n",
       "    </tr>\n",
       "    <tr>\n",
       "      <th>3</th>\n",
       "      <td>1</td>\n",
       "      <td>89</td>\n",
       "      <td>66</td>\n",
       "      <td>23</td>\n",
       "      <td>94</td>\n",
       "      <td>28.1</td>\n",
       "      <td>0.167</td>\n",
       "      <td>21</td>\n",
       "      <td>0</td>\n",
       "    </tr>\n",
       "    <tr>\n",
       "      <th>4</th>\n",
       "      <td>0</td>\n",
       "      <td>137</td>\n",
       "      <td>40</td>\n",
       "      <td>35</td>\n",
       "      <td>168</td>\n",
       "      <td>43.1</td>\n",
       "      <td>2.288</td>\n",
       "      <td>33</td>\n",
       "      <td>1</td>\n",
       "    </tr>\n",
       "  </tbody>\n",
       "</table>\n",
       "</div>"
      ],
      "text/plain": [
       "   Pregnancies  Glucose  BloodPressure  SkinThickness  Insulin   BMI  \\\n",
       "0            6      148             72             35        0  33.6   \n",
       "1            1       85             66             29        0  26.6   \n",
       "2            8      183             64              0        0  23.3   \n",
       "3            1       89             66             23       94  28.1   \n",
       "4            0      137             40             35      168  43.1   \n",
       "\n",
       "   DiabetesPedigreeFunction  Age  Outcome  \n",
       "0                     0.627   50        1  \n",
       "1                     0.351   31        0  \n",
       "2                     0.672   32        1  \n",
       "3                     0.167   21        0  \n",
       "4                     2.288   33        1  "
      ]
     },
     "execution_count": 82,
     "metadata": {},
     "output_type": "execute_result"
    }
   ],
   "source": [
    "df = pd.read_csv('diabetes.csv')\n",
    "df.head()"
   ]
  },
  {
   "cell_type": "markdown",
   "metadata": {},
   "source": [
    "- Pregnancies: Número de embarazos.\n",
    "\n",
    "- Glucose: Concentración de glucosa en plasma a 2 horas en una prueba de tolerancia a la glucosa oral.\n",
    "\n",
    "- BloodPressure: Presión arterial diastólica (mm Hg).\n",
    "\n",
    "- SkinThickness: Grosor del pliegue cutáneo del tríceps (mm).\n",
    "\n",
    "- Insulin: Nivel de insulina sérica (mu U/ml).\n",
    "\n",
    "- BMI (Body Mass Index): Índice de masa corporal.\n",
    "\n",
    "- DiabetesPedigreeFunction: Función de pedigrí de diabetes, que proporciona una medida de la predisposición genética a la diabetes según el historial familiar.\n",
    "\n",
    "- Age: Edad de la persona.\n",
    "\n",
    "- Outcome: Variable objetivo que indica la presencia (1) o ausencia (0) de diabetes.\n"
   ]
  },
  {
   "cell_type": "code",
   "execution_count": 26,
   "metadata": {},
   "outputs": [
    {
     "data": {
      "text/html": [
       "<div>\n",
       "<style scoped>\n",
       "    .dataframe tbody tr th:only-of-type {\n",
       "        vertical-align: middle;\n",
       "    }\n",
       "\n",
       "    .dataframe tbody tr th {\n",
       "        vertical-align: top;\n",
       "    }\n",
       "\n",
       "    .dataframe thead th {\n",
       "        text-align: right;\n",
       "    }\n",
       "</style>\n",
       "<table border=\"1\" class=\"dataframe\">\n",
       "  <thead>\n",
       "    <tr style=\"text-align: right;\">\n",
       "      <th></th>\n",
       "    </tr>\n",
       "  </thead>\n",
       "  <tbody>\n",
       "  </tbody>\n",
       "</table>\n",
       "</div>"
      ],
      "text/plain": [
       "Empty DataFrame\n",
       "Columns: []\n",
       "Index: []"
      ]
     },
     "execution_count": 26,
     "metadata": {},
     "output_type": "execute_result"
    }
   ],
   "source": [
    "import pandas as pd\n",
    "df = pd.DataFrame()\n",
    "df"
   ]
  },
  {
   "cell_type": "code",
   "execution_count": 27,
   "metadata": {},
   "outputs": [
    {
     "data": {
      "text/html": [
       "<div>\n",
       "<style scoped>\n",
       "    .dataframe tbody tr th:only-of-type {\n",
       "        vertical-align: middle;\n",
       "    }\n",
       "\n",
       "    .dataframe tbody tr th {\n",
       "        vertical-align: top;\n",
       "    }\n",
       "\n",
       "    .dataframe thead th {\n",
       "        text-align: right;\n",
       "    }\n",
       "</style>\n",
       "<table border=\"1\" class=\"dataframe\">\n",
       "  <thead>\n",
       "    <tr style=\"text-align: right;\">\n",
       "      <th></th>\n",
       "      <th>edad</th>\n",
       "      <th>genero</th>\n",
       "      <th>presion</th>\n",
       "      <th>colesterol</th>\n",
       "      <th>diabetico</th>\n",
       "      <th>cardiaco</th>\n",
       "    </tr>\n",
       "  </thead>\n",
       "  <tbody>\n",
       "    <tr>\n",
       "      <th>0</th>\n",
       "      <td>53</td>\n",
       "      <td>0</td>\n",
       "      <td>128</td>\n",
       "      <td>216</td>\n",
       "      <td>0</td>\n",
       "      <td>1</td>\n",
       "    </tr>\n",
       "    <tr>\n",
       "      <th>1</th>\n",
       "      <td>53</td>\n",
       "      <td>0</td>\n",
       "      <td>138</td>\n",
       "      <td>234</td>\n",
       "      <td>0</td>\n",
       "      <td>1</td>\n",
       "    </tr>\n",
       "    <tr>\n",
       "      <th>2</th>\n",
       "      <td>51</td>\n",
       "      <td>0</td>\n",
       "      <td>130</td>\n",
       "      <td>256</td>\n",
       "      <td>0</td>\n",
       "      <td>1</td>\n",
       "    </tr>\n",
       "    <tr>\n",
       "      <th>3</th>\n",
       "      <td>66</td>\n",
       "      <td>1</td>\n",
       "      <td>120</td>\n",
       "      <td>302</td>\n",
       "      <td>0</td>\n",
       "      <td>1</td>\n",
       "    </tr>\n",
       "    <tr>\n",
       "      <th>4</th>\n",
       "      <td>62</td>\n",
       "      <td>1</td>\n",
       "      <td>130</td>\n",
       "      <td>231</td>\n",
       "      <td>0</td>\n",
       "      <td>1</td>\n",
       "    </tr>\n",
       "  </tbody>\n",
       "</table>\n",
       "</div>"
      ],
      "text/plain": [
       "   edad  genero  presion  colesterol  diabetico  cardiaco\n",
       "0    53       0      128         216          0         1\n",
       "1    53       0      138         234          0         1\n",
       "2    51       0      130         256          0         1\n",
       "3    66       1      120         302          0         1\n",
       "4    62       1      130         231          0         1"
      ]
     },
     "execution_count": 27,
     "metadata": {},
     "output_type": "execute_result"
    }
   ],
   "source": [
    "df = pd.read_csv('problemas_del_corazon.csv')\n",
    "df.head()"
   ]
  },
  {
   "cell_type": "markdown",
   "metadata": {},
   "source": [
    "- Edad:Representa la edad de una persona.\n",
    "- Género: Indica el género o sexo de una persona. Medida: Categórica (por ejemplo, masculino/femenino).\n",
    "- Presión: Presión arterial, que mide la presión de la sangre contra las paredes de las arterias. Medida: Milímetros de mercurio (mm Hg).\n",
    "- Colesterol: Niveles de colesterol en la sangre, que incluyen el colesterol LDL (colesterol \"malo\") y el colesterol HDL (colesterol \"bueno\"). Medida: Miligramos por decilitro (mg/dL).\n",
    "- Diabético: Indica si una persona es diabética o no. Medida: Binaria (por ejemplo, 1 para diabético, 0 para no diabético). \n",
    "- Cardíaco: Indica si una persona tiene una condición cardíaca o no. Medida: Binaria (por ejemplo, 1 para con condición cardíaca, 0 para sin condición cardíaca)."
   ]
  }
 ],
 "metadata": {
  "kernelspec": {
   "display_name": "Python 3 (ipykernel)",
   "language": "python",
   "name": "python3"
  },
  "language_info": {
   "codemirror_mode": {
    "name": "ipython",
    "version": 3
   },
   "file_extension": ".py",
   "mimetype": "text/x-python",
   "name": "python",
   "nbconvert_exporter": "python",
   "pygments_lexer": "ipython3",
   "version": "3.11.3"
  }
 },
 "nbformat": 4,
 "nbformat_minor": 4
}
